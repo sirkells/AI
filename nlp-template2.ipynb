{
 "cells": [
  {
   "cell_type": "raw",
   "metadata": {},
   "source": [
    "\"\"\"\n",
    "Approaching (Almost) Any NLP Problem\n",
    "In this post I'll talk about approaching natural language processing task. As an example, we will use the data from the spooky author identification. We will create a very basic first model first and then improve it using different other features. We will also see how deep neural networks can be used and end this post with some ideas about ensembling in general.\n",
    "\n",
    "This covers:\n",
    "tfidf\n",
    "count features\n",
    "logistic regression\n",
    "naive bayes\n",
    "svm\n",
    "xgboost\n",
    "grid search\n",
    "word vectors\n",
    "LSTM\n",
    "GRU\n",
    "Ensembling\n",
    "\n",
    "The problem requires us to predict the author, i.e. EAP, HPL and MWS given the text. In simpler words, text classification with 3 different classes.\n",
    "\n",
    "For this particular problem, Kaggle has specified multi-class log-loss as evaluation metric.\n",
    "\"\"\""
   ]
  },
  {
   "cell_type": "code",
   "execution_count": 75,
   "metadata": {},
   "outputs": [],
   "source": [
    "import pandas as pd\n",
    "import numpy as np\n",
    "from xgboost import XGBClassifier\n",
    "from tqdm import tqdm\n",
    "\n",
    "from tensorflow.keras.utils import to_categorical\n",
    "from tensorflow.keras.models import Sequential, load_model\n",
    "from tensorflow.keras.layers import LSTM, GRU, Dense, Activation, Dropout, Embedding, BatchNormalization, GlobalAvgPool1D\n",
    "from tensorflow.keras.layers import GlobalMaxPooling1D, Conv1D, MaxPooling1D, Flatten, Bidirectional, SpatialDropout1D\n",
    "from tensorflow.keras.preprocessing.sequence import pad_sequences\n",
    "from tensorflow.keras.preprocessing.text import Tokenizer\n",
    "from tensorflow.keras.callbacks import EarlyStopping, ModelCheckpoint\n",
    "\n",
    "from sklearn.svm import SVC\n",
    "from sklearn import model_selection, metrics, pipeline\n",
    "from sklearn.decomposition import TruncatedSVD\n",
    "from sklearn.preprocessing import LabelEncoder, StandardScaler\n",
    "from sklearn.model_selection import GridSearchCV\n",
    "from sklearn.feature_extraction.text import TfidfVectorizer, CountVectorizer\n",
    "from sklearn.decomposition import TruncatedSVD\n",
    "from sklearn.linear_model import LogisticRegression\n",
    "from sklearn.model_selection import train_test_split\n",
    "from sklearn.naive_bayes import MultinomialNB\n",
    "\n",
    "from matplotlib import pyplot\n",
    "import seaborn as sns\n",
    "\n",
    "from nltk.stem import PorterStemmer \n",
    "from nltk import word_tokenize\n",
    "from nltk.corpus import stopwords\n",
    "stop_words = stopwords.words('english')"
   ]
  },
  {
   "cell_type": "code",
   "execution_count": 2,
   "metadata": {},
   "outputs": [],
   "source": [
    "def multiclass_logloss(actual, predicted, eps=1e-15):\n",
    "    \"\"\"Multi class version of Logarithmic Loss metric.\n",
    "    :param actual: Array containing the actual target classes\n",
    "    :param predicted: Matrix with class predictions, one probability per class\n",
    "    \"\"\"\n",
    "    # Convert 'actual' to a binary array if it's not already:\n",
    "    if len(actual.shape) == 1:\n",
    "        actual2 = np.zeros((actual.shape[0], predicted.shape[1]))\n",
    "        for i, val in enumerate(actual):\n",
    "            actual2[i, val] = 1\n",
    "        actual = actual2\n",
    "\n",
    "    clip = np.clip(predicted, eps, 1 - eps)\n",
    "    rows = actual.shape[0]\n",
    "    vsota = np.sum(actual * np.log(clip))\n",
    "    return -1.0 / rows * vsota"
   ]
  },
  {
   "cell_type": "code",
   "execution_count": 3,
   "metadata": {},
   "outputs": [
    {
     "data": {
      "text/html": [
       "<div>\n",
       "<style scoped>\n",
       "    .dataframe tbody tr th:only-of-type {\n",
       "        vertical-align: middle;\n",
       "    }\n",
       "\n",
       "    .dataframe tbody tr th {\n",
       "        vertical-align: top;\n",
       "    }\n",
       "\n",
       "    .dataframe thead th {\n",
       "        text-align: right;\n",
       "    }\n",
       "</style>\n",
       "<table border=\"1\" class=\"dataframe\">\n",
       "  <thead>\n",
       "    <tr style=\"text-align: right;\">\n",
       "      <th></th>\n",
       "      <th>id</th>\n",
       "      <th>text</th>\n",
       "      <th>author</th>\n",
       "    </tr>\n",
       "  </thead>\n",
       "  <tbody>\n",
       "    <tr>\n",
       "      <th>0</th>\n",
       "      <td>id26305</td>\n",
       "      <td>This process, however, afforded me no means of...</td>\n",
       "      <td>EAP</td>\n",
       "    </tr>\n",
       "    <tr>\n",
       "      <th>1</th>\n",
       "      <td>id17569</td>\n",
       "      <td>It never once occurred to me that the fumbling...</td>\n",
       "      <td>HPL</td>\n",
       "    </tr>\n",
       "    <tr>\n",
       "      <th>2</th>\n",
       "      <td>id11008</td>\n",
       "      <td>In his left hand was a gold snuff box, from wh...</td>\n",
       "      <td>EAP</td>\n",
       "    </tr>\n",
       "    <tr>\n",
       "      <th>3</th>\n",
       "      <td>id27763</td>\n",
       "      <td>How lovely is spring As we looked from Windsor...</td>\n",
       "      <td>MWS</td>\n",
       "    </tr>\n",
       "    <tr>\n",
       "      <th>4</th>\n",
       "      <td>id12958</td>\n",
       "      <td>Finding nothing else, not even gold, the Super...</td>\n",
       "      <td>HPL</td>\n",
       "    </tr>\n",
       "  </tbody>\n",
       "</table>\n",
       "</div>"
      ],
      "text/plain": [
       "        id                                               text author\n",
       "0  id26305  This process, however, afforded me no means of...    EAP\n",
       "1  id17569  It never once occurred to me that the fumbling...    HPL\n",
       "2  id11008  In his left hand was a gold snuff box, from wh...    EAP\n",
       "3  id27763  How lovely is spring As we looked from Windsor...    MWS\n",
       "4  id12958  Finding nothing else, not even gold, the Super...    HPL"
      ]
     },
     "execution_count": 3,
     "metadata": {},
     "output_type": "execute_result"
    }
   ],
   "source": [
    "train_data = pd.read_csv('data/spooky-company/train.csv')\n",
    "test_data = pd.read_csv('data/spooky-company/test.csv')\n",
    "train_data.head()"
   ]
  },
  {
   "cell_type": "code",
   "execution_count": 4,
   "metadata": {},
   "outputs": [
    {
     "data": {
      "text/plain": [
       "((19579, 3), (8392, 2))"
      ]
     },
     "execution_count": 4,
     "metadata": {},
     "output_type": "execute_result"
    }
   ],
   "source": [
    "train_data.shape, test_data.shape"
   ]
  },
  {
   "cell_type": "markdown",
   "metadata": {},
   "source": [
    "# 1. Label Encode Category "
   ]
  },
  {
   "cell_type": "code",
   "execution_count": 5,
   "metadata": {},
   "outputs": [],
   "source": [
    "# Category to integers from 0,1,2\n",
    "label_encoder = LabelEncoder()\n",
    "train_label = train_data.author.values\n",
    "y = label_encoder.fit_transform(train_label)"
   ]
  },
  {
   "cell_type": "code",
   "execution_count": 6,
   "metadata": {},
   "outputs": [
    {
     "data": {
      "text/plain": [
       "array(['EAP', 'HPL', 'EAP', ..., 'EAP', 'EAP', 'HPL'], dtype=object)"
      ]
     },
     "execution_count": 6,
     "metadata": {},
     "output_type": "execute_result"
    }
   ],
   "source": [
    "train_label"
   ]
  },
  {
   "cell_type": "code",
   "execution_count": 7,
   "metadata": {},
   "outputs": [
    {
     "data": {
      "text/plain": [
       "<matplotlib.axes._subplots.AxesSubplot at 0x7f782298ce48>"
      ]
     },
     "execution_count": 7,
     "metadata": {},
     "output_type": "execute_result"
    },
    {
     "data": {
      "image/png": "[encoded data removed]",
      "text/plain": [
       "<Figure size 432x288 with 1 Axes>"
      ]
     },
     "metadata": {
      "needs_background": "light"
     },
     "output_type": "display_data"
    }
   ],
   "source": [
    "sns.countplot(x='author', data=train_data)"
   ]
  },
  {
   "cell_type": "code",
   "execution_count": 8,
   "metadata": {},
   "outputs": [
    {
     "data": {
      "text/plain": [
       "EAP    7900\n",
       "MWS    6044\n",
       "HPL    5635\n",
       "Name: author, dtype: int64"
      ]
     },
     "execution_count": 8,
     "metadata": {},
     "output_type": "execute_result"
    }
   ],
   "source": [
    "train_data.author.value_counts()"
   ]
  },
  {
   "cell_type": "code",
   "execution_count": 9,
   "metadata": {},
   "outputs": [],
   "source": [
    "X = train_data.text.values"
   ]
  },
  {
   "cell_type": "markdown",
   "metadata": {},
   "source": [
    "# 2. Split Dataset"
   ]
  },
  {
   "cell_type": "code",
   "execution_count": 85,
   "metadata": {},
   "outputs": [],
   "source": [
    "# Split set\n",
    "X_train, X_test, y_train, y_test = train_test_split(X, y, stratify=y, \n",
    "                                                      random_state=42, \n",
    "                                                      test_size=0.1,\n",
    "                                                     shuffle=True)"
   ]
  },
  {
   "cell_type": "code",
   "execution_count": 86,
   "metadata": {},
   "outputs": [
    {
     "data": {
      "text/plain": [
       "((17621,), (17621,), (1958,), (1958,))"
      ]
     },
     "execution_count": 86,
     "metadata": {},
     "output_type": "execute_result"
    }
   ],
   "source": [
    "X_train.shape, y_train.shape, X_test.shape, y_test.shape"
   ]
  },
  {
   "cell_type": "markdown",
   "metadata": {},
   "source": [
    "# 3. Basic Model"
   ]
  },
  {
   "cell_type": "code",
   "execution_count": 87,
   "metadata": {},
   "outputs": [],
   "source": [
    "def vectorise(vector, X_train, X_valid):\n",
    "    # Fitting TF-IDF to both training and test sets (semi-supervised learning)\n",
    "    vector.fit(list(X_train) + list(X_valid))\n",
    "    xtrain_vec =  vector.transform(X_train) \n",
    "    xvalid_vec = vector.transform(X_valid)\n",
    "    return xtrain_vec, xvalid_vec\n"
   ]
  },
  {
   "cell_type": "code",
   "execution_count": 88,
   "metadata": {},
   "outputs": [],
   "source": [
    "def train_predict(xtrain_vec, xvalid_vec, y_train, clf):\n",
    "    # Fitting a simple Logistic Regression on TFIDF\n",
    "    clf.fit(xtrain_vec, y_train)\n",
    "    predictions = clf.predict_proba(xvalid_vec)\n",
    "    print(\"logloss: %0.3f \" % multiclass_logloss(y_valid, predictions))\n"
   ]
  },
  {
   "cell_type": "code",
   "execution_count": 89,
   "metadata": {},
   "outputs": [],
   "source": [
    "# Using TFIDF\n",
    "tfidf = TfidfVectorizer(min_df=3,  max_features=None, \n",
    "            strip_accents='unicode', analyzer='word',token_pattern=r'\\w{1,}',\n",
    "            ngram_range=(1, 3), use_idf=1,smooth_idf=1,sublinear_tf=1,\n",
    "            stop_words = 'english')"
   ]
  },
  {
   "cell_type": "code",
   "execution_count": 90,
   "metadata": {},
   "outputs": [],
   "source": [
    "# Using CV\n",
    "ctv = CountVectorizer(analyzer='word',token_pattern=r'\\w{1,}',\n",
    "            ngram_range=(1, 3), stop_words = 'english')"
   ]
  },
  {
   "cell_type": "code",
   "execution_count": 91,
   "metadata": {},
   "outputs": [],
   "source": [
    "x_tfidf,v_tfidf = vectorise(tfidf,X_train, X_valid)"
   ]
  },
  {
   "cell_type": "code",
   "execution_count": 92,
   "metadata": {},
   "outputs": [],
   "source": [
    "x_ctv,v_ctv = vectorise(ctv,X_train, X_valid)"
   ]
  },
  {
   "cell_type": "markdown",
   "metadata": {},
   "source": [
    "# 3.1 Logistic Regression"
   ]
  },
  {
   "cell_type": "code",
   "execution_count": 20,
   "metadata": {},
   "outputs": [],
   "source": [
    "clf = LogisticRegression(C=1.0)"
   ]
  },
  {
   "cell_type": "code",
   "execution_count": 21,
   "metadata": {},
   "outputs": [
    {
     "name": "stdout",
     "output_type": "stream",
     "text": [
      "logloss: 0.585 \n"
     ]
    }
   ],
   "source": [
    "# TFIDF\n",
    "train_predict(x_tfidf,v_tfidf,y_train, clf)"
   ]
  },
  {
   "cell_type": "raw",
   "metadata": {},
   "source": [
    "And there we go. We have our first model \n",
    "with a multiclass logloss of 0.626.\n",
    "\n",
    "But we are greedy and want a better score. \n",
    "Lets look at the same model with a different data.\n",
    "\n",
    "Instead of using TF-IDF, we can also use word counts as features. \n",
    "This can be done easily using CountVectorizer from scikit-learn."
   ]
  },
  {
   "cell_type": "code",
   "execution_count": 22,
   "metadata": {},
   "outputs": [
    {
     "name": "stdout",
     "output_type": "stream",
     "text": [
      "logloss: 0.540 \n"
     ]
    },
    {
     "name": "stderr",
     "output_type": "stream",
     "text": [
      "/usr/local/lib/python3.6/dist-packages/sklearn/linear_model/_logistic.py:940: ConvergenceWarning: lbfgs failed to converge (status=1):\n",
      "STOP: TOTAL NO. of ITERATIONS REACHED LIMIT.\n",
      "\n",
      "Increase the number of iterations (max_iter) or scale the data as shown in:\n",
      "    https://scikit-learn.org/stable/modules/preprocessing.html\n",
      "Please also refer to the documentation for alternative solver options:\n",
      "    https://scikit-learn.org/stable/modules/linear_model.html#logistic-regression\n",
      "  extra_warning_msg=_LOGISTIC_SOLVER_CONVERGENCE_MSG)\n"
     ]
    }
   ],
   "source": [
    "# CV\n",
    "train_predict(x_ctv,v_ctv,y_train, clf)"
   ]
  },
  {
   "cell_type": "raw",
   "metadata": {},
   "source": [
    "Our model was improved using Count vectorizer"
   ]
  },
  {
   "cell_type": "markdown",
   "metadata": {},
   "source": [
    "# 3.2 Using Naive base"
   ]
  },
  {
   "cell_type": "code",
   "execution_count": 23,
   "metadata": {},
   "outputs": [],
   "source": [
    "clf = MultinomialNB()"
   ]
  },
  {
   "cell_type": "code",
   "execution_count": 24,
   "metadata": {},
   "outputs": [
    {
     "name": "stdout",
     "output_type": "stream",
     "text": [
      "logloss: 0.588 \n"
     ]
    }
   ],
   "source": [
    "# TFIDF\n",
    "train_predict(x_tfidf,v_tfidf,y_train, clf)"
   ]
  },
  {
   "cell_type": "code",
   "execution_count": 25,
   "metadata": {},
   "outputs": [
    {
     "name": "stdout",
     "output_type": "stream",
     "text": [
      "logloss: 0.491 \n"
     ]
    }
   ],
   "source": [
    "# CV\n",
    "train_predict(x_ctv,v_ctv,y_train, clf)"
   ]
  },
  {
   "cell_type": "code",
   "execution_count": 26,
   "metadata": {},
   "outputs": [],
   "source": [
    "# NB does better with the CV data"
   ]
  },
  {
   "cell_type": "markdown",
   "metadata": {},
   "source": [
    "# 3.3 SVM"
   ]
  },
  {
   "cell_type": "code",
   "execution_count": 27,
   "metadata": {},
   "outputs": [],
   "source": [
    "# for svm we have to Apply SVD, I chose 120 components. \n",
    "# 120-200 components are good enough for SVM model.\n",
    "\n",
    "svd = TruncatedSVD(n_components=120)\n",
    "svd.fit(x_tfidf)\n",
    "xtrain_svd = svd.transform(x_tfidf)\n",
    "xvalid_svd = svd.transform(v_tfidf)\n",
    "\n",
    "# Scale the data obtained from SVD. Renaming variable to reuse without scaling.\n",
    "scl = StandardScaler()\n",
    "scl.fit(xtrain_svd)\n",
    "xtrain_svd_scl = scl.transform(xtrain_svd)\n",
    "xvalid_svd_scl = scl.transform(xvalid_svd)"
   ]
  },
  {
   "cell_type": "code",
   "execution_count": 22,
   "metadata": {},
   "outputs": [],
   "source": [
    "clf = SVC(C=1.0, probability=True) # since we need probabilities"
   ]
  },
  {
   "cell_type": "code",
   "execution_count": 67,
   "metadata": {},
   "outputs": [
    {
     "name": "stdout",
     "output_type": "stream",
     "text": [
      "logloss: 0.732 \n"
     ]
    }
   ],
   "source": [
    "train_predict(xtrain_svd_scl, xvalid_svd_scl, y_train, clf)"
   ]
  },
  {
   "cell_type": "code",
   "execution_count": 68,
   "metadata": {},
   "outputs": [],
   "source": [
    "# SVC doesnt do well on this problem"
   ]
  },
  {
   "cell_type": "markdown",
   "metadata": {},
   "source": [
    "# 3.4 XGB"
   ]
  },
  {
   "cell_type": "code",
   "execution_count": 70,
   "metadata": {},
   "outputs": [],
   "source": [
    "clf = XGBClassifier(max_depth=7, n_estimators=200, colsample_bytree=0.8, \n",
    "                        subsample=0.8, nthread=10, learning_rate=0.1)"
   ]
  },
  {
   "cell_type": "code",
   "execution_count": 71,
   "metadata": {},
   "outputs": [
    {
     "name": "stdout",
     "output_type": "stream",
     "text": [
      "logloss: 0.782 \n"
     ]
    }
   ],
   "source": [
    "# TFIDF\n",
    "train_predict(x_tfidf,v_tfidf,y_train, clf)"
   ]
  },
  {
   "cell_type": "code",
   "execution_count": 72,
   "metadata": {},
   "outputs": [
    {
     "name": "stdout",
     "output_type": "stream",
     "text": [
      "logloss: 0.773 \n"
     ]
    }
   ],
   "source": [
    "# CV\n",
    "train_predict(x_ctv,v_ctv,y_train, clf)"
   ]
  },
  {
   "cell_type": "code",
   "execution_count": 73,
   "metadata": {},
   "outputs": [],
   "source": [
    "# XGB also not doing well"
   ]
  },
  {
   "cell_type": "markdown",
   "metadata": {},
   "source": [
    "# 4. Grid Search"
   ]
  },
  {
   "cell_type": "raw",
   "metadata": {},
   "source": [
    "its a technique for hyperparameter optimization. \n",
    "Not so effective but can give good results \n",
    "if you know the grid you want to use. \n",
    "I specify the parameters that should usually be used in this post: \n",
    "http://blog.kaggle.com/2016/07/21/approaching-almost-any-machine-learning-problem-abhishek-thakur/ Please keep in mind that these are the parameters I usually use. There are many other methods of hyperparameter optimization which may or may not be as effective.\n",
    "\n",
    "In this section, I'll talk about grid search using logistic regression.\n",
    "\n",
    "Before starting with grid search we need to create a scoring function. \n",
    "This is accomplished using the make_scorer function of scikit-learn."
   ]
  },
  {
   "cell_type": "code",
   "execution_count": 74,
   "metadata": {},
   "outputs": [],
   "source": [
    "mll_scorer = metrics.make_scorer(multiclass_logloss, \n",
    "                                 greater_is_better=False, \n",
    "                                 needs_proba=True)"
   ]
  },
  {
   "cell_type": "raw",
   "metadata": {},
   "source": [
    "Next we need a pipeline. For demonstration here, \n",
    "i'll be using a pipeline consisting of SVD, scaling and then logistic regression\n",
    "Its better to understand with more modules in pipeline than just one ;)"
   ]
  },
  {
   "cell_type": "code",
   "execution_count": 75,
   "metadata": {},
   "outputs": [],
   "source": [
    "# Initialize SVD\n",
    "svd = TruncatedSVD()"
   ]
  },
  {
   "cell_type": "code",
   "execution_count": 76,
   "metadata": {},
   "outputs": [],
   "source": [
    "# Initialize the standard scaler \n",
    "scl = StandardScaler()"
   ]
  },
  {
   "cell_type": "code",
   "execution_count": 77,
   "metadata": {},
   "outputs": [],
   "source": [
    "# We will use logistic regression here..\n",
    "lr_model = LogisticRegression()"
   ]
  },
  {
   "cell_type": "code",
   "execution_count": 78,
   "metadata": {},
   "outputs": [],
   "source": [
    "# Create the pipeline \n",
    "clf = pipeline.Pipeline([('svd', svd),\n",
    "                         ('scl', scl),\n",
    "                         ('lr', lr_model)])"
   ]
  },
  {
   "cell_type": "code",
   "execution_count": 79,
   "metadata": {},
   "outputs": [],
   "source": [
    "param_grid = {'svd__n_components' : [120, 180],\n",
    "              'lr__C': [0.1, 1.0, 10], \n",
    "              'lr__penalty': ['l1', 'l2']}"
   ]
  },
  {
   "cell_type": "raw",
   "metadata": {},
   "source": [
    "So, for SVD we evaluate 120 and 180 components \n",
    "and for logistic regression we evaluate three different values of C \n",
    "with l1 and l2 penalty. We can now start grid search on these parameters."
   ]
  },
  {
   "cell_type": "code",
   "execution_count": 80,
   "metadata": {},
   "outputs": [],
   "source": [
    "# Initialize Grid Search Model\n",
    "model = GridSearchCV(estimator=clf, param_grid=param_grid, \n",
    "                     scoring=mll_scorer,verbose=10, n_jobs=-1, \n",
    "                     iid=True, refit=True, cv=2)"
   ]
  },
  {
   "cell_type": "code",
   "execution_count": 82,
   "metadata": {},
   "outputs": [
    {
     "name": "stdout",
     "output_type": "stream",
     "text": [
      "Fitting 2 folds for each of 12 candidates, totalling 24 fits\n"
     ]
    },
    {
     "name": "stderr",
     "output_type": "stream",
     "text": [
      "[Parallel(n_jobs=-1)]: Using backend LokyBackend with 8 concurrent workers.\n",
      "[Parallel(n_jobs=-1)]: Done   2 tasks      | elapsed:    5.1s\n",
      "[Parallel(n_jobs=-1)]: Done   9 tasks      | elapsed:    9.0s\n",
      "[Parallel(n_jobs=-1)]: Done  12 out of  24 | elapsed:   11.8s remaining:   11.8s\n",
      "[Parallel(n_jobs=-1)]: Done  15 out of  24 | elapsed:   13.0s remaining:    7.8s\n",
      "[Parallel(n_jobs=-1)]: Done  18 out of  24 | elapsed:   16.3s remaining:    5.4s\n",
      "[Parallel(n_jobs=-1)]: Done  21 out of  24 | elapsed:   17.4s remaining:    2.5s\n",
      "[Parallel(n_jobs=-1)]: Done  24 out of  24 | elapsed:   18.1s remaining:    0.0s\n",
      "[Parallel(n_jobs=-1)]: Done  24 out of  24 | elapsed:   18.1s finished\n",
      "/usr/local/lib/python3.6/dist-packages/sklearn/model_selection/_search.py:823: FutureWarning: The parameter 'iid' is deprecated in 0.22 and will be removed in 0.24.\n",
      "  \"removed in 0.24.\", FutureWarning\n"
     ]
    },
    {
     "data": {
      "text/plain": [
       "GridSearchCV(cv=2, error_score=nan,\n",
       "             estimator=Pipeline(memory=None,\n",
       "                                steps=[('svd',\n",
       "                                        TruncatedSVD(algorithm='randomized',\n",
       "                                                     n_components=2, n_iter=5,\n",
       "                                                     random_state=None,\n",
       "                                                     tol=0.0)),\n",
       "                                       ('scl',\n",
       "                                        StandardScaler(copy=True,\n",
       "                                                       with_mean=True,\n",
       "                                                       with_std=True)),\n",
       "                                       ('lr',\n",
       "                                        LogisticRegression(C=1.0,\n",
       "                                                           class_weight=None,\n",
       "                                                           dual=False,\n",
       "                                                           fit_intercept=True,\n",
       "                                                           intercept_scaling=1,\n",
       "                                                           l1_ratio=None,\n",
       "                                                           max_ite...\n",
       "                                                           random_state=None,\n",
       "                                                           solver='lbfgs',\n",
       "                                                           tol=0.0001,\n",
       "                                                           verbose=0,\n",
       "                                                           warm_start=False))],\n",
       "                                verbose=False),\n",
       "             iid=True, n_jobs=-1,\n",
       "             param_grid={'lr__C': [0.1, 1.0, 10], 'lr__penalty': ['l1', 'l2'],\n",
       "                         'svd__n_components': [120, 180]},\n",
       "             pre_dispatch='2*n_jobs', refit=True, return_train_score=False,\n",
       "             scoring=make_scorer(multiclass_logloss, greater_is_better=False, needs_proba=True),\n",
       "             verbose=10)"
      ]
     },
     "execution_count": 82,
     "metadata": {},
     "output_type": "execute_result"
    }
   ],
   "source": [
    "# Fit Grid Search Model\n",
    "model.fit(x_tfidf, y_train)  \n",
    "# we can use the full data here but im only using xtrain"
   ]
  },
  {
   "cell_type": "code",
   "execution_count": 83,
   "metadata": {},
   "outputs": [
    {
     "name": "stdout",
     "output_type": "stream",
     "text": [
      "Best score: -0.738\n",
      "Best parameters set:\n"
     ]
    }
   ],
   "source": [
    "print(\"Best score: %0.3f\" % model.best_score_)"
   ]
  },
  {
   "cell_type": "code",
   "execution_count": 84,
   "metadata": {},
   "outputs": [
    {
     "name": "stdout",
     "output_type": "stream",
     "text": [
      "Best parameters set:\n",
      "\tlr__C: 10\n",
      "\tlr__penalty: 'l2'\n",
      "\tsvd__n_components: 180\n"
     ]
    }
   ],
   "source": [
    "best_parameters = model.best_estimator_.get_params()\n",
    "print(\"Best parameters set:\")\n",
    "for param_name in sorted(param_grid.keys()):\n",
    "    print(\"\\t%s: %r\" % (param_name, best_parameters[param_name]))"
   ]
  },
  {
   "cell_type": "raw",
   "metadata": {},
   "source": [
    "The score comes similar to what we had for SVM. \n",
    "This technique can be used to finetune xgboost \n",
    "or even multinomial naive bayes as below. \n",
    "We will use the tfidf data here:"
   ]
  },
  {
   "cell_type": "code",
   "execution_count": 88,
   "metadata": {},
   "outputs": [
    {
     "name": "stdout",
     "output_type": "stream",
     "text": [
      "Fitting 2 folds for each of 6 candidates, totalling 12 fits\n",
      "Best score: -0.492\n",
      "Best parameters set:\n",
      "\tnb__alpha: 0.1\n"
     ]
    },
    {
     "name": "stderr",
     "output_type": "stream",
     "text": [
      "[Parallel(n_jobs=-1)]: Using backend LokyBackend with 8 concurrent workers.\n",
      "[Parallel(n_jobs=-1)]: Done   1 tasks      | elapsed:    0.0s\n",
      "[Parallel(n_jobs=-1)]: Batch computation too fast (0.0217s.) Setting batch_size=2.\n",
      "[Parallel(n_jobs=-1)]: Done   3 out of  12 | elapsed:    0.0s remaining:    0.1s\n",
      "[Parallel(n_jobs=-1)]: Done   5 out of  12 | elapsed:    0.1s remaining:    0.1s\n",
      "[Parallel(n_jobs=-1)]: Done   7 out of  12 | elapsed:    0.1s remaining:    0.1s\n",
      "[Parallel(n_jobs=-1)]: Done   9 out of  12 | elapsed:    0.1s remaining:    0.0s\n",
      "[Parallel(n_jobs=-1)]: Done  12 out of  12 | elapsed:    0.1s finished\n",
      "/usr/local/lib/python3.6/dist-packages/sklearn/model_selection/_search.py:823: FutureWarning: The parameter 'iid' is deprecated in 0.22 and will be removed in 0.24.\n",
      "  \"removed in 0.24.\", FutureWarning\n"
     ]
    }
   ],
   "source": [
    "nb_model = MultinomialNB()\n",
    "\n",
    "# Create the pipeline \n",
    "clf = pipeline.Pipeline([('nb', nb_model)])\n",
    "\n",
    "# parameter grid\n",
    "param_grid = {'nb__alpha': [0.001, 0.01, 0.1, 1, 10, 100]}\n",
    "\n",
    "# Initialize Grid Search Model\n",
    "model = GridSearchCV(estimator=clf, param_grid=param_grid, scoring=mll_scorer,\n",
    "                                 verbose=10, n_jobs=-1, iid=True, refit=True, cv=2)\n",
    "\n",
    "# Fit Grid Search Model\n",
    "model.fit(x_tfidf, y_train)  # we can use the full data here but im only using xtrain. \n",
    "print(\"Best score: %0.3f\" % model.best_score_)\n",
    "print(\"Best parameters set:\")\n",
    "best_parameters = model.best_estimator_.get_params()\n",
    "for param_name in sorted(param_grid.keys()):\n",
    "    print(\"\\t%s: %r\" % (param_name, best_parameters[param_name]))"
   ]
  },
  {
   "cell_type": "raw",
   "metadata": {},
   "source": [
    "This is an improvement of 8% over the original naive bayes score!"
   ]
  },
  {
   "cell_type": "markdown",
   "metadata": {},
   "source": [
    "# 5. Word Vectors"
   ]
  },
  {
   "cell_type": "raw",
   "metadata": {},
   "source": [
    "Without going into too much details, \n",
    "I would explain how to create sentence vectors \n",
    "and how can we use them to create a machine learning model on top of it. \n",
    "I am a fan of GloVe vectors, word2vec and fasttext. \n",
    "In this post, I'll be using the GloVe vectors. \n",
    "You can download the GloVe vectors from here \n",
    "http://www-nlp.stanford.edu/data/glove.840B.300d.zip"
   ]
  },
  {
   "cell_type": "code",
   "execution_count": 93,
   "metadata": {},
   "outputs": [],
   "source": [
    "# load the GloVe vectors in a dictionary: \n",
    "def loadGloveModel(gloveFile):\n",
    "    print(\"Loading Glove Model\")\n",
    "    with open(gloveFile,'r', encoding='utf8') as f:\n",
    "        embeddings = {}\n",
    "        for line in f:\n",
    "            splitLine = line.split()\n",
    "            word = splitLine[0]\n",
    "            embedding = np.asarray(splitLine[1:], dtype='float32')\n",
    "            embeddings[word] = embedding\n",
    "    print(\"Done.\",len(embeddings),\" words loaded!\")\n",
    "    return embeddings"
   ]
  },
  {
   "cell_type": "code",
   "execution_count": 29,
   "metadata": {},
   "outputs": [
    {
     "name": "stdout",
     "output_type": "stream",
     "text": [
      "Loading Glove Model\n",
      "Done. 1917495  words loaded!\n"
     ]
    }
   ],
   "source": [
    "glove_embeddings = loadGloveModel('pretrained-models/glove.42B.300d.txt')"
   ]
  },
  {
   "cell_type": "code",
   "execution_count": null,
   "metadata": {},
   "outputs": [],
   "source": [
    "import pickle\n",
    "with open('glove.6B.300d.pkl', 'wb') as fp:\n",
    "    pickle.dump(glove_embeddings, fp)"
   ]
  },
  {
   "cell_type": "code",
   "execution_count": 30,
   "metadata": {},
   "outputs": [],
   "source": [
    "# this function creates a normalized vector for the whole sentence\n",
    "def sent2vec(s):\n",
    "    words = str(s).lower()\n",
    "    words = word_tokenize(words)\n",
    "    words = [w for w in words if not w in stop_words]\n",
    "    words = [w for w in words if w.isalpha()]\n",
    "    M = []\n",
    "    for w in words:\n",
    "        try:\n",
    "            M.append(glove_embeddings[w])\n",
    "        except:\n",
    "            continue\n",
    "    M = np.array(M)\n",
    "    v = M.sum(axis=0)\n",
    "    if type(v) != np.ndarray:\n",
    "        return np.zeros(300)\n",
    "    return v / np.sqrt((v ** 2).sum())"
   ]
  },
  {
   "cell_type": "code",
   "execution_count": 94,
   "metadata": {},
   "outputs": [
    {
     "name": "stderr",
     "output_type": "stream",
     "text": [
      "100%|██████████| 17621/17621 [00:10<00:00, 1706.24it/s]\n",
      "100%|██████████| 1958/1958 [00:00<00:00, 2129.84it/s]\n"
     ]
    }
   ],
   "source": [
    "# create sentence vectors using the above function for training and validation set\n",
    "xtrain_glove = [sent2vec(x) for x in tqdm(X_train)]\n",
    "xtest_glove = [sent2vec(x) for x in tqdm(X_test)]"
   ]
  },
  {
   "cell_type": "code",
   "execution_count": 95,
   "metadata": {},
   "outputs": [],
   "source": [
    "xtrain_glove = np.array(xtrain_glove)\n",
    "xtest_glove = np.array(xtest_glove)"
   ]
  },
  {
   "cell_type": "code",
   "execution_count": 96,
   "metadata": {},
   "outputs": [],
   "source": [
    "# XGBoost on Glove\n",
    "# Fitting a simple xgboost on glove features\n",
    "clf = XGBClassifier(nthread=10, silent=False)"
   ]
  },
  {
   "cell_type": "code",
   "execution_count": 97,
   "metadata": {},
   "outputs": [
    {
     "name": "stdout",
     "output_type": "stream",
     "text": [
      "logloss: 0.749 \n"
     ]
    }
   ],
   "source": [
    "train_predict(xtrain_glove,xvalid_glove,y_train, clf)"
   ]
  },
  {
   "cell_type": "code",
   "execution_count": 98,
   "metadata": {},
   "outputs": [],
   "source": [
    "# Fine tuining parameters\n",
    "clf = XGBClassifier(max_depth=7, n_estimators=200, \n",
    "                        colsample_bytree=0.8, \n",
    "                        subsample=0.8, nthread=10, \n",
    "                        learning_rate=0.1, silent=False)"
   ]
  },
  {
   "cell_type": "code",
   "execution_count": 99,
   "metadata": {},
   "outputs": [
    {
     "name": "stdout",
     "output_type": "stream",
     "text": [
      "logloss: 0.726 \n"
     ]
    }
   ],
   "source": [
    "train_predict(xtrain_glove,xtest_glove,y_train, clf)"
   ]
  },
  {
   "cell_type": "code",
   "execution_count": null,
   "metadata": {},
   "outputs": [],
   "source": [
    "# We can see a slight improvement after tuining"
   ]
  },
  {
   "cell_type": "markdown",
   "metadata": {},
   "source": [
    "# 6. Deep Learning"
   ]
  },
  {
   "cell_type": "raw",
   "metadata": {},
   "source": [
    "Here, we will train LSTM and a simple dense network on the GloVe features.\n",
    "Let's start with the dense network first:"
   ]
  },
  {
   "cell_type": "code",
   "execution_count": 100,
   "metadata": {},
   "outputs": [],
   "source": [
    "# scale the data before any neural net:\n",
    "scl = StandardScaler()\n",
    "xtrain_glove_scl = scl.fit_transform(xtrain_glove)\n",
    "xtest_glove_scl = scl.transform(xtest_glove)"
   ]
  },
  {
   "cell_type": "code",
   "execution_count": 101,
   "metadata": {},
   "outputs": [],
   "source": [
    "# we need to binarize the labels for the neural net\n",
    "ytrain_enc = to_categorical(y_train)\n",
    "ytest_enc = to_categorical(y_test)"
   ]
  },
  {
   "cell_type": "code",
   "execution_count": 102,
   "metadata": {},
   "outputs": [
    {
     "data": {
      "text/plain": [
       "array([[0., 0., 1.],\n",
       "       [1., 0., 0.],\n",
       "       [0., 0., 1.],\n",
       "       [0., 1., 0.],\n",
       "       [0., 0., 1.],\n",
       "       [0., 0., 1.],\n",
       "       [0., 1., 0.],\n",
       "       [0., 0., 1.],\n",
       "       [0., 1., 0.],\n",
       "       [1., 0., 0.]], dtype=float32)"
      ]
     },
     "execution_count": 102,
     "metadata": {},
     "output_type": "execute_result"
    }
   ],
   "source": [
    "type(ytrain_enc)\n",
    "ytrain_enc[:10]"
   ]
  },
  {
   "cell_type": "markdown",
   "metadata": {},
   "source": [
    "# 6.1 LSTM"
   ]
  },
  {
   "cell_type": "code",
   "execution_count": 103,
   "metadata": {},
   "outputs": [],
   "source": [
    "# with LSTMs we need to tokenize the text data\n",
    "# using keras tokenizer here\n",
    "def tokenizer(text_data, keep=True):\n",
    "    token = Tokenizer(num_words=None)\n",
    "    #tokenize textx\n",
    "    token.fit_on_texts(text_data)\n",
    "    if keep:\n",
    "        return token\n",
    "    #remove less freq words\n",
    "    count_thres = 1\n",
    "    low_count_words = [w for w,c in token.word_counts.items() if c <= count_thres]\n",
    "    for w in low_count_words:\n",
    "        #print(w)\n",
    "        del token.word_index[w]\n",
    "        del token.word_docs[w]\n",
    "        del token.word_counts[w]\n",
    "    return token"
   ]
  },
  {
   "cell_type": "code",
   "execution_count": 104,
   "metadata": {},
   "outputs": [],
   "source": [
    "def create_pad_sequences(tokens, x, max_len=70):\n",
    "    # create sequences\n",
    "    x_seq = tokens.texts_to_sequences(x)\n",
    "    # zero pad the sequences\n",
    "    x_pad = pad_sequences(x_seq, maxlen=max_len)\n",
    "    return x_pad"
   ]
  },
  {
   "cell_type": "code",
   "execution_count": 105,
   "metadata": {},
   "outputs": [],
   "source": [
    "def filter_stop_words(train_sentences, stop_words):\n",
    "    ps = PorterStemmer()\n",
    "    for i, sentence in enumerate(train_sentences):\n",
    "        #print(sentence)\n",
    "        new_sent = [ps.stem(word) for word in sentence.split() if word not in stop_words and len(word)>1 \n",
    "                    and word.isalpha()]\n",
    "        train_sentences[i] = ' '.join(new_sent)\n",
    "    return train_sentences"
   ]
  },
  {
   "cell_type": "code",
   "execution_count": 106,
   "metadata": {},
   "outputs": [],
   "source": [
    "stop_words = set(stopwords.words(\"english\"))"
   ]
  },
  {
   "cell_type": "code",
   "execution_count": 107,
   "metadata": {},
   "outputs": [
    {
     "data": {
      "text/plain": [
       "(17621,)"
      ]
     },
     "execution_count": 107,
     "metadata": {},
     "output_type": "execute_result"
    }
   ],
   "source": [
    "X_train.shape"
   ]
  },
  {
   "cell_type": "raw",
   "metadata": {},
   "source": [
    "X_train_clean = filter_stop_words(X_train, stop_words)\n",
    "X_valid_clean = filter_stop_words(X_valid, stop_words)\n",
    "X_test_clean = filter_stop_words(X_test, stop_words)"
   ]
  },
  {
   "cell_type": "raw",
   "metadata": {},
   "source": [
    "X_train_clean.shape"
   ]
  },
  {
   "cell_type": "code",
   "execution_count": 108,
   "metadata": {},
   "outputs": [],
   "source": [
    "text_data = list(X_train)\n",
    "tokens = tokenizer(text_data)\n",
    "word_index = tokens.word_index"
   ]
  },
  {
   "cell_type": "code",
   "execution_count": 109,
   "metadata": {},
   "outputs": [
    {
     "data": {
      "text/plain": [
       "24788"
      ]
     },
     "execution_count": 109,
     "metadata": {},
     "output_type": "execute_result"
    }
   ],
   "source": [
    "len(tokens.word_counts)"
   ]
  },
  {
   "cell_type": "code",
   "execution_count": 110,
   "metadata": {},
   "outputs": [
    {
     "data": {
      "text/plain": [
       "24788"
      ]
     },
     "execution_count": 110,
     "metadata": {},
     "output_type": "execute_result"
    }
   ],
   "source": [
    "len(tokens.word_counts)"
   ]
  },
  {
   "cell_type": "code",
   "execution_count": 111,
   "metadata": {},
   "outputs": [],
   "source": [
    "xtrain_pad = create_pad_sequences(tokens, X_train)\n",
    "xtest_pad = create_pad_sequences(tokens, X_test)"
   ]
  },
  {
   "cell_type": "code",
   "execution_count": 120,
   "metadata": {},
   "outputs": [
    {
     "data": {
      "text/plain": [
       "(17621, 70)"
      ]
     },
     "execution_count": 120,
     "metadata": {},
     "output_type": "execute_result"
    }
   ],
   "source": [
    "xtrain_pad.shape"
   ]
  },
  {
   "cell_type": "code",
   "execution_count": 113,
   "metadata": {},
   "outputs": [
    {
     "data": {
      "text/plain": [
       "{'the': 1,\n",
       " 'of': 2,\n",
       " 'and': 3,\n",
       " 'to': 4,\n",
       " 'i': 5,\n",
       " 'a': 6,\n",
       " 'in': 7,\n",
       " 'was': 8,\n",
       " 'that': 9,\n",
       " 'my': 10,\n",
       " 'it': 11,\n",
       " 'had': 12,\n",
       " 'he': 13,\n",
       " 'with': 14,\n",
       " 'his': 15,\n",
       " 'as': 16,\n",
       " 'for': 17,\n",
       " 'which': 18,\n",
       " 'but': 19,\n",
       " 'not': 20,\n",
       " 'at': 21,\n",
       " 'me': 22,\n",
       " 'from': 23,\n",
       " 'by': 24,\n",
       " 'is': 25,\n",
       " 'this': 26,\n",
       " 'on': 27,\n",
       " 'be': 28,\n",
       " 'her': 29,\n",
       " 'were': 30,\n",
       " 'have': 31,\n",
       " 'all': 32,\n",
       " 'you': 33,\n",
       " 'we': 34,\n",
       " 'or': 35,\n",
       " 'no': 36,\n",
       " 'an': 37,\n",
       " 'one': 38,\n",
       " 'so': 39,\n",
       " 'him': 40,\n",
       " 'when': 41,\n",
       " 'been': 42,\n",
       " 'they': 43,\n",
       " 'upon': 44,\n",
       " 'there': 45,\n",
       " 'could': 46,\n",
       " 'she': 47,\n",
       " 'its': 48,\n",
       " 'more': 49,\n",
       " 'would': 50,\n",
       " 'now': 51,\n",
       " 'their': 52,\n",
       " 'what': 53,\n",
       " 'some': 54,\n",
       " 'our': 55,\n",
       " 'are': 56,\n",
       " 'into': 57,\n",
       " 'than': 58,\n",
       " 'will': 59,\n",
       " 'very': 60,\n",
       " 'if': 61,\n",
       " 'who': 62,\n",
       " 'only': 63,\n",
       " 'them': 64,\n",
       " 'then': 65,\n",
       " 'up': 66,\n",
       " 'before': 67,\n",
       " 'these': 68,\n",
       " 'about': 69,\n",
       " 'man': 70,\n",
       " 'any': 71,\n",
       " 'yet': 72,\n",
       " 'said': 73,\n",
       " 'did': 74,\n",
       " 'out': 75,\n",
       " 'even': 76,\n",
       " 'time': 77,\n",
       " 'your': 78,\n",
       " 'might': 79,\n",
       " 'after': 80,\n",
       " 'like': 81,\n",
       " 'must': 82,\n",
       " 'old': 83,\n",
       " 'first': 84,\n",
       " 'us': 85,\n",
       " 'most': 86,\n",
       " 'over': 87,\n",
       " 'through': 88,\n",
       " 'never': 89,\n",
       " 'other': 90,\n",
       " 'night': 91,\n",
       " 'do': 92,\n",
       " 'life': 93,\n",
       " 'such': 94,\n",
       " 'found': 95,\n",
       " 'made': 96,\n",
       " 'should': 97,\n",
       " 'eyes': 98,\n",
       " 'seemed': 99,\n",
       " 'those': 100,\n",
       " 'little': 101,\n",
       " 'while': 102,\n",
       " 'great': 103,\n",
       " 'still': 104,\n",
       " 'myself': 105,\n",
       " 'every': 106,\n",
       " 'long': 107,\n",
       " 'saw': 108,\n",
       " 'day': 109,\n",
       " 'has': 110,\n",
       " 'where': 111,\n",
       " 'many': 112,\n",
       " 'own': 113,\n",
       " 'well': 114,\n",
       " 'again': 115,\n",
       " 'came': 116,\n",
       " 'down': 117,\n",
       " 'much': 118,\n",
       " 'how': 119,\n",
       " 'thought': 120,\n",
       " 'may': 121,\n",
       " 'two': 122,\n",
       " 'can': 123,\n",
       " 'being': 124,\n",
       " 'see': 125,\n",
       " 'once': 126,\n",
       " 'say': 127,\n",
       " 'ever': 128,\n",
       " 'thus': 129,\n",
       " 'here': 130,\n",
       " 'whose': 131,\n",
       " 'am': 132,\n",
       " 'mind': 133,\n",
       " 'too': 134,\n",
       " 'heart': 135,\n",
       " 'death': 136,\n",
       " 'far': 137,\n",
       " 'without': 138,\n",
       " 'house': 139,\n",
       " 'heard': 140,\n",
       " 'shall': 141,\n",
       " 'things': 142,\n",
       " 'however': 143,\n",
       " 'left': 144,\n",
       " 'men': 145,\n",
       " 'thing': 146,\n",
       " 'felt': 147,\n",
       " 'place': 148,\n",
       " 'years': 149,\n",
       " 'love': 150,\n",
       " 'last': 151,\n",
       " 'know': 152,\n",
       " 'himself': 153,\n",
       " 'though': 154,\n",
       " 'indeed': 155,\n",
       " 'come': 156,\n",
       " 'few': 157,\n",
       " 'light': 158,\n",
       " 'world': 159,\n",
       " 'head': 160,\n",
       " 'back': 161,\n",
       " 'became': 162,\n",
       " 'earth': 163,\n",
       " 'way': 164,\n",
       " 'within': 165,\n",
       " 'having': 166,\n",
       " 'door': 167,\n",
       " 'room': 168,\n",
       " 'away': 169,\n",
       " 'hand': 170,\n",
       " 'words': 171,\n",
       " 'nor': 172,\n",
       " 'nothing': 173,\n",
       " 'let': 174,\n",
       " 'make': 175,\n",
       " 'strange': 176,\n",
       " 'length': 177,\n",
       " 'nature': 178,\n",
       " 'same': 179,\n",
       " 'whole': 180,\n",
       " 'seen': 181,\n",
       " 'human': 182,\n",
       " 'friend': 183,\n",
       " 'knew': 184,\n",
       " 'among': 185,\n",
       " 'soon': 186,\n",
       " 'voice': 187,\n",
       " 'each': 188,\n",
       " 'half': 189,\n",
       " 'under': 190,\n",
       " 'good': 191,\n",
       " 'three': 192,\n",
       " \"'\": 193,\n",
       " 'new': 194,\n",
       " 'beyond': 195,\n",
       " 'although': 196,\n",
       " 'part': 197,\n",
       " 'less': 198,\n",
       " 'during': 199,\n",
       " 'raymond': 200,\n",
       " 'moment': 201,\n",
       " 'alone': 202,\n",
       " 'since': 203,\n",
       " 'just': 204,\n",
       " 'another': 205,\n",
       " 'off': 206,\n",
       " 'soul': 207,\n",
       " 'almost': 208,\n",
       " 'gave': 209,\n",
       " 'near': 210,\n",
       " 'sea': 211,\n",
       " 'air': 212,\n",
       " 'took': 213,\n",
       " 'fear': 214,\n",
       " 'full': 215,\n",
       " 'young': 216,\n",
       " 'father': 217,\n",
       " 'dark': 218,\n",
       " 'something': 219,\n",
       " 'city': 220,\n",
       " 'above': 221,\n",
       " 'find': 222,\n",
       " 'looked': 223,\n",
       " 'around': 224,\n",
       " 'body': 225,\n",
       " 'small': 226,\n",
       " 'end': 227,\n",
       " 'why': 228,\n",
       " 'passed': 229,\n",
       " 'days': 230,\n",
       " 'told': 231,\n",
       " 'appeared': 232,\n",
       " 'went': 233,\n",
       " 'whom': 234,\n",
       " 'lay': 235,\n",
       " 'certain': 236,\n",
       " 'itself': 237,\n",
       " 'also': 238,\n",
       " 'face': 239,\n",
       " 'course': 240,\n",
       " 'dead': 241,\n",
       " 'open': 242,\n",
       " 'spirit': 243,\n",
       " 'perhaps': 244,\n",
       " 'point': 245,\n",
       " 'idea': 246,\n",
       " 'think': 247,\n",
       " 'horror': 248,\n",
       " 'mr': 249,\n",
       " 'until': 250,\n",
       " 'take': 251,\n",
       " \"an'\": 252,\n",
       " 'black': 253,\n",
       " 'go': 254,\n",
       " 'between': 255,\n",
       " 'water': 256,\n",
       " 'deep': 257,\n",
       " 'matter': 258,\n",
       " 'high': 259,\n",
       " 'form': 260,\n",
       " 'tell': 261,\n",
       " 'feet': 262,\n",
       " 'known': 263,\n",
       " 'hope': 264,\n",
       " 'look': 265,\n",
       " 'kind': 266,\n",
       " 'least': 267,\n",
       " 'manner': 268,\n",
       " 'cannot': 269,\n",
       " 'began': 270,\n",
       " 'name': 271,\n",
       " 'often': 272,\n",
       " 'street': 273,\n",
       " 'side': 274,\n",
       " 'because': 275,\n",
       " 'become': 276,\n",
       " 'turned': 277,\n",
       " 'right': 278,\n",
       " 'rather': 279,\n",
       " 'against': 280,\n",
       " 'lost': 281,\n",
       " 'always': 282,\n",
       " 'moon': 283,\n",
       " 'power': 284,\n",
       " 'towards': 285,\n",
       " 'sun': 286,\n",
       " 'home': 287,\n",
       " 'feel': 288,\n",
       " 'taken': 289,\n",
       " 'spoke': 290,\n",
       " 'ancient': 291,\n",
       " 'thousand': 292,\n",
       " 'hour': 293,\n",
       " 'scene': 294,\n",
       " 'people': 295,\n",
       " 'means': 296,\n",
       " 'brought': 297,\n",
       " 'eye': 298,\n",
       " 'nearly': 299,\n",
       " 'hours': 300,\n",
       " 'called': 301,\n",
       " 'both': 302,\n",
       " 'stood': 303,\n",
       " 'return': 304,\n",
       " 'morning': 305,\n",
       " 'sometimes': 306,\n",
       " 'present': 307,\n",
       " 'object': 308,\n",
       " 'fell': 309,\n",
       " 'put': 310,\n",
       " 'person': 311,\n",
       " 'de': 312,\n",
       " 'wild': 313,\n",
       " 'sound': 314,\n",
       " 'perdita': 315,\n",
       " 'fact': 316,\n",
       " 'hands': 317,\n",
       " 'general': 318,\n",
       " 'doubt': 319,\n",
       " 'country': 320,\n",
       " 'several': 321,\n",
       " 'large': 322,\n",
       " 'dreams': 323,\n",
       " 'second': 324,\n",
       " 'sight': 325,\n",
       " 'speak': 326,\n",
       " 'town': 327,\n",
       " 'beauty': 328,\n",
       " 'entered': 329,\n",
       " 'terrible': 330,\n",
       " 'set': 331,\n",
       " 'give': 332,\n",
       " 'suddenly': 333,\n",
       " 'done': 334,\n",
       " 'continued': 335,\n",
       " 'truth': 336,\n",
       " 'state': 337,\n",
       " 'grew': 338,\n",
       " 'white': 339,\n",
       " 'better': 340,\n",
       " 'true': 341,\n",
       " 'reason': 342,\n",
       " 'times': 343,\n",
       " 'longer': 344,\n",
       " 'already': 345,\n",
       " 'beneath': 346,\n",
       " 'work': 347,\n",
       " 'possible': 348,\n",
       " 'toward': 349,\n",
       " 'believe': 350,\n",
       " 'floor': 351,\n",
       " 'poor': 352,\n",
       " 'sleep': 353,\n",
       " 'close': 354,\n",
       " 'quite': 355,\n",
       " 'sense': 356,\n",
       " 'attention': 357,\n",
       " 'others': 358,\n",
       " 'thoughts': 359,\n",
       " 'trees': 360,\n",
       " 'word': 361,\n",
       " 'family': 362,\n",
       " 'case': 363,\n",
       " 'none': 364,\n",
       " 'remained': 365,\n",
       " 'themselves': 366,\n",
       " 'change': 367,\n",
       " 'west': 368,\n",
       " 'dream': 369,\n",
       " 'wind': 370,\n",
       " 'period': 371,\n",
       " 'past': 372,\n",
       " 'gone': 373,\n",
       " 'despair': 374,\n",
       " 'appearance': 375,\n",
       " 'question': 376,\n",
       " 'character': 377,\n",
       " 'oh': 378,\n",
       " 'view': 379,\n",
       " 'next': 380,\n",
       " 'ground': 381,\n",
       " 'adrian': 382,\n",
       " 'died': 383,\n",
       " 'countenance': 384,\n",
       " 'till': 385,\n",
       " 'stone': 386,\n",
       " 'window': 387,\n",
       " 'together': 388,\n",
       " 'given': 389,\n",
       " 'dear': 390,\n",
       " 'god': 391,\n",
       " 'unknown': 392,\n",
       " 'vast': 393,\n",
       " 'enough': 394,\n",
       " 'read': 395,\n",
       " 'low': 396,\n",
       " 'sat': 397,\n",
       " 'either': 398,\n",
       " 'child': 399,\n",
       " 'five': 400,\n",
       " 'looking': 401,\n",
       " 'evening': 402,\n",
       " 'mother': 403,\n",
       " 'led': 404,\n",
       " 'evil': 405,\n",
       " 'tears': 406,\n",
       " 'happiness': 407,\n",
       " 'best': 408,\n",
       " 'immediately': 409,\n",
       " 'feelings': 410,\n",
       " 'blood': 411,\n",
       " 'feeling': 412,\n",
       " 'age': 413,\n",
       " 'rest': 414,\n",
       " 'account': 415,\n",
       " 'four': 416,\n",
       " 'merely': 417,\n",
       " 'walls': 418,\n",
       " 'space': 419,\n",
       " 'interest': 420,\n",
       " 'replied': 421,\n",
       " 'happy': 422,\n",
       " 'chamber': 423,\n",
       " 'land': 424,\n",
       " 'returned': 425,\n",
       " 'wall': 426,\n",
       " 'therefore': 427,\n",
       " 'behind': 428,\n",
       " 'mere': 429,\n",
       " 'held': 430,\n",
       " 'hideous': 431,\n",
       " 'get': 432,\n",
       " 'sure': 433,\n",
       " 'idris': 434,\n",
       " 'latter': 435,\n",
       " 'gentle': 436,\n",
       " 'knowledge': 437,\n",
       " 'natural': 438,\n",
       " 'short': 439,\n",
       " 'call': 440,\n",
       " 'existence': 441,\n",
       " 'memory': 442,\n",
       " 'cold': 443,\n",
       " 'fire': 444,\n",
       " 'fellow': 445,\n",
       " 'wish': 446,\n",
       " 'wonder': 447,\n",
       " 'england': 448,\n",
       " 'discovered': 449,\n",
       " 'expression': 450,\n",
       " 'imagination': 451,\n",
       " 'reached': 452,\n",
       " 'river': 453,\n",
       " 'leave': 454,\n",
       " 'observed': 455,\n",
       " 'hear': 456,\n",
       " 'secret': 457,\n",
       " 'silence': 458,\n",
       " 'friends': 459,\n",
       " 'greater': 460,\n",
       " 'herself': 461,\n",
       " 'arms': 462,\n",
       " 'filled': 463,\n",
       " 'neither': 464,\n",
       " 'misery': 465,\n",
       " 'living': 466,\n",
       " 'windows': 467,\n",
       " 'sky': 468,\n",
       " 'portion': 469,\n",
       " 'houses': 470,\n",
       " 'self': 471,\n",
       " 'late': 472,\n",
       " 'subject': 473,\n",
       " 'altogether': 474,\n",
       " 'along': 475,\n",
       " 'necessary': 476,\n",
       " 'green': 477,\n",
       " 'terror': 478,\n",
       " 'die': 479,\n",
       " 'really': 480,\n",
       " 'remember': 481,\n",
       " 'cause': 482,\n",
       " 'mine': 483,\n",
       " 'followed': 484,\n",
       " 'heaven': 485,\n",
       " 'shadow': 486,\n",
       " 'purpose': 487,\n",
       " 'peculiar': 488,\n",
       " 'below': 489,\n",
       " 'distance': 490,\n",
       " 'forth': 491,\n",
       " 'lady': 492,\n",
       " 'youth': 493,\n",
       " 'lips': 494,\n",
       " 'spot': 495,\n",
       " 'degree': 496,\n",
       " 'difficulty': 497,\n",
       " 'months': 498,\n",
       " 'letter': 499,\n",
       " 'corpse': 500,\n",
       " 'circumstances': 501,\n",
       " 'joy': 502,\n",
       " 'year': 503,\n",
       " 'sir': 504,\n",
       " 'bed': 505,\n",
       " 'cast': 506,\n",
       " 'arm': 507,\n",
       " 'mad': 508,\n",
       " 'impossible': 509,\n",
       " 'formed': 510,\n",
       " 'children': 511,\n",
       " 'care': 512,\n",
       " 'opened': 513,\n",
       " 'loved': 514,\n",
       " 'table': 515,\n",
       " 'steps': 516,\n",
       " 'scarcely': 517,\n",
       " 'somewhat': 518,\n",
       " 'placed': 519,\n",
       " 'received': 520,\n",
       " 'entirely': 521,\n",
       " 'mountain': 522,\n",
       " 'live': 523,\n",
       " 'possessed': 524,\n",
       " 'wide': 525,\n",
       " \"o'\": 526,\n",
       " 'sought': 527,\n",
       " 'beautiful': 528,\n",
       " 'use': 529,\n",
       " 'grave': 530,\n",
       " 'usual': 531,\n",
       " 'affection': 532,\n",
       " 'woman': 533,\n",
       " 'grief': 534,\n",
       " 'darkness': 535,\n",
       " 'm': 536,\n",
       " 'twenty': 537,\n",
       " 'six': 538,\n",
       " 'heavy': 539,\n",
       " 'figure': 540,\n",
       " 'ill': 541,\n",
       " 'finally': 542,\n",
       " 'lived': 543,\n",
       " 'especially': 544,\n",
       " 'arose': 545,\n",
       " 'whether': 546,\n",
       " 'rose': 547,\n",
       " 'escape': 548,\n",
       " 'instant': 549,\n",
       " 'sweet': 550,\n",
       " 'london': 551,\n",
       " 'resolved': 552,\n",
       " 'ten': 553,\n",
       " 'line': 554,\n",
       " 'north': 555,\n",
       " 'odd': 556,\n",
       " 'boat': 557,\n",
       " 'surface': 558,\n",
       " 'hair': 559,\n",
       " 'box': 560,\n",
       " 'position': 561,\n",
       " 'save': 562,\n",
       " 'common': 563,\n",
       " 'thou': 564,\n",
       " 'hills': 565,\n",
       " 'various': 566,\n",
       " 'distant': 567,\n",
       " 'strength': 568,\n",
       " 'beloved': 569,\n",
       " 'early': 570,\n",
       " 'singular': 571,\n",
       " 'across': 572,\n",
       " 'fully': 573,\n",
       " 'proceeded': 574,\n",
       " 'visible': 575,\n",
       " 'kept': 576,\n",
       " 'lovely': 577,\n",
       " 'dr': 578,\n",
       " 'o': 579,\n",
       " 'pleasure': 580,\n",
       " 'atmosphere': 581,\n",
       " 'delight': 582,\n",
       " 'horrible': 583,\n",
       " 'cottage': 584,\n",
       " 'sounds': 585,\n",
       " 'single': 586,\n",
       " 'order': 587,\n",
       " 'hill': 588,\n",
       " 'round': 589,\n",
       " 'red': 590,\n",
       " 'met': 591,\n",
       " 'does': 592,\n",
       " 'born': 593,\n",
       " 'changed': 594,\n",
       " 'ye': 595,\n",
       " 'presence': 596,\n",
       " 'effect': 597,\n",
       " 'hold': 598,\n",
       " 'force': 599,\n",
       " 'party': 600,\n",
       " 'closed': 601,\n",
       " 'thrown': 602,\n",
       " 'got': 603,\n",
       " 'book': 604,\n",
       " 'asked': 605,\n",
       " 'wife': 606,\n",
       " 'paper': 607,\n",
       " 'silent': 608,\n",
       " 'minutes': 609,\n",
       " 'slight': 610,\n",
       " 'plague': 611,\n",
       " 'threw': 612,\n",
       " 'coming': 613,\n",
       " 'excited': 614,\n",
       " 'direction': 615,\n",
       " 'fancy': 616,\n",
       " 'books': 617,\n",
       " 'blue': 618,\n",
       " 'going': 619,\n",
       " 'caused': 620,\n",
       " 'broken': 621,\n",
       " 'says': 622,\n",
       " 'struck': 623,\n",
       " 'apparently': 624,\n",
       " 'pain': 625,\n",
       " 'tried': 626,\n",
       " 'hundred': 627,\n",
       " 'easily': 628,\n",
       " 'yes': 629,\n",
       " 'beheld': 630,\n",
       " 'thy': 631,\n",
       " 'tale': 632,\n",
       " 'public': 633,\n",
       " 'turn': 634,\n",
       " 'visit': 635,\n",
       " 'influence': 636,\n",
       " 'streets': 637,\n",
       " 'girl': 638,\n",
       " 'former': 639,\n",
       " 'desire': 640,\n",
       " 'art': 641,\n",
       " 'clear': 642,\n",
       " 'sister': 643,\n",
       " 'arrived': 644,\n",
       " 'forgotten': 645,\n",
       " 'hopes': 646,\n",
       " 'lord': 647,\n",
       " 'passion': 648,\n",
       " 'society': 649,\n",
       " 'alive': 650,\n",
       " 'outside': 651,\n",
       " 'south': 652,\n",
       " 'drew': 653,\n",
       " 'companion': 654,\n",
       " 'understand': 655,\n",
       " 'calm': 656,\n",
       " 'frame': 657,\n",
       " 'faint': 658,\n",
       " 'ordinary': 659,\n",
       " 'apparent': 660,\n",
       " 'main': 661,\n",
       " 'ago': 662,\n",
       " 'real': 663,\n",
       " 'entire': 664,\n",
       " 'anything': 665,\n",
       " 'bring': 666,\n",
       " 'east': 667,\n",
       " 'native': 668,\n",
       " 'valley': 669,\n",
       " 'road': 670,\n",
       " 'hung': 671,\n",
       " 'appear': 672,\n",
       " 'cried': 673,\n",
       " 'keep': 674,\n",
       " 'future': 675,\n",
       " 'simple': 676,\n",
       " 'later': 677,\n",
       " 'making': 678,\n",
       " 'spent': 679,\n",
       " 'alas': 680,\n",
       " 'sorrow': 681,\n",
       " 'uncle': 682,\n",
       " 'balloon': 683,\n",
       " 'bore': 684,\n",
       " 'perceived': 685,\n",
       " 'stars': 686,\n",
       " 'madame': 687,\n",
       " 'events': 688,\n",
       " 'hardly': 689,\n",
       " 'windsor': 690,\n",
       " 'mean': 691,\n",
       " 'company': 692,\n",
       " 'madness': 693,\n",
       " 'fresh': 694,\n",
       " 'ears': 695,\n",
       " 'narrow': 696,\n",
       " 'health': 697,\n",
       " 'motion': 698,\n",
       " 'utterly': 699,\n",
       " 'height': 700,\n",
       " 'vain': 701,\n",
       " \"don't\": 702,\n",
       " 'cut': 703,\n",
       " 'fallen': 704,\n",
       " 'fall': 705,\n",
       " 'mouth': 706,\n",
       " 'design': 707,\n",
       " 'elizabeth': 708,\n",
       " 'tree': 709,\n",
       " 'regard': 710,\n",
       " 'result': 711,\n",
       " 'condition': 712,\n",
       " 'free': 713,\n",
       " 'perceive': 714,\n",
       " 'immediate': 715,\n",
       " 'business': 716,\n",
       " 'sufficient': 717,\n",
       " 'top': 718,\n",
       " 'ocean': 719,\n",
       " 'evidently': 720,\n",
       " 'gold': 721,\n",
       " 'fate': 722,\n",
       " 'miserable': 723,\n",
       " 'machine': 724,\n",
       " 'story': 725,\n",
       " 'yourself': 726,\n",
       " 'third': 727,\n",
       " 'absence': 728,\n",
       " 'else': 729,\n",
       " 'rain': 730,\n",
       " 'occurred': 731,\n",
       " 'remain': 732,\n",
       " 'spring': 733,\n",
       " 'answer': 734,\n",
       " 'passage': 735,\n",
       " 'gentleman': 736,\n",
       " 'taking': 737,\n",
       " 'ice': 738,\n",
       " 'expected': 739,\n",
       " 'wished': 740,\n",
       " 'shore': 741,\n",
       " 'deserted': 742,\n",
       " 'attempt': 743,\n",
       " 'mentioned': 744,\n",
       " 'music': 745,\n",
       " 'mountains': 746,\n",
       " 'extent': 747,\n",
       " 'queer': 748,\n",
       " 'considered': 749,\n",
       " 'certainly': 750,\n",
       " 'prepared': 751,\n",
       " 'sort': 752,\n",
       " 'moved': 753,\n",
       " 'sympathy': 754,\n",
       " 'waters': 755,\n",
       " 'seek': 756,\n",
       " 'gods': 757,\n",
       " 'number': 758,\n",
       " 'ship': 759,\n",
       " 'castle': 760,\n",
       " 'able': 761,\n",
       " 'approached': 762,\n",
       " 'action': 763,\n",
       " 'pale': 764,\n",
       " 'supposed': 765,\n",
       " 'tomb': 766,\n",
       " 'covered': 767,\n",
       " 'different': 768,\n",
       " 'peace': 769,\n",
       " 'besides': 770,\n",
       " 'conversation': 771,\n",
       " 'brain': 772,\n",
       " 'rendered': 773,\n",
       " 'exceedingly': 774,\n",
       " 'foot': 775,\n",
       " 'english': 776,\n",
       " 'danger': 777,\n",
       " 'path': 778,\n",
       " 'miles': 779,\n",
       " 'beings': 780,\n",
       " 'pass': 781,\n",
       " 'talked': 782,\n",
       " 'sole': 783,\n",
       " 'objects': 784,\n",
       " 'rock': 785,\n",
       " 'progress': 786,\n",
       " 'forest': 787,\n",
       " 'vague': 788,\n",
       " 'succeeded': 789,\n",
       " 'reach': 790,\n",
       " 'ceased': 791,\n",
       " 'fearful': 792,\n",
       " 'senses': 793,\n",
       " 'features': 794,\n",
       " 'strong': 795,\n",
       " 'help': 796,\n",
       " 'fair': 797,\n",
       " 'son': 798,\n",
       " 'st': 799,\n",
       " 'occupied': 800,\n",
       " 'determined': 801,\n",
       " 'forms': 802,\n",
       " 'bottom': 803,\n",
       " 'huge': 804,\n",
       " 'intense': 805,\n",
       " 'wood': 806,\n",
       " 'whilst': 807,\n",
       " 'marble': 808,\n",
       " 'language': 809,\n",
       " 'original': 810,\n",
       " 'step': 811,\n",
       " 'remembered': 812,\n",
       " 'gilman': 813,\n",
       " 'suppose': 814,\n",
       " 'dared': 815,\n",
       " 'courage': 816,\n",
       " 'discovery': 817,\n",
       " 'walked': 818,\n",
       " 'perfect': 819,\n",
       " 'talk': 820,\n",
       " 'boy': 821,\n",
       " 'apartment': 822,\n",
       " 'frightful': 823,\n",
       " 'task': 824,\n",
       " 'listened': 825,\n",
       " 'curious': 826,\n",
       " 'sufficiently': 827,\n",
       " 'except': 828,\n",
       " 'extreme': 829,\n",
       " 'seized': 830,\n",
       " 'plain': 831,\n",
       " 'suffered': 832,\n",
       " 'creature': 833,\n",
       " 'forever': 834,\n",
       " 'need': 835,\n",
       " 'rise': 836,\n",
       " 'fine': 837,\n",
       " 'daughter': 838,\n",
       " 'vision': 839,\n",
       " 'flowers': 840,\n",
       " 'island': 841,\n",
       " 'evidence': 842,\n",
       " 'act': 843,\n",
       " 'respect': 844,\n",
       " 'curiosity': 845,\n",
       " 'bear': 846,\n",
       " 'similar': 847,\n",
       " 'seems': 848,\n",
       " 'winter': 849,\n",
       " 'brief': 850,\n",
       " 'melancholy': 851,\n",
       " 'thee': 852,\n",
       " 'ideas': 853,\n",
       " 'creatures': 854,\n",
       " 'obtained': 855,\n",
       " 'village': 856,\n",
       " 'dupin': 857,\n",
       " 'grey': 858,\n",
       " 'midnight': 859,\n",
       " 'ran': 860,\n",
       " 'summer': 861,\n",
       " 'persons': 862,\n",
       " 'watch': 863,\n",
       " 'tall': 864,\n",
       " 'remote': 865,\n",
       " 'nose': 866,\n",
       " 'golden': 867,\n",
       " 'whatever': 868,\n",
       " 'shewed': 869,\n",
       " \"o'clock\": 870,\n",
       " 'carried': 871,\n",
       " 'meet': 872,\n",
       " 'actually': 873,\n",
       " 'used': 874,\n",
       " 'want': 875,\n",
       " 'spread': 876,\n",
       " 'breath': 877,\n",
       " 'animal': 878,\n",
       " 'journey': 879,\n",
       " 'eight': 880,\n",
       " 'woods': 881,\n",
       " 'failed': 882,\n",
       " 'describe': 883,\n",
       " 'places': 884,\n",
       " 'concerning': 885,\n",
       " 'building': 886,\n",
       " 'smile': 887,\n",
       " 'increased': 888,\n",
       " 'innsmouth': 889,\n",
       " 'car': 890,\n",
       " 'dare': 891,\n",
       " 'utter': 892,\n",
       " 'bent': 893,\n",
       " 'departed': 894,\n",
       " 'watched': 895,\n",
       " 'unusual': 896,\n",
       " 'glass': 897,\n",
       " 'learned': 898,\n",
       " 'solitude': 899,\n",
       " 'arkham': 900,\n",
       " 'system': 901,\n",
       " 'corner': 902,\n",
       " 'reality': 903,\n",
       " 'added': 904,\n",
       " 'hard': 905,\n",
       " 'behold': 906,\n",
       " 'carefully': 907,\n",
       " 'rich': 908,\n",
       " 'agony': 909,\n",
       " 'mystery': 910,\n",
       " 'slept': 911,\n",
       " 'weight': 912,\n",
       " 'success': 913,\n",
       " 'key': 914,\n",
       " 'minute': 915,\n",
       " 'afterward': 916,\n",
       " 'noble': 917,\n",
       " 'endeavoured': 918,\n",
       " 'piece': 919,\n",
       " 'distinct': 920,\n",
       " 'aware': 921,\n",
       " 'circumstance': 922,\n",
       " 'horizon': 923,\n",
       " 'slowly': 924,\n",
       " 'greatest': 925,\n",
       " 'sentiment': 926,\n",
       " 'destroyed': 927,\n",
       " 'gigantic': 928,\n",
       " 'amidst': 929,\n",
       " 'sad': 930,\n",
       " 'limbs': 931,\n",
       " 're': 932,\n",
       " 'faces': 933,\n",
       " 'move': 934,\n",
       " 'sudden': 935,\n",
       " 'reply': 936,\n",
       " 'started': 937,\n",
       " 'promise': 938,\n",
       " 'familiar': 939,\n",
       " 'murder': 940,\n",
       " 'degrees': 941,\n",
       " 'genius': 942,\n",
       " 'sent': 943,\n",
       " 'leaving': 944,\n",
       " 'week': 945,\n",
       " 'mighty': 946,\n",
       " 'search': 947,\n",
       " 'following': 948,\n",
       " 'tone': 949,\n",
       " 'fears': 950,\n",
       " 'probably': 951,\n",
       " 'storm': 952,\n",
       " 'seem': 953,\n",
       " 'notice': 954,\n",
       " 'hidden': 955,\n",
       " 'unable': 956,\n",
       " 'believed': 957,\n",
       " 'fever': 958,\n",
       " 'hall': 959,\n",
       " 'mental': 960,\n",
       " 'king': 961,\n",
       " 'clouds': 962,\n",
       " 'seven': 963,\n",
       " 'thin': 964,\n",
       " 'grown': 965,\n",
       " 'hitherto': 966,\n",
       " 'particular': 967,\n",
       " 'relief': 968,\n",
       " 'quiet': 969,\n",
       " 'ghastly': 970,\n",
       " 'gradually': 971,\n",
       " 'science': 972,\n",
       " 'feared': 973,\n",
       " 'evident': 974,\n",
       " 'farther': 975,\n",
       " 'dying': 976,\n",
       " 'marked': 977,\n",
       " 'ones': 978,\n",
       " 'study': 979,\n",
       " 'bitter': 980,\n",
       " 'powers': 981,\n",
       " 'feeble': 982,\n",
       " 'image': 983,\n",
       " 'enter': 984,\n",
       " 'write': 985,\n",
       " 'quickly': 986,\n",
       " 'aid': 987,\n",
       " 'afternoon': 988,\n",
       " 'cloud': 989,\n",
       " 'fled': 990,\n",
       " 'effort': 991,\n",
       " 'rapidly': 992,\n",
       " 'pocket': 993,\n",
       " 'glance': 994,\n",
       " 'forward': 995,\n",
       " 'reflection': 996,\n",
       " 'material': 997,\n",
       " 'aspect': 998,\n",
       " 'recall': 999,\n",
       " 'burst': 1000,\n",
       " ...}"
      ]
     },
     "execution_count": 113,
     "metadata": {},
     "output_type": "execute_result"
    }
   ],
   "source": [
    "word_index"
   ]
  },
  {
   "cell_type": "code",
   "execution_count": 114,
   "metadata": {},
   "outputs": [
    {
     "name": "stderr",
     "output_type": "stream",
     "text": [
      "100%|██████████| 24788/24788 [00:00<00:00, 31948.12it/s]\n"
     ]
    }
   ],
   "source": [
    "# create an embedding matrix for the words we have in the dataset\n",
    "embedding_matrix = np.zeros((len(word_index) + 1, 300))\n",
    "for word, i in tqdm(word_index.items()):\n",
    "    embedding_vector = glove_embeddings.get(word)\n",
    "    if embedding_vector is not None:\n",
    "        embedding_matrix[i] = embedding_vector"
   ]
  },
  {
   "cell_type": "code",
   "execution_count": 115,
   "metadata": {},
   "outputs": [],
   "source": [
    "input_shape = len(word_index) + 1, 300\n",
    "output_shape = 3 # no of categories"
   ]
  },
  {
   "cell_type": "raw",
   "metadata": {},
   "source": [
    "# A simple LSTM with glove embeddings and two dense layers\n",
    "def define_model1(input_shape, output_shape, BiDir=False, no_of_units=100, max_len=70):\n",
    "    model = Sequential()\n",
    "    model.add(Embedding(input_shape[0],input_shape[1],weights=[embedding_matrix],input_length=max_len,\n",
    "                         trainable=False))\n",
    "    model.add(SpatialDropout1D(0.3))\n",
    "    model.add(GlobalAvgPool1D())\n",
    "\n",
    "    # We project onto a single unit output layer, and squash it with a sigmoid:\n",
    "    model.add(Dense(output_shape, activation='softmax'))\n",
    "\n",
    "    model.compile(loss='categorical_crossentropy', optimizer='adam', metrics=['accuracy'])\n",
    "    return model"
   ]
  },
  {
   "cell_type": "code",
   "execution_count": 139,
   "metadata": {},
   "outputs": [],
   "source": [
    "# A simple LSTM with glove embeddings and two dense layers\n",
    "def define_model(input_shape, output_shape, BiDir=False, no_of_units=100, max_len=70):\n",
    "    model = Sequential()\n",
    "    model.add(Embedding(input_shape[0],input_shape[1],weights=[embedding_matrix],input_length=max_len,\n",
    "                         trainable=False))\n",
    "    model.add(SpatialDropout1D(0.2))\n",
    "    if BiDir:\n",
    "        model.add(Bidirectional(LSTM(no_of_units, dropout=0.2, recurrent_dropout=0.2))) \n",
    "    else:\n",
    "        model.add(LSTM(no_of_units, dropout=0.2, recurrent_dropout=0.2))\n",
    "\n",
    "    #model.add(Dense(1024, activation='relu'))\n",
    "    #model.add(Dropout(0.5))\n",
    "\n",
    "    #model.add(Dense(1024, activation='relu'))\n",
    "    #model.add(Dropout(0.5))\n",
    "\n",
    "    model.add(Dense(output_shape))\n",
    "    model.add(Activation('softmax'))\n",
    "    model.compile(loss='categorical_crossentropy', optimizer='adam', metrics=['accuracy'])\n",
    "    return model"
   ]
  },
  {
   "cell_type": "code",
   "execution_count": 140,
   "metadata": {},
   "outputs": [],
   "source": [
    "# Train model\n",
    "def train_model(model, xtrain, ytrain, batch_size, save_file_name, epochs=100):\n",
    "    # Save best model and earlystop calback\n",
    "    saveBestModel = ModelCheckpoint(save_file_name +'.hdf5', monitor='val_loss', verbose=0, save_best_only=True, \n",
    "                                save_weights_only=False, mode='min', period=1)\n",
    "    earlystop = EarlyStopping(monitor='val_loss', min_delta=0.0001, patience=3, verbose=0, mode='min')\n",
    "    # Fit the model with early stopping callback\n",
    "    # define checkpoint callback\n",
    "    \n",
    "    model.fit(xtrain, y=ytrain, batch_size=batch_size, validation_split=0.1, epochs=epochs,verbose=1, \n",
    "              callbacks=[earlystop,saveBestModel])\n",
    "    return model\n",
    "    "
   ]
  },
  {
   "cell_type": "code",
   "execution_count": 141,
   "metadata": {},
   "outputs": [],
   "source": [
    "def evaluate_model(model,xtest, ytest):\n",
    "    score, acc = model.evaluate(xtest, ytest)\n",
    "    return score, acc"
   ]
  },
  {
   "cell_type": "code",
   "execution_count": 142,
   "metadata": {},
   "outputs": [],
   "source": [
    "def run_model(input_shape, output_shape, xtrain, ytrain, batch_size, epochs, save_file_name,\n",
    "              BiDir=False, no_of_units=100, max_len=70):\n",
    "    model = define_model(input_shape, output_shape, no_of_units, max_len)\n",
    "    model = train_model(model, xtrain, ytrain, batch_size, save_file_name, epochs)\n",
    "    return model"
   ]
  },
  {
   "cell_type": "code",
   "execution_count": 143,
   "metadata": {},
   "outputs": [
    {
     "name": "stdout",
     "output_type": "stream",
     "text": [
      "WARNING:tensorflow:`period` argument is deprecated. Please use `save_freq` to specify the frequency in number of samples seen.\n",
      "Train on 15858 samples, validate on 1763 samples\n",
      "Epoch 1/50\n",
      "15858/15858 [==============================] - 48s 3ms/sample - loss: 0.9336 - accuracy: 0.5479 - val_loss: 0.7824 - val_accuracy: 0.6710\n",
      "Epoch 2/50\n",
      "15858/15858 [==============================] - 37s 2ms/sample - loss: 0.7829 - accuracy: 0.6565 - val_loss: 0.7090 - val_accuracy: 0.6926\n",
      "Epoch 3/50\n",
      "15858/15858 [==============================] - 39s 2ms/sample - loss: 0.7312 - accuracy: 0.6841 - val_loss: 0.6811 - val_accuracy: 0.7164\n",
      "Epoch 4/50\n",
      "15858/15858 [==============================] - 37s 2ms/sample - loss: 0.6903 - accuracy: 0.7062 - val_loss: 0.6489 - val_accuracy: 0.7266\n",
      "Epoch 5/50\n",
      "15858/15858 [==============================] - 39s 2ms/sample - loss: 0.6564 - accuracy: 0.7208 - val_loss: 0.6291 - val_accuracy: 0.7351\n",
      "Epoch 6/50\n",
      "15858/15858 [==============================] - 40s 3ms/sample - loss: 0.6274 - accuracy: 0.7355 - val_loss: 0.6091 - val_accuracy: 0.7436\n",
      "Epoch 7/50\n",
      "15858/15858 [==============================] - 35s 2ms/sample - loss: 0.6056 - accuracy: 0.7462 - val_loss: 0.5863 - val_accuracy: 0.7567\n",
      "Epoch 8/50\n",
      "15858/15858 [==============================] - 35s 2ms/sample - loss: 0.5755 - accuracy: 0.7589 - val_loss: 0.5759 - val_accuracy: 0.7669\n",
      "Epoch 9/50\n",
      "15858/15858 [==============================] - 36s 2ms/sample - loss: 0.5530 - accuracy: 0.7721 - val_loss: 0.5561 - val_accuracy: 0.7686\n",
      "Epoch 10/50\n",
      "15858/15858 [==============================] - 36s 2ms/sample - loss: 0.5280 - accuracy: 0.7874 - val_loss: 0.5583 - val_accuracy: 0.7697\n",
      "Epoch 11/50\n",
      "15858/15858 [==============================] - 40s 3ms/sample - loss: 0.5071 - accuracy: 0.7937 - val_loss: 0.5391 - val_accuracy: 0.7839\n",
      "Epoch 12/50\n",
      "15858/15858 [==============================] - 40s 2ms/sample - loss: 0.4864 - accuracy: 0.8058 - val_loss: 0.5261 - val_accuracy: 0.7845\n",
      "Epoch 13/50\n",
      "15858/15858 [==============================] - 36s 2ms/sample - loss: 0.4683 - accuracy: 0.8102 - val_loss: 0.5182 - val_accuracy: 0.7884\n",
      "Epoch 14/50\n",
      "15858/15858 [==============================] - 36s 2ms/sample - loss: 0.4409 - accuracy: 0.8234 - val_loss: 0.5348 - val_accuracy: 0.7890\n",
      "Epoch 15/50\n",
      "15858/15858 [==============================] - 35s 2ms/sample - loss: 0.4301 - accuracy: 0.8289 - val_loss: 0.5079 - val_accuracy: 0.7964\n",
      "Epoch 16/50\n",
      "15858/15858 [==============================] - 39s 2ms/sample - loss: 0.4108 - accuracy: 0.8354 - val_loss: 0.5110 - val_accuracy: 0.7947\n",
      "Epoch 17/50\n",
      "15858/15858 [==============================] - 36s 2ms/sample - loss: 0.3878 - accuracy: 0.8485 - val_loss: 0.4910 - val_accuracy: 0.8088\n",
      "Epoch 18/50\n",
      "15858/15858 [==============================] - 36s 2ms/sample - loss: 0.3741 - accuracy: 0.8536 - val_loss: 0.4911 - val_accuracy: 0.8140\n",
      "Epoch 19/50\n",
      "15858/15858 [==============================] - 35s 2ms/sample - loss: 0.3656 - accuracy: 0.8579 - val_loss: 0.5031 - val_accuracy: 0.7981\n",
      "Epoch 20/50\n",
      "15858/15858 [==============================] - 36s 2ms/sample - loss: 0.3495 - accuracy: 0.8620 - val_loss: 0.5002 - val_accuracy: 0.8009\n"
     ]
    }
   ],
   "source": [
    "model = run_model(input_shape, output_shape, xtrain_pad, ytrain_enc, batch_size=128, \n",
    "                  epochs=50,save_file_name='best_lstm')"
   ]
  },
  {
   "cell_type": "code",
   "execution_count": 134,
   "metadata": {},
   "outputs": [],
   "source": [
    "xtest_pad = create_pad_sequences(tokens, X_test)"
   ]
  },
  {
   "cell_type": "code",
   "execution_count": 144,
   "metadata": {},
   "outputs": [
    {
     "name": "stdout",
     "output_type": "stream",
     "text": [
      "1958/1958 [==============================] - 2s 1ms/sample - loss: 0.5322 - accuracy: 0.8054\n",
      "Test set\n",
      "  Loss: 0.532\n",
      "  Accuracy: 0.805\n"
     ]
    }
   ],
   "source": [
    "score= model.evaluate(xtest_pad, ytest_enc)\n",
    "print('Test set\\n  Loss: {:0.3f}\\n  Accuracy: {:0.3f}'.format(score[0],score[1]))\n"
   ]
  },
  {
   "cell_type": "code",
   "execution_count": 148,
   "metadata": {},
   "outputs": [],
   "source": [
    "loaded_model = load_model('best_lstm.hdf5')"
   ]
  },
  {
   "cell_type": "code",
   "execution_count": 149,
   "metadata": {},
   "outputs": [
    {
     "name": "stdout",
     "output_type": "stream",
     "text": [
      "1958/1958 [==============================] - 2s 1ms/sample - loss: 0.5123 - accuracy: 0.7952\n",
      "Test set\n",
      "  Loss: 0.512\n",
      "  Accuracy: 0.795\n"
     ]
    }
   ],
   "source": [
    "# evaluate the model\n",
    "train_score= model.evaluate(xtrain_pad, ytrain_enc)\n",
    "test_score= model.evaluate(xtest_pad, ytest_enc)\n",
    "print('Train set\\n  Loss: {:0.3f}\\n  Accuracy: {:0.3f}'.format(train_score[0],train_score[1]))\n",
    "print('Test set\\n  Loss: {:0.3f}\\n  Accuracy: {:0.3f}'.format(test_score[0],test_score[1]))"
   ]
  },
  {
   "cell_type": "raw",
   "metadata": {},
   "source": [
    "One question could be: why do i use so much dropout? \n",
    "Well, fit the model with no or little dropout \n",
    "and you will that it starts to overfit :)"
   ]
  },
  {
   "cell_type": "code",
   "execution_count": 145,
   "metadata": {},
   "outputs": [],
   "source": [
    "# plot diagnostic learning curves\n",
    "def summarize_diagnostics(histories, loss=True):\n",
    "    # plot loss\n",
    "    if loss:\n",
    "        pyplot.title('Loss')\n",
    "        pyplot.plot(histories['loss'], label='train')\n",
    "        pyplot.plot(histories['val_loss'], label='test')\n",
    "        pyplot.legend()\n",
    "        pyplot.show();\n",
    "    else:\n",
    "        # plot accuracy\n",
    "        pyplot.title(\"Accuracy\")\n",
    "        pyplot.plot(histories[\"accuracy\"], label=\"train\")\n",
    "        pyplot.plot(histories[\"val_accuracy\"], label=\"test\")\n",
    "        pyplot.legend()\n",
    "        pyplot.show();\n",
    "#pyplot.show()"
   ]
  },
  {
   "cell_type": "code",
   "execution_count": 146,
   "metadata": {},
   "outputs": [
    {
     "data": {
      "image/png": "[encoded data removed]",
      "text/plain": [
       "<Figure size 432x288 with 1 Axes>"
      ]
     },
     "metadata": {
      "needs_background": "light"
     },
     "output_type": "display_data"
    }
   ],
   "source": [
    "summarize_diagnostics(model.history.history)"
   ]
  },
  {
   "cell_type": "code",
   "execution_count": 147,
   "metadata": {},
   "outputs": [
    {
     "data": {
      "image/png": "[encoded data removed]",
      "text/plain": [
       "<Figure size 432x288 with 1 Axes>"
      ]
     },
     "metadata": {
      "needs_background": "light"
     },
     "output_type": "display_data"
    }
   ],
   "source": [
    "summarize_diagnostics(model.history.history, loss=False)"
   ]
  },
  {
   "cell_type": "markdown",
   "metadata": {},
   "source": [
    "# 6.2 Bi-Directional LSTM"
   ]
  },
  {
   "cell_type": "code",
   "execution_count": 150,
   "metadata": {},
   "outputs": [
    {
     "name": "stdout",
     "output_type": "stream",
     "text": [
      "WARNING:tensorflow:`period` argument is deprecated. Please use `save_freq` to specify the frequency in number of samples seen.\n",
      "Train on 15858 samples, validate on 1763 samples\n",
      "Epoch 1/50\n",
      "15858/15858 [==============================] - 42s 3ms/sample - loss: 0.9360 - accuracy: 0.5501 - val_loss: 0.7939 - val_accuracy: 0.6489\n",
      "Epoch 2/50\n",
      "15858/15858 [==============================] - 37s 2ms/sample - loss: 0.7875 - accuracy: 0.6597 - val_loss: 0.7197 - val_accuracy: 0.7005\n",
      "Epoch 3/50\n",
      "15858/15858 [==============================] - 37s 2ms/sample - loss: 0.7333 - accuracy: 0.6831 - val_loss: 0.7055 - val_accuracy: 0.7039\n",
      "Epoch 4/50\n",
      "15858/15858 [==============================] - 38s 2ms/sample - loss: 0.6949 - accuracy: 0.6979 - val_loss: 0.6651 - val_accuracy: 0.7153\n",
      "Epoch 5/50\n",
      "15858/15858 [==============================] - 38s 2ms/sample - loss: 0.6601 - accuracy: 0.7203 - val_loss: 0.6326 - val_accuracy: 0.7340\n",
      "Epoch 6/50\n",
      "15858/15858 [==============================] - 36s 2ms/sample - loss: 0.6343 - accuracy: 0.7323 - val_loss: 0.6195 - val_accuracy: 0.7385\n",
      "Epoch 7/50\n",
      "15858/15858 [==============================] - 36s 2ms/sample - loss: 0.6136 - accuracy: 0.7428 - val_loss: 0.6028 - val_accuracy: 0.7493\n",
      "Epoch 8/50\n",
      "15858/15858 [==============================] - 35s 2ms/sample - loss: 0.5923 - accuracy: 0.7519 - val_loss: 0.5959 - val_accuracy: 0.7504\n",
      "Epoch 9/50\n",
      "15858/15858 [==============================] - 36s 2ms/sample - loss: 0.5644 - accuracy: 0.7670 - val_loss: 0.5712 - val_accuracy: 0.7635\n",
      "Epoch 10/50\n",
      "15858/15858 [==============================] - 35s 2ms/sample - loss: 0.5380 - accuracy: 0.7773 - val_loss: 0.5523 - val_accuracy: 0.7742\n",
      "Epoch 11/50\n",
      "15858/15858 [==============================] - 37s 2ms/sample - loss: 0.5169 - accuracy: 0.7855 - val_loss: 0.5535 - val_accuracy: 0.7725\n",
      "Epoch 12/50\n",
      "15858/15858 [==============================] - 37s 2ms/sample - loss: 0.4954 - accuracy: 0.7987 - val_loss: 0.5454 - val_accuracy: 0.7765\n",
      "Epoch 13/50\n",
      "15858/15858 [==============================] - 40s 3ms/sample - loss: 0.4758 - accuracy: 0.8050 - val_loss: 0.5346 - val_accuracy: 0.7890\n",
      "Epoch 14/50\n",
      "15858/15858 [==============================] - 38s 2ms/sample - loss: 0.4538 - accuracy: 0.8156 - val_loss: 0.5135 - val_accuracy: 0.7930\n",
      "Epoch 15/50\n",
      "15858/15858 [==============================] - 37s 2ms/sample - loss: 0.4399 - accuracy: 0.8253 - val_loss: 0.5050 - val_accuracy: 0.7935\n",
      "Epoch 16/50\n",
      "15858/15858 [==============================] - 35s 2ms/sample - loss: 0.4137 - accuracy: 0.8363 - val_loss: 0.5141 - val_accuracy: 0.7964\n",
      "Epoch 17/50\n",
      "15858/15858 [==============================] - 36s 2ms/sample - loss: 0.4002 - accuracy: 0.8395 - val_loss: 0.5211 - val_accuracy: 0.7964\n",
      "Epoch 18/50\n",
      "15858/15858 [==============================] - 38s 2ms/sample - loss: 0.3941 - accuracy: 0.8412 - val_loss: 0.5144 - val_accuracy: 0.7930\n"
     ]
    }
   ],
   "source": [
    "#model = define_model(input_shape, output_shape,BiDir=True, no_of_units=300)\n",
    "model = run_model(input_shape, output_shape, xtrain_pad, ytrain_enc, batch_size=128, \n",
    "                     epochs=50,save_file_name='best_bilstm',BiDir=True,)"
   ]
  },
  {
   "cell_type": "code",
   "execution_count": 151,
   "metadata": {},
   "outputs": [
    {
     "name": "stdout",
     "output_type": "stream",
     "text": [
      "1958/1958 [==============================] - 2s 946us/sample - loss: 0.5442 - accuracy: 0.7921\n",
      "Test set\n",
      "  Loss: 0.544\n",
      "  Accuracy: 0.792\n"
     ]
    }
   ],
   "source": [
    "# evaluate the model\n",
    "train_score= model.evaluate(xtrain_pad, ytrain_enc)\n",
    "test_score= model.evaluate(xtest_pad, ytest_enc)\n",
    "print('Train set\\n  Loss: {:0.3f}\\n  Accuracy: {:0.3f}'.format(train_score[0],train_score[1]))\n",
    "print('Test set\\n  Loss: {:0.3f}\\n  Accuracy: {:0.3f}'.format(test_score[0],test_score[1]))\n"
   ]
  },
  {
   "cell_type": "code",
   "execution_count": 152,
   "metadata": {},
   "outputs": [
    {
     "data": {
      "image/png": "[encoded data removed]",
      "text/plain": [
       "<Figure size 432x288 with 1 Axes>"
      ]
     },
     "metadata": {
      "needs_background": "light"
     },
     "output_type": "display_data"
    }
   ],
   "source": [
    "summarize_diagnostics(model.history.history)"
   ]
  },
  {
   "cell_type": "code",
   "execution_count": 153,
   "metadata": {},
   "outputs": [
    {
     "data": {
      "image/png": "[encoded data removed]",
      "text/plain": [
       "<Figure size 432x288 with 1 Axes>"
      ]
     },
     "metadata": {
      "needs_background": "light"
     },
     "output_type": "display_data"
    }
   ],
   "source": [
    "summarize_diagnostics(model.history.history, loss=False)"
   ]
  },
  {
   "cell_type": "markdown",
   "metadata": {},
   "source": [
    "# 6.3 GRU"
   ]
  },
  {
   "cell_type": "code",
   "execution_count": 163,
   "metadata": {},
   "outputs": [],
   "source": [
    "# GRU with glove embeddings and two dense layers\n",
    "def define_model_GRU(input_shape, output_shape, max_len):\n",
    "    model = Sequential()\n",
    "    model.add(Embedding(input_shape[0],input_shape[1],weights=[embedding_matrix],input_length=max_len,\n",
    "                         trainable=False))\n",
    "    \n",
    "    model.add(SpatialDropout1D(0.3))\n",
    "    \n",
    "    model.add(GRU(300, dropout=0.3, recurrent_dropout=0.3, return_sequences=True))\n",
    "    model.add(GRU(300, dropout=0.3, recurrent_dropout=0.3))\n",
    "    \n",
    "    model.add(Dense(1024, activation='relu'))\n",
    "    model.add(Dropout(0.5))\n",
    "\n",
    "    model.add(Dense(1024, activation='relu'))\n",
    "    model.add(Dropout(0.5))\n",
    "\n",
    "    model.add(Dense(output_shape))\n",
    "    model.add(Activation('softmax'))\n",
    "    model.compile(loss='categorical_crossentropy', optimizer='adam', metrics=['accuracy'])\n",
    "    return model"
   ]
  },
  {
   "cell_type": "code",
   "execution_count": 168,
   "metadata": {},
   "outputs": [],
   "source": [
    "#model = define_model_GRU(input_shape, output_shape)\n",
    "def run_model(input_shape, output_shape, xtrain, ytrain, batch_size, epochs, save_file_name,\n",
    "              no_of_units=300, max_len=70):\n",
    "    model = define_model_GRU(input_shape, output_shape, max_len)\n",
    "    model = train_model(model, xtrain, ytrain, batch_size, save_file_name, epochs)\n",
    "    return model"
   ]
  },
  {
   "cell_type": "code",
   "execution_count": 169,
   "metadata": {},
   "outputs": [
    {
     "name": "stdout",
     "output_type": "stream",
     "text": [
      "WARNING:tensorflow:`period` argument is deprecated. Please use `save_freq` to specify the frequency in number of samples seen.\n",
      "Train on 15858 samples, validate on 1763 samples\n",
      "Epoch 1/50\n",
      "15858/15858 [==============================] - 67s 4ms/sample - loss: 1.0541 - accuracy: 0.4448 - val_loss: 0.9298 - val_accuracy: 0.5644\n",
      "Epoch 2/50\n",
      "15858/15858 [==============================] - 60s 4ms/sample - loss: 0.9377 - accuracy: 0.5565 - val_loss: 0.8409 - val_accuracy: 0.5995\n",
      "Epoch 3/50\n",
      "15858/15858 [==============================] - 60s 4ms/sample - loss: 0.8702 - accuracy: 0.6081 - val_loss: 0.7568 - val_accuracy: 0.6704\n",
      "Epoch 4/50\n",
      "15858/15858 [==============================] - 63s 4ms/sample - loss: 0.8200 - accuracy: 0.6392 - val_loss: 0.7283 - val_accuracy: 0.6829\n",
      "Epoch 5/50\n",
      "15858/15858 [==============================] - 152s 10ms/sample - loss: 0.7951 - accuracy: 0.6522 - val_loss: 0.7245 - val_accuracy: 0.6965\n",
      "Epoch 6/50\n",
      "15858/15858 [==============================] - 59s 4ms/sample - loss: 0.7710 - accuracy: 0.6654 - val_loss: 0.6779 - val_accuracy: 0.7016\n",
      "Epoch 7/50\n",
      "15858/15858 [==============================] - 59s 4ms/sample - loss: 0.7472 - accuracy: 0.6775 - val_loss: 0.6628 - val_accuracy: 0.7124\n",
      "Epoch 8/50\n",
      "15858/15858 [==============================] - 69s 4ms/sample - loss: 0.7289 - accuracy: 0.6921 - val_loss: 0.6518 - val_accuracy: 0.7277\n",
      "Epoch 9/50\n",
      "15858/15858 [==============================] - 61s 4ms/sample - loss: 0.6954 - accuracy: 0.7043 - val_loss: 0.6069 - val_accuracy: 0.7521\n",
      "Epoch 10/50\n",
      "15858/15858 [==============================] - 61s 4ms/sample - loss: 0.6766 - accuracy: 0.7130 - val_loss: 0.6061 - val_accuracy: 0.7419\n",
      "Epoch 11/50\n",
      "15858/15858 [==============================] - 63s 4ms/sample - loss: 0.6587 - accuracy: 0.7194 - val_loss: 0.5907 - val_accuracy: 0.7589\n",
      "Epoch 12/50\n",
      "15858/15858 [==============================] - 59s 4ms/sample - loss: 0.6376 - accuracy: 0.7360 - val_loss: 0.5712 - val_accuracy: 0.7674\n",
      "Epoch 13/50\n",
      "15858/15858 [==============================] - 58s 4ms/sample - loss: 0.6202 - accuracy: 0.7438 - val_loss: 0.5552 - val_accuracy: 0.7720\n",
      "Epoch 14/50\n",
      "15858/15858 [==============================] - 58s 4ms/sample - loss: 0.5910 - accuracy: 0.7548 - val_loss: 0.5517 - val_accuracy: 0.7737\n",
      "Epoch 15/50\n",
      "15858/15858 [==============================] - 59s 4ms/sample - loss: 0.5767 - accuracy: 0.7634 - val_loss: 0.5597 - val_accuracy: 0.7703\n",
      "Epoch 16/50\n",
      "15858/15858 [==============================] - 58s 4ms/sample - loss: 0.5549 - accuracy: 0.7729 - val_loss: 0.5237 - val_accuracy: 0.7850\n",
      "Epoch 17/50\n",
      "15858/15858 [==============================] - 59s 4ms/sample - loss: 0.5428 - accuracy: 0.7775 - val_loss: 0.5199 - val_accuracy: 0.7890\n",
      "Epoch 18/50\n",
      "15858/15858 [==============================] - 60s 4ms/sample - loss: 0.5212 - accuracy: 0.7885 - val_loss: 0.5108 - val_accuracy: 0.7913\n",
      "Epoch 19/50\n",
      "15858/15858 [==============================] - 58s 4ms/sample - loss: 0.5105 - accuracy: 0.7925 - val_loss: 0.5167 - val_accuracy: 0.7913\n",
      "Epoch 20/50\n",
      "15858/15858 [==============================] - 60s 4ms/sample - loss: 0.4894 - accuracy: 0.8023 - val_loss: 0.5221 - val_accuracy: 0.7952\n",
      "Epoch 21/50\n",
      "15858/15858 [==============================] - 59s 4ms/sample - loss: 0.4833 - accuracy: 0.8015 - val_loss: 0.5056 - val_accuracy: 0.7935\n",
      "Epoch 22/50\n",
      "15858/15858 [==============================] - 59s 4ms/sample - loss: 0.4766 - accuracy: 0.8072 - val_loss: 0.4936 - val_accuracy: 0.8049\n",
      "Epoch 23/50\n",
      "15858/15858 [==============================] - 60s 4ms/sample - loss: 0.4480 - accuracy: 0.8184 - val_loss: 0.4877 - val_accuracy: 0.8043\n",
      "Epoch 24/50\n",
      "15858/15858 [==============================] - 57s 4ms/sample - loss: 0.4441 - accuracy: 0.8196 - val_loss: 0.4879 - val_accuracy: 0.8111\n",
      "Epoch 25/50\n",
      "15858/15858 [==============================] - 57s 4ms/sample - loss: 0.4179 - accuracy: 0.8333 - val_loss: 0.4900 - val_accuracy: 0.8100\n",
      "Epoch 26/50\n",
      "15858/15858 [==============================] - 60s 4ms/sample - loss: 0.4109 - accuracy: 0.8335 - val_loss: 0.4981 - val_accuracy: 0.8128\n"
     ]
    }
   ],
   "source": [
    "model_gru = model = run_model(input_shape, output_shape, xtrain_pad, ytrain_enc, batch_size=512, \n",
    "                     epochs=50,save_file_name='best_GRU',)"
   ]
  },
  {
   "cell_type": "code",
   "execution_count": 170,
   "metadata": {},
   "outputs": [
    {
     "data": {
      "image/png": "[encoded data removed]",
      "text/plain": [
       "<Figure size 432x288 with 1 Axes>"
      ]
     },
     "metadata": {
      "needs_background": "light"
     },
     "output_type": "display_data"
    }
   ],
   "source": [
    "summarize_diagnostics(model.history.history)"
   ]
  },
  {
   "cell_type": "code",
   "execution_count": 171,
   "metadata": {},
   "outputs": [
    {
     "data": {
      "image/png": "[encoded data removed]",
      "text/plain": [
       "<Figure size 432x288 with 1 Axes>"
      ]
     },
     "metadata": {
      "needs_background": "light"
     },
     "output_type": "display_data"
    }
   ],
   "source": [
    "summarize_diagnostics(model.history.history, loss=False)"
   ]
  },
  {
   "cell_type": "code",
   "execution_count": 172,
   "metadata": {},
   "outputs": [],
   "source": [
    "loaded_model = load_model('best_GRU.hdf5')"
   ]
  },
  {
   "cell_type": "code",
   "execution_count": 173,
   "metadata": {},
   "outputs": [
    {
     "data": {
      "text/plain": [
       "0.48766535862020927"
      ]
     },
     "execution_count": 173,
     "metadata": {},
     "output_type": "execute_result"
    }
   ],
   "source": [
    "min_val_loss = np.min(model.history.history['val_loss'])\n",
    "min_val_loss"
   ]
  },
  {
   "cell_type": "code",
   "execution_count": 174,
   "metadata": {},
   "outputs": [
    {
     "name": "stdout",
     "output_type": "stream",
     "text": [
      "17621/17621 [==============================] - 59s 3ms/sample - loss: 0.3023 - accuracy: 0.8867s - loss: 0.3019 - accuracy: \n",
      "1958/1958 [==============================] - 6s 3ms/sample - loss: 0.5261 - accuracy: 0.7972\n",
      "Train set\n",
      "  Loss: 0.302\n",
      "  Accuracy: 0.887\n",
      "Test set\n",
      "  Loss: 0.526\n",
      "  Accuracy: 0.797\n"
     ]
    }
   ],
   "source": [
    "# evaluate the model\n",
    "train_score= loaded_model.evaluate(xtrain_pad, ytrain_enc)\n",
    "test_score= loaded_model.evaluate(xtest_pad, ytest_enc)\n",
    "print('Train set\\n  Loss: {:0.3f}\\n  Accuracy: {:0.3f}'.format(train_score[0],train_score[1]))\n",
    "print('Test set\\n  Loss: {:0.3f}\\n  Accuracy: {:0.3f}'.format(test_score[0],test_score[1]))"
   ]
  },
  {
   "cell_type": "code",
   "execution_count": 84,
   "metadata": {},
   "outputs": [
    {
     "name": "stdout",
     "output_type": "stream",
     "text": [
      "1958/1958 [==============================] - 7s 3ms/sample - loss: 0.5115 - accuracy: 0.8100\n",
      "Test set\n",
      "  Loss: 0.511\n",
      "  Accuracy: 0.810\n"
     ]
    }
   ],
   "source": [
    "score= loaded_model.evaluate(xvalid_pad, yvalid_enc)\n",
    "print('Test set\\n  Loss: {:0.3f}\\n  Accuracy: {:0.3f}'.format(score[0],score[1]))"
   ]
  },
  {
   "cell_type": "raw",
   "metadata": {},
   "source": [
    "The model improved from \n",
    "Test set\n",
    "  Loss:\n",
    "    LSTM: 0.564 to\n",
    "    GRU: 0.506\n",
    "  Accuracy: \n",
    "    LSTM: 0.776\n",
    "    GRU: 0.797"
   ]
  },
  {
   "cell_type": "raw",
   "metadata": {},
   "source": [
    "model = Sequential()\n",
    "model.add(Embedding(MAX_NB_WORDS, EMBEDDING_DIM, input_length=X.shape[1]))\n",
    "model.add(SpatialDropout1D(0.2))\n",
    "model.add(LSTM(100, dropout=0.2, recurrent_dropout=0.2))\n",
    "model.add(Dense(13, activation='softmax'))\n",
    "model.compile(loss='categorical_crossentropy', optimizer='adam', metrics=['accuracy'])\n",
    "\n",
    "epochs = 5\n",
    "batch_size = 64\n",
    "\n",
    "history = model.fit(X_train, Y_train, epochs=epochs, batch_size=batch_size,validation_split=0.1,callbacks=[EarlyStopping(monitor='val_loss', patience=3, min_delta=0.0001)])"
   ]
  },
  {
   "cell_type": "code",
   "execution_count": 109,
   "metadata": {},
   "outputs": [
    {
     "data": {
      "text/plain": [
       "(17621, 70)"
      ]
     },
     "execution_count": 109,
     "metadata": {},
     "output_type": "execute_result"
    }
   ],
   "source": [
    "xtrain_pad.shape"
   ]
  },
  {
   "cell_type": "code",
   "execution_count": 120,
   "metadata": {},
   "outputs": [
    {
     "data": {
      "text/plain": [
       "(70,)"
      ]
     },
     "execution_count": 120,
     "metadata": {},
     "output_type": "execute_result"
    }
   ],
   "source": [
    "xtrain_pad[0].shape"
   ]
  },
  {
   "cell_type": "code",
   "execution_count": 125,
   "metadata": {},
   "outputs": [
    {
     "data": {
      "text/plain": [
       "(1, 70)"
      ]
     },
     "execution_count": 125,
     "metadata": {},
     "output_type": "execute_result"
    }
   ],
   "source": [
    "test = np.expand_dims(xtrain_pad[10], axis=0)\n",
    "test.shape"
   ]
  },
  {
   "cell_type": "code",
   "execution_count": 126,
   "metadata": {},
   "outputs": [
    {
     "data": {
      "text/plain": [
       "array([2])"
      ]
     },
     "execution_count": 126,
     "metadata": {},
     "output_type": "execute_result"
    }
   ],
   "source": [
    "model.predict_classes(test)"
   ]
  },
  {
   "cell_type": "code",
   "execution_count": 128,
   "metadata": {},
   "outputs": [
    {
     "data": {
      "text/plain": [
       "array([0., 0., 1.], dtype=float32)"
      ]
     },
     "execution_count": 128,
     "metadata": {},
     "output_type": "execute_result"
    }
   ],
   "source": [
    "ytrain_enc[10]"
   ]
  },
  {
   "cell_type": "markdown",
   "metadata": {},
   "source": [
    "# 7. Ensembling"
   ]
  },
  {
   "cell_type": "code",
   "execution_count": 90,
   "metadata": {},
   "outputs": [],
   "source": [
    "from sklearn.model_selection import StratifiedKFold, KFold\n",
    "from sklearn.metrics import roc_auc_score\n",
    "import os\n",
    "import sys\n",
    "import logging"
   ]
  },
  {
   "cell_type": "code",
   "execution_count": 91,
   "metadata": {},
   "outputs": [],
   "source": [
    "logging.basicConfig(\n",
    "    level=logging.DEBUG,\n",
    "    format=\"[%(asctime)s] %(levelname)s %(message)s\",\n",
    "    datefmt=\"%H:%M:%S\", stream=sys.stdout)\n",
    "logger = logging.getLogger(__name__)"
   ]
  },
  {
   "cell_type": "code",
   "execution_count": 92,
   "metadata": {},
   "outputs": [],
   "source": [
    "class Ensembler(object):\n",
    "    def __init__(self, model_dict, num_folds=3, task_type='classification'\n",
    "                 , optimize=roc_auc_score,lower_is_better=False, \n",
    "                 save_path=None):\n",
    "        \"\"\"\n",
    "        Ensembler init function\n",
    "        :param model_dict: model dictionary, see README for its format\n",
    "        :param num_folds: the number of folds for ensembling\n",
    "        :param task_type: classification or regression\n",
    "        :param optimize: the function to optimize for, e.g. AUC, logloss, etc. Must have two arguments y_test and y_pred\n",
    "        :param lower_is_better: is lower value of optimization function better or higher\n",
    "        :param save_path: path to which model pickles will be dumped to along with generated predictions, or None\n",
    "        \"\"\"\n",
    "\n",
    "        self.model_dict = model_dict\n",
    "        self.levels = len(self.model_dict)\n",
    "        self.num_folds = num_folds\n",
    "        self.task_type = task_type\n",
    "        self.optimize = optimize\n",
    "        self.lower_is_better = lower_is_better\n",
    "        self.save_path = save_path\n",
    "\n",
    "        self.training_data = None\n",
    "        self.test_data = None\n",
    "        self.y = None\n",
    "        self.lbl_enc = None\n",
    "        self.y_enc = None\n",
    "        self.train_prediction_dict = None\n",
    "        self.test_prediction_dict = None\n",
    "        self.num_classes = None\n",
    "\n",
    "    def fit(self, training_data, y, lentrain):\n",
    "        \"\"\"\n",
    "        :param training_data: training data in tabular format\n",
    "        :param y: binary, multi-class or regression\n",
    "        :return: chain of models to be used in prediction\n",
    "        \"\"\"\n",
    "\n",
    "        self.training_data = training_data\n",
    "        self.y = y\n",
    "\n",
    "        if self.task_type == 'classification':\n",
    "            self.num_classes = len(np.unique(self.y))\n",
    "            logger.info(\"Found %d classes\", self.num_classes)\n",
    "            self.lbl_enc = LabelEncoder()\n",
    "            self.y_enc = self.lbl_enc.fit_transform(self.y)\n",
    "            kf = StratifiedKFold(n_splits=self.num_folds)\n",
    "            train_prediction_shape = (lentrain, self.num_classes)\n",
    "        else:\n",
    "            self.num_classes = -1\n",
    "            self.y_enc = self.y\n",
    "            kf = KFold(n_splits=self.num_folds)\n",
    "            train_prediction_shape = (lentrain, 1)\n",
    "\n",
    "        self.train_prediction_dict = {}\n",
    "        for level in range(self.levels):\n",
    "            self.train_prediction_dict[level] = np.zeros(\n",
    "                (train_prediction_shape[0],\n",
    "                 train_prediction_shape[1] * len(self.model_dict[level])))\n",
    "\n",
    "        for level in range(self.levels):\n",
    "\n",
    "            if level == 0:\n",
    "                temp_train = self.training_data\n",
    "            else:\n",
    "                temp_train = self.train_prediction_dict[level - 1]\n",
    "\n",
    "            for model_num, model in enumerate(self.model_dict[level]):\n",
    "                validation_scores = []\n",
    "                foldnum = 1\n",
    "                for train_index, valid_index in kf.split(\n",
    "                    self.train_prediction_dict[0], self.y_enc):\n",
    "                    \n",
    "                    logger.info(\"Training Level %d Fold # %d. Model # %d\", \n",
    "                                level, foldnum, model_num)\n",
    "\n",
    "                    if level != 0:\n",
    "                        l_training_data = temp_train[train_index]\n",
    "                        l_validation_data = temp_train[valid_index]\n",
    "                        model.fit(l_training_data, self.y_enc[train_index])\n",
    "                    else:\n",
    "                        l0_training_data = temp_train[0][model_num]\n",
    "                        if type(l0_training_data) == list:\n",
    "                            l_training_data = [x[train_index] for x in l0_training_data]\n",
    "                            l_validation_data = [x[valid_index] for x in l0_training_data]\n",
    "                        else:\n",
    "                            l_training_data = l0_training_data[train_index]\n",
    "                            l_validation_data = l0_training_data[valid_index]\n",
    "                        model.fit(l_training_data, self.y_enc[train_index])\n",
    "\n",
    "                    logger.info(\"Predicting Level %d. Fold # %d. Model # %d\", level, foldnum, model_num)\n",
    "\n",
    "                    if self.task_type == 'classification':\n",
    "                        temp_train_predictions = model.predict_proba(l_validation_data)\n",
    "                        self.train_prediction_dict[level][valid_index,\n",
    "                        (model_num * self.num_classes):(model_num * self.num_classes) +\n",
    "                                                       self.num_classes] = temp_train_predictions\n",
    "\n",
    "                    else:\n",
    "                        temp_train_predictions = model.predict(l_validation_data)\n",
    "                        self.train_prediction_dict[level][valid_index, model_num] = temp_train_predictions\n",
    "                    validation_score = self.optimize(self.y_enc[valid_index], temp_train_predictions)\n",
    "                    validation_scores.append(validation_score)\n",
    "                    logger.info(\"Level %d. Fold # %d. Model # %d. Validation Score = %f\", level, foldnum, model_num,\n",
    "                                validation_score)\n",
    "                    foldnum += 1\n",
    "                avg_score = np.mean(validation_scores)\n",
    "                std_score = np.std(validation_scores)\n",
    "                logger.info(\"Level %d. Model # %d. Mean Score = %f. Std Dev = %f\", level, model_num,\n",
    "                            avg_score, std_score)\n",
    "\n",
    "            logger.info(\"Saving predictions for level # %d\", level)\n",
    "            train_predictions_df = pd.DataFrame(self.train_prediction_dict[level])\n",
    "            train_predictions_df.to_csv(os.path.join(self.save_path, \"train_predictions_level_\" + str(level) + \".csv\"),\n",
    "                                        index=False, header=None)\n",
    "\n",
    "        return self.train_prediction_dict\n",
    "\n",
    "    def predict(self, test_data, lentest):\n",
    "        self.test_data = test_data\n",
    "        if self.task_type == 'classification':\n",
    "            test_prediction_shape = (lentest, self.num_classes)\n",
    "        else:\n",
    "            test_prediction_shape = (lentest, 1)\n",
    "\n",
    "        self.test_prediction_dict = {}\n",
    "        for level in range(self.levels):\n",
    "            self.test_prediction_dict[level] = np.zeros((test_prediction_shape[0],\n",
    "                                                         test_prediction_shape[1] * len(self.model_dict[level])))\n",
    "        self.test_data = test_data\n",
    "        for level in range(self.levels):\n",
    "            if level == 0:\n",
    "                temp_train = self.training_data\n",
    "                temp_test = self.test_data\n",
    "            else:\n",
    "                temp_train = self.train_prediction_dict[level - 1]\n",
    "                temp_test = self.test_prediction_dict[level - 1]\n",
    "\n",
    "            for model_num, model in enumerate(self.model_dict[level]):\n",
    "\n",
    "                logger.info(\"Training Fulldata Level %d. Model # %d\", level, model_num)\n",
    "                if level == 0:\n",
    "                    model.fit(temp_train[0][model_num], self.y_enc)\n",
    "                else:\n",
    "                    model.fit(temp_train, self.y_enc)\n",
    "\n",
    "                logger.info(\"Predicting Test Level %d. Model # %d\", level, model_num)\n",
    "\n",
    "                if self.task_type == 'classification':\n",
    "                    if level == 0:\n",
    "                        temp_test_predictions = model.predict_proba(temp_test[0][model_num])\n",
    "                    else:\n",
    "                        temp_test_predictions = model.predict_proba(temp_test)\n",
    "                    self.test_prediction_dict[level][:, (model_num * self.num_classes): (model_num * self.num_classes) +\n",
    "                                                                                        self.num_classes] = temp_test_predictions\n",
    "\n",
    "                else:\n",
    "                    if level == 0:\n",
    "                        temp_test_predictions = model.predict(temp_test[0][model_num])\n",
    "                    else:\n",
    "                        temp_test_predictions = model.predict(temp_test)\n",
    "                    self.test_prediction_dict[level][:, model_num] = temp_test_predictions\n",
    "\n",
    "            test_predictions_df = pd.DataFrame(self.test_prediction_dict[level])\n",
    "            test_predictions_df.to_csv(os.path.join(self.save_path, \"test_predictions_level_\" + str(level) + \".csv\"),\n",
    "                                       index=False, header=None)\n",
    "\n",
    "        return self.test_prediction_dict"
   ]
  },
  {
   "cell_type": "code",
   "execution_count": 93,
   "metadata": {},
   "outputs": [],
   "source": [
    "# specify the data to be used for every level of ensembling:\n",
    "train_data_dict = {0: [x_tfidf, x_ctv, x_tfidf, x_ctv], \n",
    "                   1: [xtrain_glove]}\n",
    "test_data_dict = {0: [v_tfidf, v_ctv, v_tfidf, v_ctv], \n",
    "                  1: [xvalid_glove]}"
   ]
  },
  {
   "cell_type": "code",
   "execution_count": 95,
   "metadata": {},
   "outputs": [],
   "source": [
    "model_dict = {0: [LogisticRegression(), LogisticRegression(), \n",
    "                  MultinomialNB(alpha=0.1), MultinomialNB()],\n",
    "              1: [XGBClassifier(silent=True, n_estimators=120, \n",
    "                                    max_depth=7)]}"
   ]
  },
  {
   "cell_type": "code",
   "execution_count": 96,
   "metadata": {},
   "outputs": [],
   "source": [
    "ens = Ensembler(model_dict=model_dict, num_folds=3, \n",
    "                task_type='classification',\n",
    "                optimize=multiclass_logloss, lower_is_better=True, \n",
    "                save_path='')"
   ]
  },
  {
   "cell_type": "code",
   "execution_count": 97,
   "metadata": {},
   "outputs": [
    {
     "name": "stdout",
     "output_type": "stream",
     "text": [
      "[17:24:22] INFO Found 3 classes\n",
      "[17:24:22] INFO Training Level 0 Fold # 1. Model # 0\n",
      "[17:24:24] INFO Predicting Level 0. Fold # 1. Model # 0\n",
      "[17:24:24] INFO Level 0. Fold # 1. Model # 0. Validation Score = 0.626621\n",
      "[17:24:24] INFO Training Level 0 Fold # 2. Model # 0\n"
     ]
    },
    {
     "name": "stderr",
     "output_type": "stream",
     "text": [
      "/usr/local/lib/python3.6/dist-packages/sklearn/linear_model/_logistic.py:940: ConvergenceWarning: lbfgs failed to converge (status=1):\n",
      "STOP: TOTAL NO. of ITERATIONS REACHED LIMIT.\n",
      "\n",
      "Increase the number of iterations (max_iter) or scale the data as shown in:\n",
      "    https://scikit-learn.org/stable/modules/preprocessing.html\n",
      "Please also refer to the documentation for alternative solver options:\n",
      "    https://scikit-learn.org/stable/modules/linear_model.html#logistic-regression\n",
      "  extra_warning_msg=_LOGISTIC_SOLVER_CONVERGENCE_MSG)\n"
     ]
    },
    {
     "name": "stdout",
     "output_type": "stream",
     "text": [
      "[17:24:26] INFO Predicting Level 0. Fold # 2. Model # 0\n",
      "[17:24:26] INFO Level 0. Fold # 2. Model # 0. Validation Score = 0.616458\n",
      "[17:24:26] INFO Training Level 0 Fold # 3. Model # 0\n",
      "[17:24:28] INFO Predicting Level 0. Fold # 3. Model # 0\n",
      "[17:24:28] INFO Level 0. Fold # 3. Model # 0. Validation Score = 0.619625\n",
      "[17:24:28] INFO Level 0. Model # 0. Mean Score = 0.620901. Std Dev = 0.004246\n",
      "[17:24:28] INFO Training Level 0 Fold # 1. Model # 1\n"
     ]
    },
    {
     "name": "stderr",
     "output_type": "stream",
     "text": [
      "/usr/local/lib/python3.6/dist-packages/sklearn/linear_model/_logistic.py:940: ConvergenceWarning: lbfgs failed to converge (status=1):\n",
      "STOP: TOTAL NO. of ITERATIONS REACHED LIMIT.\n",
      "\n",
      "Increase the number of iterations (max_iter) or scale the data as shown in:\n",
      "    https://scikit-learn.org/stable/modules/preprocessing.html\n",
      "Please also refer to the documentation for alternative solver options:\n",
      "    https://scikit-learn.org/stable/modules/linear_model.html#logistic-regression\n",
      "  extra_warning_msg=_LOGISTIC_SOLVER_CONVERGENCE_MSG)\n"
     ]
    },
    {
     "name": "stdout",
     "output_type": "stream",
     "text": [
      "[17:24:54] INFO Predicting Level 0. Fold # 1. Model # 1\n",
      "[17:24:54] INFO Level 0. Fold # 1. Model # 1. Validation Score = 0.573485\n",
      "[17:24:54] INFO Training Level 0 Fold # 2. Model # 1\n",
      "[17:25:17] INFO Predicting Level 0. Fold # 2. Model # 1\n",
      "[17:25:17] INFO Level 0. Fold # 2. Model # 1. Validation Score = 0.563451\n",
      "[17:25:17] INFO Training Level 0 Fold # 3. Model # 1\n",
      "[17:25:39] INFO Predicting Level 0. Fold # 3. Model # 1\n",
      "[17:25:39] INFO Level 0. Fold # 3. Model # 1. Validation Score = 0.567765\n",
      "[17:25:39] INFO Level 0. Model # 1. Mean Score = 0.568233. Std Dev = 0.004110\n",
      "[17:25:39] INFO Training Level 0 Fold # 1. Model # 2\n",
      "[17:25:39] INFO Predicting Level 0. Fold # 1. Model # 2\n",
      "[17:25:39] INFO Level 0. Fold # 1. Model # 2. Validation Score = 0.463292\n",
      "[17:25:39] INFO Training Level 0 Fold # 2. Model # 2\n",
      "[17:25:39] INFO Predicting Level 0. Fold # 2. Model # 2\n",
      "[17:25:39] INFO Level 0. Fold # 2. Model # 2. Validation Score = 0.456477\n",
      "[17:25:39] INFO Training Level 0 Fold # 3. Model # 2\n",
      "[17:25:39] INFO Predicting Level 0. Fold # 3. Model # 2\n",
      "[17:25:39] INFO Level 0. Fold # 3. Model # 2. Validation Score = 0.461664\n",
      "[17:25:39] INFO Level 0. Model # 2. Mean Score = 0.460478. Std Dev = 0.002906\n",
      "[17:25:39] INFO Training Level 0 Fold # 1. Model # 3\n",
      "[17:25:39] INFO Predicting Level 0. Fold # 1. Model # 3\n",
      "[17:25:39] INFO Level 0. Fold # 1. Model # 3. Validation Score = 0.472378\n",
      "[17:25:39] INFO Training Level 0 Fold # 2. Model # 3\n",
      "[17:25:39] INFO Predicting Level 0. Fold # 2. Model # 3\n",
      "[17:25:39] INFO Level 0. Fold # 2. Model # 3. Validation Score = 0.473229\n",
      "[17:25:39] INFO Training Level 0 Fold # 3. Model # 3\n",
      "[17:25:39] INFO Predicting Level 0. Fold # 3. Model # 3\n",
      "[17:25:39] INFO Level 0. Fold # 3. Model # 3. Validation Score = 0.479033\n",
      "[17:25:39] INFO Level 0. Model # 3. Mean Score = 0.474880. Std Dev = 0.002957\n",
      "[17:25:39] INFO Saving predictions for level # 0\n",
      "[17:25:40] INFO Training Level 1 Fold # 1. Model # 0\n",
      "[17:25:46] INFO Predicting Level 1. Fold # 1. Model # 0\n",
      "[17:25:46] INFO Level 1. Fold # 1. Model # 0. Validation Score = 0.485556\n",
      "[17:25:46] INFO Training Level 1 Fold # 2. Model # 0\n",
      "[17:25:48] INFO Predicting Level 1. Fold # 2. Model # 0\n",
      "[17:25:48] INFO Level 1. Fold # 2. Model # 0. Validation Score = 0.472065\n",
      "[17:25:48] INFO Training Level 1 Fold # 3. Model # 0\n",
      "[17:25:50] INFO Predicting Level 1. Fold # 3. Model # 0\n",
      "[17:25:50] INFO Level 1. Fold # 3. Model # 0. Validation Score = 0.495281\n",
      "[17:25:50] INFO Level 1. Model # 0. Mean Score = 0.484301. Std Dev = 0.009520\n",
      "[17:25:50] INFO Saving predictions for level # 1\n"
     ]
    },
    {
     "data": {
      "text/plain": [
       "{0: array([[1.82507980e-01, 5.62445949e-01, 2.55046071e-01, ...,\n",
       "         1.63905894e-03, 9.78914382e-01, 1.94465590e-02],\n",
       "        [5.81491564e-01, 8.06830731e-02, 3.37825363e-01, ...,\n",
       "         9.12471891e-01, 1.32663502e-03, 8.62014740e-02],\n",
       "        [2.93323536e-01, 1.35036429e-01, 5.71640035e-01, ...,\n",
       "         1.82118284e-02, 8.72006925e-05, 9.81700971e-01],\n",
       "        ...,\n",
       "        [7.75923272e-01, 1.26977715e-01, 9.70990128e-02, ...,\n",
       "         9.86335183e-01, 1.23153067e-02, 1.34950984e-03],\n",
       "        [1.26112693e-01, 1.58593905e-01, 7.15293402e-01, ...,\n",
       "         2.91343713e-02, 3.19121725e-02, 9.38953456e-01],\n",
       "        [4.42053774e-01, 1.84822099e-01, 3.73124127e-01, ...,\n",
       "         6.30341085e-01, 2.44825189e-02, 3.45176396e-01]]),\n",
       " 1: array([[9.07164346e-03, 9.81958687e-01, 8.96969251e-03],\n",
       "        [2.18813434e-01, 1.74064073e-03, 7.79445946e-01],\n",
       "        [2.12095324e-02, 9.45792941e-04, 9.77844715e-01],\n",
       "        ...,\n",
       "        [9.91931617e-01, 1.49883714e-03, 6.56957692e-03],\n",
       "        [1.03254123e-02, 1.27766011e-02, 9.76897955e-01],\n",
       "        [7.35851884e-01, 1.84058342e-02, 2.45742291e-01]])}"
      ]
     },
     "execution_count": 97,
     "metadata": {},
     "output_type": "execute_result"
    }
   ],
   "source": [
    "ens.fit(train_data_dict, y_train, lentrain=xtrain_glove.shape[0])"
   ]
  },
  {
   "cell_type": "code",
   "execution_count": 98,
   "metadata": {},
   "outputs": [
    {
     "name": "stdout",
     "output_type": "stream",
     "text": [
      "[17:27:11] INFO Training Fulldata Level 0. Model # 0\n",
      "[17:27:14] INFO Predicting Test Level 0. Model # 0\n",
      "[17:27:14] INFO Training Fulldata Level 0. Model # 1\n"
     ]
    },
    {
     "name": "stderr",
     "output_type": "stream",
     "text": [
      "/usr/local/lib/python3.6/dist-packages/sklearn/linear_model/_logistic.py:940: ConvergenceWarning: lbfgs failed to converge (status=1):\n",
      "STOP: TOTAL NO. of ITERATIONS REACHED LIMIT.\n",
      "\n",
      "Increase the number of iterations (max_iter) or scale the data as shown in:\n",
      "    https://scikit-learn.org/stable/modules/preprocessing.html\n",
      "Please also refer to the documentation for alternative solver options:\n",
      "    https://scikit-learn.org/stable/modules/linear_model.html#logistic-regression\n",
      "  extra_warning_msg=_LOGISTIC_SOLVER_CONVERGENCE_MSG)\n"
     ]
    },
    {
     "name": "stdout",
     "output_type": "stream",
     "text": [
      "[17:27:37] INFO Predicting Test Level 0. Model # 1\n",
      "[17:27:37] INFO Training Fulldata Level 0. Model # 2\n",
      "[17:27:37] INFO Predicting Test Level 0. Model # 2\n",
      "[17:27:37] INFO Training Fulldata Level 0. Model # 3\n",
      "[17:27:37] INFO Predicting Test Level 0. Model # 3\n"
     ]
    },
    {
     "name": "stderr",
     "output_type": "stream",
     "text": [
      "/usr/local/lib/python3.6/dist-packages/sklearn/linear_model/_logistic.py:940: ConvergenceWarning: lbfgs failed to converge (status=1):\n",
      "STOP: TOTAL NO. of ITERATIONS REACHED LIMIT.\n",
      "\n",
      "Increase the number of iterations (max_iter) or scale the data as shown in:\n",
      "    https://scikit-learn.org/stable/modules/preprocessing.html\n",
      "Please also refer to the documentation for alternative solver options:\n",
      "    https://scikit-learn.org/stable/modules/linear_model.html#logistic-regression\n",
      "  extra_warning_msg=_LOGISTIC_SOLVER_CONVERGENCE_MSG)\n"
     ]
    },
    {
     "name": "stdout",
     "output_type": "stream",
     "text": [
      "[17:27:37] INFO Training Fulldata Level 1. Model # 0\n",
      "[17:27:40] INFO Predicting Test Level 1. Model # 0\n"
     ]
    }
   ],
   "source": [
    "preds = ens.predict(test_data_dict, lentest=xvalid_glove.shape[0])"
   ]
  },
  {
   "cell_type": "code",
   "execution_count": 99,
   "metadata": {},
   "outputs": [
    {
     "data": {
      "text/plain": [
       "0.46601874174462027"
      ]
     },
     "execution_count": 99,
     "metadata": {},
     "output_type": "execute_result"
    }
   ],
   "source": [
    "# check error:\n",
    "multiclass_logloss(y_valid, preds[1])"
   ]
  },
  {
   "cell_type": "raw",
   "metadata": {},
   "source": [
    "Thus, we see that ensembling improves the score by a great extent! "
   ]
  },
  {
   "cell_type": "code",
   "execution_count": 103,
   "metadata": {},
   "outputs": [
    {
     "data": {
      "text/plain": [
       "['ensemble_clf.joblib']"
      ]
     },
     "execution_count": 103,
     "metadata": {},
     "output_type": "execute_result"
    }
   ],
   "source": [
    "from joblib import dump, load\n",
    "dump(ens, 'ensemble_clf.joblib') "
   ]
  },
  {
   "cell_type": "code",
   "execution_count": 104,
   "metadata": {},
   "outputs": [],
   "source": [
    "clf = load('ensemble_clf.joblib')"
   ]
  },
  {
   "cell_type": "code",
   "execution_count": 105,
   "metadata": {},
   "outputs": [
    {
     "name": "stdout",
     "output_type": "stream",
     "text": [
      "[17:33:35] INFO Training Fulldata Level 0. Model # 0\n",
      "[17:33:38] INFO Predicting Test Level 0. Model # 0\n",
      "[17:33:38] INFO Training Fulldata Level 0. Model # 1\n"
     ]
    },
    {
     "name": "stderr",
     "output_type": "stream",
     "text": [
      "/usr/local/lib/python3.6/dist-packages/sklearn/linear_model/_logistic.py:940: ConvergenceWarning: lbfgs failed to converge (status=1):\n",
      "STOP: TOTAL NO. of ITERATIONS REACHED LIMIT.\n",
      "\n",
      "Increase the number of iterations (max_iter) or scale the data as shown in:\n",
      "    https://scikit-learn.org/stable/modules/preprocessing.html\n",
      "Please also refer to the documentation for alternative solver options:\n",
      "    https://scikit-learn.org/stable/modules/linear_model.html#logistic-regression\n",
      "  extra_warning_msg=_LOGISTIC_SOLVER_CONVERGENCE_MSG)\n"
     ]
    },
    {
     "name": "stdout",
     "output_type": "stream",
     "text": [
      "[17:34:01] INFO Predicting Test Level 0. Model # 1\n",
      "[17:34:01] INFO Training Fulldata Level 0. Model # 2\n",
      "[17:34:01] INFO Predicting Test Level 0. Model # 2\n",
      "[17:34:01] INFO Training Fulldata Level 0. Model # 3\n",
      "[17:34:01] INFO Predicting Test Level 0. Model # 3\n",
      "[17:34:01] INFO Training Fulldata Level 1. Model # 0\n"
     ]
    },
    {
     "name": "stderr",
     "output_type": "stream",
     "text": [
      "/usr/local/lib/python3.6/dist-packages/sklearn/linear_model/_logistic.py:940: ConvergenceWarning: lbfgs failed to converge (status=1):\n",
      "STOP: TOTAL NO. of ITERATIONS REACHED LIMIT.\n",
      "\n",
      "Increase the number of iterations (max_iter) or scale the data as shown in:\n",
      "    https://scikit-learn.org/stable/modules/preprocessing.html\n",
      "Please also refer to the documentation for alternative solver options:\n",
      "    https://scikit-learn.org/stable/modules/linear_model.html#logistic-regression\n",
      "  extra_warning_msg=_LOGISTIC_SOLVER_CONVERGENCE_MSG)\n"
     ]
    },
    {
     "name": "stdout",
     "output_type": "stream",
     "text": [
      "[17:34:04] INFO Predicting Test Level 1. Model # 0\n"
     ]
    }
   ],
   "source": [
    "predict = clf.predict(test_data_dict, lentest=xvalid_glove.shape[0])"
   ]
  },
  {
   "cell_type": "code",
   "execution_count": 106,
   "metadata": {},
   "outputs": [
    {
     "data": {
      "text/plain": [
       "0.46601874174462027"
      ]
     },
     "execution_count": 106,
     "metadata": {},
     "output_type": "execute_result"
    }
   ],
   "source": [
    "# check error:\n",
    "multiclass_logloss(y_valid, predict[1])"
   ]
  },
  {
   "cell_type": "code",
   "execution_count": 108,
   "metadata": {},
   "outputs": [
    {
     "data": {
      "text/html": [
       "<div>\n",
       "<style scoped>\n",
       "    .dataframe tbody tr th:only-of-type {\n",
       "        vertical-align: middle;\n",
       "    }\n",
       "\n",
       "    .dataframe tbody tr th {\n",
       "        vertical-align: top;\n",
       "    }\n",
       "\n",
       "    .dataframe thead th {\n",
       "        text-align: right;\n",
       "    }\n",
       "</style>\n",
       "<table border=\"1\" class=\"dataframe\">\n",
       "  <thead>\n",
       "    <tr style=\"text-align: right;\">\n",
       "      <th></th>\n",
       "      <th>0.009071643464267254</th>\n",
       "      <th>0.9819586873054504</th>\n",
       "      <th>0.008969692513346672</th>\n",
       "    </tr>\n",
       "  </thead>\n",
       "  <tbody>\n",
       "    <tr>\n",
       "      <th>0</th>\n",
       "      <td>0.218813</td>\n",
       "      <td>0.001741</td>\n",
       "      <td>0.779446</td>\n",
       "    </tr>\n",
       "    <tr>\n",
       "      <th>1</th>\n",
       "      <td>0.021210</td>\n",
       "      <td>0.000946</td>\n",
       "      <td>0.977845</td>\n",
       "    </tr>\n",
       "    <tr>\n",
       "      <th>2</th>\n",
       "      <td>0.005669</td>\n",
       "      <td>0.971037</td>\n",
       "      <td>0.023294</td>\n",
       "    </tr>\n",
       "    <tr>\n",
       "      <th>3</th>\n",
       "      <td>0.002966</td>\n",
       "      <td>0.007082</td>\n",
       "      <td>0.989951</td>\n",
       "    </tr>\n",
       "    <tr>\n",
       "      <th>4</th>\n",
       "      <td>0.046584</td>\n",
       "      <td>0.005869</td>\n",
       "      <td>0.947547</td>\n",
       "    </tr>\n",
       "    <tr>\n",
       "      <th>5</th>\n",
       "      <td>0.000066</td>\n",
       "      <td>0.999887</td>\n",
       "      <td>0.000046</td>\n",
       "    </tr>\n",
       "    <tr>\n",
       "      <th>6</th>\n",
       "      <td>0.005012</td>\n",
       "      <td>0.012276</td>\n",
       "      <td>0.982712</td>\n",
       "    </tr>\n",
       "    <tr>\n",
       "      <th>7</th>\n",
       "      <td>0.312612</td>\n",
       "      <td>0.015788</td>\n",
       "      <td>0.671600</td>\n",
       "    </tr>\n",
       "    <tr>\n",
       "      <th>8</th>\n",
       "      <td>0.726404</td>\n",
       "      <td>0.224827</td>\n",
       "      <td>0.048769</td>\n",
       "    </tr>\n",
       "    <tr>\n",
       "      <th>9</th>\n",
       "      <td>0.000260</td>\n",
       "      <td>0.000025</td>\n",
       "      <td>0.999714</td>\n",
       "    </tr>\n",
       "  </tbody>\n",
       "</table>\n",
       "</div>"
      ],
      "text/plain": [
       "   0.009071643464267254  0.9819586873054504  0.008969692513346672\n",
       "0              0.218813            0.001741              0.779446\n",
       "1              0.021210            0.000946              0.977845\n",
       "2              0.005669            0.971037              0.023294\n",
       "3              0.002966            0.007082              0.989951\n",
       "4              0.046584            0.005869              0.947547\n",
       "5              0.000066            0.999887              0.000046\n",
       "6              0.005012            0.012276              0.982712\n",
       "7              0.312612            0.015788              0.671600\n",
       "8              0.726404            0.224827              0.048769\n",
       "9              0.000260            0.000025              0.999714"
      ]
     },
     "execution_count": 108,
     "metadata": {},
     "output_type": "execute_result"
    }
   ],
   "source": [
    "df = pd.read_csv('train_predictions_level_1.csv')\n",
    "df.head(10)"
   ]
  },
  {
   "cell_type": "code",
   "execution_count": null,
   "metadata": {},
   "outputs": [],
   "source": []
  }
 ],
 "metadata": {
  "file_extension": ".py",
  "kernelspec": {
   "display_name": "Python 3",
   "language": "python",
   "name": "python3"
  },
  "language_info": {
   "codemirror_mode": {
    "name": "ipython",
    "version": 3
   },
   "file_extension": ".py",
   "mimetype": "text/x-python",
   "name": "python",
   "nbconvert_exporter": "python",
   "pygments_lexer": "ipython3",
   "version": "3.6.9"
  },
  "mimetype": "text/x-python",
  "name": "python",
  "npconvert_exporter": "python",
  "pygments_lexer": "ipython3",
  "version": 3
 },
 "nbformat": 4,
 "nbformat_minor": 2
}
