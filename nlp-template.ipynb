{
 "cells": [
  {
   "cell_type": "raw",
   "metadata": {},
   "source": [
    "\"\"\"\n",
    "Approaching (Almost) Any NLP Problem\n",
    "In this post I'll talk about approaching natural language processing task. As an example, we will use the data from the spooky author identification. We will create a very basic first model first and then improve it using different other features. We will also see how deep neural networks can be used and end this post with some ideas about ensembling in general.\n",
    "\n",
    "This covers:\n",
    "tfidf\n",
    "count features\n",
    "logistic regression\n",
    "naive bayes\n",
    "svm\n",
    "xgboost\n",
    "grid search\n",
    "word vectors\n",
    "LSTM\n",
    "GRU\n",
    "Ensembling\n",
    "\n",
    "The problem requires us to predict the author, i.e. EAP, HPL and MWS given the text. In simpler words, text classification with 3 different classes.\n",
    "\n",
    "For this particular problem, Kaggle has specified multi-class log-loss as evaluation metric.\n",
    "\"\"\""
   ]
  },
  {
   "cell_type": "code",
   "execution_count": 129,
   "metadata": {},
   "outputs": [],
   "source": [
    "import pandas as pd\n",
    "import numpy as np\n",
    "from xgboost import XGBClassifier\n",
    "from tqdm import tqdm\n",
    "\n",
    "from tensorflow.keras.utils import to_categorical\n",
    "from tensorflow.keras.models import Sequential\n",
    "from tensorflow.keras.layers import LSTM, GRU, Dense, Activation, Dropout, Embedding, BatchNormalization\n",
    "from tensorflow.keras.layers import GlobalMaxPooling1D, Conv1D, MaxPooling1D, Flatten, Bidirectional, SpatialDropout1D\n",
    "from tensorflow.keras.preprocessing.sequence import pad_sequences\n",
    "from tensorflow.keras.preprocessing.text import Tokenizer\n",
    "from tensorflow.keras.callbacks import EarlyStopping, ModelCheckpoint\n",
    "\n",
    "from sklearn.svm import SVC\n",
    "from sklearn import model_selection, metrics, pipeline\n",
    "from sklearn.decomposition import TruncatedSVD\n",
    "from sklearn.preprocessing import LabelEncoder, StandardScaler\n",
    "from sklearn.model_selection import GridSearchCV\n",
    "from sklearn.feature_extraction.text import TfidfVectorizer, CountVectorizer\n",
    "from sklearn.decomposition import TruncatedSVD\n",
    "from sklearn.linear_model import LogisticRegression\n",
    "from sklearn.model_selection import train_test_split\n",
    "from sklearn.naive_bayes import MultinomialNB\n",
    "\n",
    "from matplotlib import pyplot\n",
    "import seaborn as sns\n",
    "from nltk import word_tokenize\n",
    "from nltk.corpus import stopwords\n",
    "stop_words = stopwords.words('english')"
   ]
  },
  {
   "cell_type": "code",
   "execution_count": 2,
   "metadata": {},
   "outputs": [],
   "source": [
    "def multiclass_logloss(actual, predicted, eps=1e-15):\n",
    "    \"\"\"Multi class version of Logarithmic Loss metric.\n",
    "    :param actual: Array containing the actual target classes\n",
    "    :param predicted: Matrix with class predictions, one probability per class\n",
    "    \"\"\"\n",
    "    # Convert 'actual' to a binary array if it's not already:\n",
    "    if len(actual.shape) == 1:\n",
    "        actual2 = np.zeros((actual.shape[0], predicted.shape[1]))\n",
    "        for i, val in enumerate(actual):\n",
    "            actual2[i, val] = 1\n",
    "        actual = actual2\n",
    "\n",
    "    clip = np.clip(predicted, eps, 1 - eps)\n",
    "    rows = actual.shape[0]\n",
    "    vsota = np.sum(actual * np.log(clip))\n",
    "    return -1.0 / rows * vsota"
   ]
  },
  {
   "cell_type": "code",
   "execution_count": 3,
   "metadata": {},
   "outputs": [
    {
     "data": {
      "text/html": [
       "<div>\n",
       "<style scoped>\n",
       "    .dataframe tbody tr th:only-of-type {\n",
       "        vertical-align: middle;\n",
       "    }\n",
       "\n",
       "    .dataframe tbody tr th {\n",
       "        vertical-align: top;\n",
       "    }\n",
       "\n",
       "    .dataframe thead th {\n",
       "        text-align: right;\n",
       "    }\n",
       "</style>\n",
       "<table border=\"1\" class=\"dataframe\">\n",
       "  <thead>\n",
       "    <tr style=\"text-align: right;\">\n",
       "      <th></th>\n",
       "      <th>id</th>\n",
       "      <th>text</th>\n",
       "      <th>author</th>\n",
       "    </tr>\n",
       "  </thead>\n",
       "  <tbody>\n",
       "    <tr>\n",
       "      <th>0</th>\n",
       "      <td>id26305</td>\n",
       "      <td>This process, however, afforded me no means of...</td>\n",
       "      <td>EAP</td>\n",
       "    </tr>\n",
       "    <tr>\n",
       "      <th>1</th>\n",
       "      <td>id17569</td>\n",
       "      <td>It never once occurred to me that the fumbling...</td>\n",
       "      <td>HPL</td>\n",
       "    </tr>\n",
       "    <tr>\n",
       "      <th>2</th>\n",
       "      <td>id11008</td>\n",
       "      <td>In his left hand was a gold snuff box, from wh...</td>\n",
       "      <td>EAP</td>\n",
       "    </tr>\n",
       "    <tr>\n",
       "      <th>3</th>\n",
       "      <td>id27763</td>\n",
       "      <td>How lovely is spring As we looked from Windsor...</td>\n",
       "      <td>MWS</td>\n",
       "    </tr>\n",
       "    <tr>\n",
       "      <th>4</th>\n",
       "      <td>id12958</td>\n",
       "      <td>Finding nothing else, not even gold, the Super...</td>\n",
       "      <td>HPL</td>\n",
       "    </tr>\n",
       "  </tbody>\n",
       "</table>\n",
       "</div>"
      ],
      "text/plain": [
       "        id                                               text author\n",
       "0  id26305  This process, however, afforded me no means of...    EAP\n",
       "1  id17569  It never once occurred to me that the fumbling...    HPL\n",
       "2  id11008  In his left hand was a gold snuff box, from wh...    EAP\n",
       "3  id27763  How lovely is spring As we looked from Windsor...    MWS\n",
       "4  id12958  Finding nothing else, not even gold, the Super...    HPL"
      ]
     },
     "execution_count": 3,
     "metadata": {},
     "output_type": "execute_result"
    }
   ],
   "source": [
    "train_data = pd.read_csv('data/spooky-company/train.csv')\n",
    "test_data = pd.read_csv('data/spooky-company/test.csv')\n",
    "train_data.head()"
   ]
  },
  {
   "cell_type": "code",
   "execution_count": 137,
   "metadata": {},
   "outputs": [
    {
     "data": {
      "text/html": [
       "<div>\n",
       "<style scoped>\n",
       "    .dataframe tbody tr th:only-of-type {\n",
       "        vertical-align: middle;\n",
       "    }\n",
       "\n",
       "    .dataframe tbody tr th {\n",
       "        vertical-align: top;\n",
       "    }\n",
       "\n",
       "    .dataframe thead th {\n",
       "        text-align: right;\n",
       "    }\n",
       "</style>\n",
       "<table border=\"1\" class=\"dataframe\">\n",
       "  <thead>\n",
       "    <tr style=\"text-align: right;\">\n",
       "      <th></th>\n",
       "      <th>id</th>\n",
       "      <th>text</th>\n",
       "    </tr>\n",
       "  </thead>\n",
       "  <tbody>\n",
       "    <tr>\n",
       "      <th>0</th>\n",
       "      <td>id02310</td>\n",
       "      <td>Still, as I urged our leaving Ireland with suc...</td>\n",
       "    </tr>\n",
       "    <tr>\n",
       "      <th>1</th>\n",
       "      <td>id24541</td>\n",
       "      <td>If a fire wanted fanning, it could readily be ...</td>\n",
       "    </tr>\n",
       "    <tr>\n",
       "      <th>2</th>\n",
       "      <td>id00134</td>\n",
       "      <td>And when they had broken down the frail door t...</td>\n",
       "    </tr>\n",
       "    <tr>\n",
       "      <th>3</th>\n",
       "      <td>id27757</td>\n",
       "      <td>While I was thinking how I should possibly man...</td>\n",
       "    </tr>\n",
       "    <tr>\n",
       "      <th>4</th>\n",
       "      <td>id04081</td>\n",
       "      <td>I am not sure to what limit his knowledge may ...</td>\n",
       "    </tr>\n",
       "  </tbody>\n",
       "</table>\n",
       "</div>"
      ],
      "text/plain": [
       "        id                                               text\n",
       "0  id02310  Still, as I urged our leaving Ireland with suc...\n",
       "1  id24541  If a fire wanted fanning, it could readily be ...\n",
       "2  id00134  And when they had broken down the frail door t...\n",
       "3  id27757  While I was thinking how I should possibly man...\n",
       "4  id04081  I am not sure to what limit his knowledge may ..."
      ]
     },
     "execution_count": 137,
     "metadata": {},
     "output_type": "execute_result"
    }
   ],
   "source": [
    "test_data.head()"
   ]
  },
  {
   "cell_type": "code",
   "execution_count": 4,
   "metadata": {},
   "outputs": [
    {
     "data": {
      "text/plain": [
       "((19579, 3), (8392, 2))"
      ]
     },
     "execution_count": 4,
     "metadata": {},
     "output_type": "execute_result"
    }
   ],
   "source": [
    "train_data.shape, test_data.shape"
   ]
  },
  {
   "cell_type": "markdown",
   "metadata": {},
   "source": [
    "# 1. Label Encode Category "
   ]
  },
  {
   "cell_type": "code",
   "execution_count": 5,
   "metadata": {},
   "outputs": [],
   "source": [
    "# Category to integers from 0,1,2\n",
    "label_encoder = LabelEncoder()\n",
    "train_label = train_data.author.values\n",
    "y = label_encoder.fit_transform(train_label)"
   ]
  },
  {
   "cell_type": "code",
   "execution_count": 6,
   "metadata": {},
   "outputs": [
    {
     "data": {
      "text/plain": [
       "array(['EAP', 'HPL', 'EAP', ..., 'EAP', 'EAP', 'HPL'], dtype=object)"
      ]
     },
     "execution_count": 6,
     "metadata": {},
     "output_type": "execute_result"
    }
   ],
   "source": [
    "train_label"
   ]
  },
  {
   "cell_type": "code",
   "execution_count": 7,
   "metadata": {},
   "outputs": [
    {
     "data": {
      "text/plain": [
       "<matplotlib.axes._subplots.AxesSubplot at 0x7efea5017c88>"
      ]
     },
     "execution_count": 7,
     "metadata": {},
     "output_type": "execute_result"
    },
    {
     "data": {
      "image/png": "[encoded data removed]",
      "text/plain": [
       "<Figure size 432x288 with 1 Axes>"
      ]
     },
     "metadata": {
      "needs_background": "light"
     },
     "output_type": "display_data"
    }
   ],
   "source": [
    "sns.countplot(x='author', data=train_data)"
   ]
  },
  {
   "cell_type": "code",
   "execution_count": 8,
   "metadata": {},
   "outputs": [
    {
     "data": {
      "text/plain": [
       "EAP    7900\n",
       "MWS    6044\n",
       "HPL    5635\n",
       "Name: author, dtype: int64"
      ]
     },
     "execution_count": 8,
     "metadata": {},
     "output_type": "execute_result"
    }
   ],
   "source": [
    "train_data.author.value_counts()"
   ]
  },
  {
   "cell_type": "code",
   "execution_count": 136,
   "metadata": {},
   "outputs": [
    {
     "ename": "AttributeError",
     "evalue": "'DataFrame' object has no attribute 'author'",
     "output_type": "error",
     "traceback": [
      "\u001b[0;31m---------------------------------------------------------------------------\u001b[0m",
      "\u001b[0;31mAttributeError\u001b[0m                            Traceback (most recent call last)",
      "\u001b[0;32m<ipython-input-136-0304586f4a9a>\u001b[0m in \u001b[0;36m<module>\u001b[0;34m\u001b[0m\n\u001b[0;32m----> 1\u001b[0;31m \u001b[0mtest_data\u001b[0m\u001b[0;34m.\u001b[0m\u001b[0mauthor\u001b[0m\u001b[0;34m.\u001b[0m\u001b[0mvalue_counts\u001b[0m\u001b[0;34m(\u001b[0m\u001b[0;34m)\u001b[0m\u001b[0;34m\u001b[0m\u001b[0;34m\u001b[0m\u001b[0m\n\u001b[0m",
      "\u001b[0;32m/usr/local/lib/python3.6/dist-packages/pandas/core/generic.py\u001b[0m in \u001b[0;36m__getattr__\u001b[0;34m(self, name)\u001b[0m\n\u001b[1;32m   5272\u001b[0m             \u001b[0;32mif\u001b[0m \u001b[0mself\u001b[0m\u001b[0;34m.\u001b[0m\u001b[0m_info_axis\u001b[0m\u001b[0;34m.\u001b[0m\u001b[0m_can_hold_identifiers_and_holds_name\u001b[0m\u001b[0;34m(\u001b[0m\u001b[0mname\u001b[0m\u001b[0;34m)\u001b[0m\u001b[0;34m:\u001b[0m\u001b[0;34m\u001b[0m\u001b[0;34m\u001b[0m\u001b[0m\n\u001b[1;32m   5273\u001b[0m                 \u001b[0;32mreturn\u001b[0m \u001b[0mself\u001b[0m\u001b[0;34m[\u001b[0m\u001b[0mname\u001b[0m\u001b[0;34m]\u001b[0m\u001b[0;34m\u001b[0m\u001b[0;34m\u001b[0m\u001b[0m\n\u001b[0;32m-> 5274\u001b[0;31m             \u001b[0;32mreturn\u001b[0m \u001b[0mobject\u001b[0m\u001b[0;34m.\u001b[0m\u001b[0m__getattribute__\u001b[0m\u001b[0;34m(\u001b[0m\u001b[0mself\u001b[0m\u001b[0;34m,\u001b[0m \u001b[0mname\u001b[0m\u001b[0;34m)\u001b[0m\u001b[0;34m\u001b[0m\u001b[0;34m\u001b[0m\u001b[0m\n\u001b[0m\u001b[1;32m   5275\u001b[0m \u001b[0;34m\u001b[0m\u001b[0m\n\u001b[1;32m   5276\u001b[0m     \u001b[0;32mdef\u001b[0m \u001b[0m__setattr__\u001b[0m\u001b[0;34m(\u001b[0m\u001b[0mself\u001b[0m\u001b[0;34m,\u001b[0m \u001b[0mname\u001b[0m\u001b[0;34m:\u001b[0m \u001b[0mstr\u001b[0m\u001b[0;34m,\u001b[0m \u001b[0mvalue\u001b[0m\u001b[0;34m)\u001b[0m \u001b[0;34m->\u001b[0m \u001b[0;32mNone\u001b[0m\u001b[0;34m:\u001b[0m\u001b[0;34m\u001b[0m\u001b[0;34m\u001b[0m\u001b[0m\n",
      "\u001b[0;31mAttributeError\u001b[0m: 'DataFrame' object has no attribute 'author'"
     ]
    }
   ],
   "source": [
    "test_data.author.value_counts()"
   ]
  },
  {
   "cell_type": "code",
   "execution_count": 9,
   "metadata": {},
   "outputs": [],
   "source": [
    "X = train_data.text.values"
   ]
  },
  {
   "cell_type": "code",
   "execution_count": null,
   "metadata": {},
   "outputs": [],
   "source": [
    "X_test = test_data.text.values\n",
    "y_test = test_data.aut"
   ]
  },
  {
   "cell_type": "markdown",
   "metadata": {},
   "source": [
    "# 2. Split Dataset"
   ]
  },
  {
   "cell_type": "code",
   "execution_count": 10,
   "metadata": {},
   "outputs": [],
   "source": [
    "X_train, X_valid, y_train, y_valid = train_test_split(X, y, stratify=y, \n",
    "                                                      random_state=42, \n",
    "                                                      test_size=0.1,\n",
    "                                                     shuffle=True)"
   ]
  },
  {
   "cell_type": "code",
   "execution_count": 11,
   "metadata": {},
   "outputs": [
    {
     "data": {
      "text/plain": [
       "((17621,), (1958,))"
      ]
     },
     "execution_count": 11,
     "metadata": {},
     "output_type": "execute_result"
    }
   ],
   "source": [
    "X_train.shape, y_valid.shape"
   ]
  },
  {
   "cell_type": "code",
   "execution_count": null,
   "metadata": {},
   "outputs": [],
   "source": [
    "X_valid, y_train, y_valid = train_test_split(X, y, stratify=y, \n",
    "                                                      random_state=42, \n",
    "                                                      test_size=0.1,\n",
    "                                                     shuffle=True)"
   ]
  },
  {
   "cell_type": "markdown",
   "metadata": {},
   "source": [
    "# 3. Basic Model"
   ]
  },
  {
   "cell_type": "code",
   "execution_count": 12,
   "metadata": {},
   "outputs": [],
   "source": [
    "def vectorise(vector, X_train, X_valid):\n",
    "    # Fitting TF-IDF to both training and test sets (semi-supervised learning)\n",
    "    vector.fit(list(X_train) + list(X_valid))\n",
    "    xtrain_vec =  vector.transform(X_train) \n",
    "    xvalid_vec = vector.transform(X_valid)\n",
    "    return xtrain_vec, xvalid_vec\n"
   ]
  },
  {
   "cell_type": "code",
   "execution_count": 13,
   "metadata": {},
   "outputs": [],
   "source": [
    "def train_predict(xtrain_vec, xvalid_vec, y_train, clf):\n",
    "    # Fitting a simple Logistic Regression on TFIDF\n",
    "    clf.fit(xtrain_vec, y_train)\n",
    "    predictions = clf.predict_proba(xvalid_vec)\n",
    "    print(\"logloss: %0.3f \" % multiclass_logloss(y_valid, predictions))\n"
   ]
  },
  {
   "cell_type": "code",
   "execution_count": 14,
   "metadata": {},
   "outputs": [],
   "source": [
    "# Using TFIDF\n",
    "tfidf = TfidfVectorizer(min_df=3,  max_features=None, \n",
    "            strip_accents='unicode', analyzer='word',token_pattern=r'\\w{1,}',\n",
    "            ngram_range=(1, 3), use_idf=1,smooth_idf=1,sublinear_tf=1,\n",
    "            stop_words = 'english')"
   ]
  },
  {
   "cell_type": "code",
   "execution_count": 15,
   "metadata": {},
   "outputs": [],
   "source": [
    "# Using CV\n",
    "ctv = CountVectorizer(analyzer='word',token_pattern=r'\\w{1,}',\n",
    "            ngram_range=(1, 3), stop_words = 'english')"
   ]
  },
  {
   "cell_type": "code",
   "execution_count": 16,
   "metadata": {},
   "outputs": [],
   "source": [
    "x_tfidf,v_tfidf = vectorise(tfidf,X_train, X_valid)"
   ]
  },
  {
   "cell_type": "code",
   "execution_count": 17,
   "metadata": {},
   "outputs": [],
   "source": [
    "x_ctv,v_ctv = vectorise(ctv,X_train, X_valid)"
   ]
  },
  {
   "cell_type": "markdown",
   "metadata": {},
   "source": [
    "# 3.1 Logistic Regression"
   ]
  },
  {
   "cell_type": "code",
   "execution_count": 19,
   "metadata": {},
   "outputs": [],
   "source": [
    "clf = LogisticRegression(C=1.0)"
   ]
  },
  {
   "cell_type": "code",
   "execution_count": 20,
   "metadata": {},
   "outputs": [
    {
     "name": "stdout",
     "output_type": "stream",
     "text": [
      "logloss: 0.572 \n"
     ]
    },
    {
     "name": "stderr",
     "output_type": "stream",
     "text": [
      "/usr/local/lib/python3.6/dist-packages/sklearn/linear_model/_logistic.py:940: ConvergenceWarning: lbfgs failed to converge (status=1):\n",
      "STOP: TOTAL NO. of ITERATIONS REACHED LIMIT.\n",
      "\n",
      "Increase the number of iterations (max_iter) or scale the data as shown in:\n",
      "    https://scikit-learn.org/stable/modules/preprocessing.html\n",
      "Please also refer to the documentation for alternative solver options:\n",
      "    https://scikit-learn.org/stable/modules/linear_model.html#logistic-regression\n",
      "  extra_warning_msg=_LOGISTIC_SOLVER_CONVERGENCE_MSG)\n"
     ]
    }
   ],
   "source": [
    "# TFIDF\n",
    "train_predict(x_tfidf,v_tfidf,y_train, clf)"
   ]
  },
  {
   "cell_type": "raw",
   "metadata": {},
   "source": [
    "And there we go. We have our first model \n",
    "with a multiclass logloss of 0.626.\n",
    "\n",
    "But we are greedy and want a better score. \n",
    "Lets look at the same model with a different data.\n",
    "\n",
    "Instead of using TF-IDF, we can also use word counts as features. \n",
    "This can be done easily using CountVectorizer from scikit-learn."
   ]
  },
  {
   "cell_type": "code",
   "execution_count": 21,
   "metadata": {},
   "outputs": [
    {
     "name": "stdout",
     "output_type": "stream",
     "text": [
      "logloss: 0.527 \n"
     ]
    },
    {
     "name": "stderr",
     "output_type": "stream",
     "text": [
      "/usr/local/lib/python3.6/dist-packages/sklearn/linear_model/_logistic.py:940: ConvergenceWarning: lbfgs failed to converge (status=1):\n",
      "STOP: TOTAL NO. of ITERATIONS REACHED LIMIT.\n",
      "\n",
      "Increase the number of iterations (max_iter) or scale the data as shown in:\n",
      "    https://scikit-learn.org/stable/modules/preprocessing.html\n",
      "Please also refer to the documentation for alternative solver options:\n",
      "    https://scikit-learn.org/stable/modules/linear_model.html#logistic-regression\n",
      "  extra_warning_msg=_LOGISTIC_SOLVER_CONVERGENCE_MSG)\n"
     ]
    }
   ],
   "source": [
    "# CV\n",
    "train_predict(x_ctv,v_ctv,y_train, clf)"
   ]
  },
  {
   "cell_type": "raw",
   "metadata": {},
   "source": [
    "Our model was improved using Count vectorizer"
   ]
  },
  {
   "cell_type": "markdown",
   "metadata": {},
   "source": [
    "# 3.2 Using Naive base"
   ]
  },
  {
   "cell_type": "code",
   "execution_count": 59,
   "metadata": {},
   "outputs": [],
   "source": [
    "clf = MultinomialNB()"
   ]
  },
  {
   "cell_type": "code",
   "execution_count": 60,
   "metadata": {},
   "outputs": [
    {
     "name": "stdout",
     "output_type": "stream",
     "text": [
      "logloss: 0.578 \n"
     ]
    }
   ],
   "source": [
    "# TFIDF\n",
    "train_predict(x_tfidf,v_tfidf,y_train, clf)"
   ]
  },
  {
   "cell_type": "code",
   "execution_count": 61,
   "metadata": {},
   "outputs": [
    {
     "name": "stdout",
     "output_type": "stream",
     "text": [
      "logloss: 0.485 \n"
     ]
    }
   ],
   "source": [
    "# CV\n",
    "train_predict(x_ctv,v_ctv,y_train, clf)"
   ]
  },
  {
   "cell_type": "code",
   "execution_count": 62,
   "metadata": {},
   "outputs": [],
   "source": [
    "# NB does better with the CV data"
   ]
  },
  {
   "cell_type": "markdown",
   "metadata": {},
   "source": [
    "# 3.3 SVM"
   ]
  },
  {
   "cell_type": "code",
   "execution_count": 18,
   "metadata": {},
   "outputs": [],
   "source": [
    "# for svm we have to Apply SVD, I chose 120 components. \n",
    "# 120-200 components are good enough for SVM model.\n",
    "\n",
    "svd = TruncatedSVD(n_components=120)\n",
    "svd.fit(x_tfidf)\n",
    "xtrain_svd = svd.transform(x_tfidf)\n",
    "xvalid_svd = svd.transform(v_tfidf)\n",
    "\n",
    "# Scale the data obtained from SVD. Renaming variable to reuse without scaling.\n",
    "scl = StandardScaler()\n",
    "scl.fit(xtrain_svd)\n",
    "xtrain_svd_scl = scl.transform(xtrain_svd)\n",
    "xvalid_svd_scl = scl.transform(xvalid_svd)"
   ]
  },
  {
   "cell_type": "code",
   "execution_count": 22,
   "metadata": {},
   "outputs": [],
   "source": [
    "clf = SVC(C=1.0, probability=True) # since we need probabilities"
   ]
  },
  {
   "cell_type": "code",
   "execution_count": 67,
   "metadata": {},
   "outputs": [
    {
     "name": "stdout",
     "output_type": "stream",
     "text": [
      "logloss: 0.732 \n"
     ]
    }
   ],
   "source": [
    "train_predict(xtrain_svd_scl, xvalid_svd_scl, y_train, clf)"
   ]
  },
  {
   "cell_type": "code",
   "execution_count": 68,
   "metadata": {},
   "outputs": [],
   "source": [
    "# SVC doesnt do well on this problem"
   ]
  },
  {
   "cell_type": "markdown",
   "metadata": {},
   "source": [
    "# 3.4 XGB"
   ]
  },
  {
   "cell_type": "code",
   "execution_count": 70,
   "metadata": {},
   "outputs": [],
   "source": [
    "clf = XGBClassifier(max_depth=7, n_estimators=200, colsample_bytree=0.8, \n",
    "                        subsample=0.8, nthread=10, learning_rate=0.1)"
   ]
  },
  {
   "cell_type": "code",
   "execution_count": 71,
   "metadata": {},
   "outputs": [
    {
     "name": "stdout",
     "output_type": "stream",
     "text": [
      "logloss: 0.782 \n"
     ]
    }
   ],
   "source": [
    "# TFIDF\n",
    "train_predict(x_tfidf,v_tfidf,y_train, clf)"
   ]
  },
  {
   "cell_type": "code",
   "execution_count": 72,
   "metadata": {},
   "outputs": [
    {
     "name": "stdout",
     "output_type": "stream",
     "text": [
      "logloss: 0.773 \n"
     ]
    }
   ],
   "source": [
    "# CV\n",
    "train_predict(x_ctv,v_ctv,y_train, clf)"
   ]
  },
  {
   "cell_type": "code",
   "execution_count": 73,
   "metadata": {},
   "outputs": [],
   "source": [
    "# XGB also not doing well"
   ]
  },
  {
   "cell_type": "markdown",
   "metadata": {},
   "source": [
    "# 4. Grid Search"
   ]
  },
  {
   "cell_type": "raw",
   "metadata": {},
   "source": [
    "its a technique for hyperparameter optimization. \n",
    "Not so effective but can give good results \n",
    "if you know the grid you want to use. \n",
    "I specify the parameters that should usually be used in this post: \n",
    "http://blog.kaggle.com/2016/07/21/approaching-almost-any-machine-learning-problem-abhishek-thakur/ Please keep in mind that these are the parameters I usually use. There are many other methods of hyperparameter optimization which may or may not be as effective.\n",
    "\n",
    "In this section, I'll talk about grid search using logistic regression.\n",
    "\n",
    "Before starting with grid search we need to create a scoring function. \n",
    "This is accomplished using the make_scorer function of scikit-learn."
   ]
  },
  {
   "cell_type": "code",
   "execution_count": 74,
   "metadata": {},
   "outputs": [],
   "source": [
    "mll_scorer = metrics.make_scorer(multiclass_logloss, \n",
    "                                 greater_is_better=False, \n",
    "                                 needs_proba=True)"
   ]
  },
  {
   "cell_type": "raw",
   "metadata": {},
   "source": [
    "Next we need a pipeline. For demonstration here, \n",
    "i'll be using a pipeline consisting of SVD, scaling and then logistic regression\n",
    "Its better to understand with more modules in pipeline than just one ;)"
   ]
  },
  {
   "cell_type": "code",
   "execution_count": 75,
   "metadata": {},
   "outputs": [],
   "source": [
    "# Initialize SVD\n",
    "svd = TruncatedSVD()"
   ]
  },
  {
   "cell_type": "code",
   "execution_count": 76,
   "metadata": {},
   "outputs": [],
   "source": [
    "# Initialize the standard scaler \n",
    "scl = StandardScaler()"
   ]
  },
  {
   "cell_type": "code",
   "execution_count": 77,
   "metadata": {},
   "outputs": [],
   "source": [
    "# We will use logistic regression here..\n",
    "lr_model = LogisticRegression()"
   ]
  },
  {
   "cell_type": "code",
   "execution_count": 78,
   "metadata": {},
   "outputs": [],
   "source": [
    "# Create the pipeline \n",
    "clf = pipeline.Pipeline([('svd', svd),\n",
    "                         ('scl', scl),\n",
    "                         ('lr', lr_model)])"
   ]
  },
  {
   "cell_type": "code",
   "execution_count": 79,
   "metadata": {},
   "outputs": [],
   "source": [
    "param_grid = {'svd__n_components' : [120, 180],\n",
    "              'lr__C': [0.1, 1.0, 10], \n",
    "              'lr__penalty': ['l1', 'l2']}"
   ]
  },
  {
   "cell_type": "raw",
   "metadata": {},
   "source": [
    "So, for SVD we evaluate 120 and 180 components \n",
    "and for logistic regression we evaluate three different values of C \n",
    "with l1 and l2 penalty. We can now start grid search on these parameters."
   ]
  },
  {
   "cell_type": "code",
   "execution_count": 80,
   "metadata": {},
   "outputs": [],
   "source": [
    "# Initialize Grid Search Model\n",
    "model = GridSearchCV(estimator=clf, param_grid=param_grid, \n",
    "                     scoring=mll_scorer,verbose=10, n_jobs=-1, \n",
    "                     iid=True, refit=True, cv=2)"
   ]
  },
  {
   "cell_type": "code",
   "execution_count": 82,
   "metadata": {},
   "outputs": [
    {
     "name": "stdout",
     "output_type": "stream",
     "text": [
      "Fitting 2 folds for each of 12 candidates, totalling 24 fits\n"
     ]
    },
    {
     "name": "stderr",
     "output_type": "stream",
     "text": [
      "[Parallel(n_jobs=-1)]: Using backend LokyBackend with 8 concurrent workers.\n",
      "[Parallel(n_jobs=-1)]: Done   2 tasks      | elapsed:    5.1s\n",
      "[Parallel(n_jobs=-1)]: Done   9 tasks      | elapsed:    9.0s\n",
      "[Parallel(n_jobs=-1)]: Done  12 out of  24 | elapsed:   11.8s remaining:   11.8s\n",
      "[Parallel(n_jobs=-1)]: Done  15 out of  24 | elapsed:   13.0s remaining:    7.8s\n",
      "[Parallel(n_jobs=-1)]: Done  18 out of  24 | elapsed:   16.3s remaining:    5.4s\n",
      "[Parallel(n_jobs=-1)]: Done  21 out of  24 | elapsed:   17.4s remaining:    2.5s\n",
      "[Parallel(n_jobs=-1)]: Done  24 out of  24 | elapsed:   18.1s remaining:    0.0s\n",
      "[Parallel(n_jobs=-1)]: Done  24 out of  24 | elapsed:   18.1s finished\n",
      "/usr/local/lib/python3.6/dist-packages/sklearn/model_selection/_search.py:823: FutureWarning: The parameter 'iid' is deprecated in 0.22 and will be removed in 0.24.\n",
      "  \"removed in 0.24.\", FutureWarning\n"
     ]
    },
    {
     "data": {
      "text/plain": [
       "GridSearchCV(cv=2, error_score=nan,\n",
       "             estimator=Pipeline(memory=None,\n",
       "                                steps=[('svd',\n",
       "                                        TruncatedSVD(algorithm='randomized',\n",
       "                                                     n_components=2, n_iter=5,\n",
       "                                                     random_state=None,\n",
       "                                                     tol=0.0)),\n",
       "                                       ('scl',\n",
       "                                        StandardScaler(copy=True,\n",
       "                                                       with_mean=True,\n",
       "                                                       with_std=True)),\n",
       "                                       ('lr',\n",
       "                                        LogisticRegression(C=1.0,\n",
       "                                                           class_weight=None,\n",
       "                                                           dual=False,\n",
       "                                                           fit_intercept=True,\n",
       "                                                           intercept_scaling=1,\n",
       "                                                           l1_ratio=None,\n",
       "                                                           max_ite...\n",
       "                                                           random_state=None,\n",
       "                                                           solver='lbfgs',\n",
       "                                                           tol=0.0001,\n",
       "                                                           verbose=0,\n",
       "                                                           warm_start=False))],\n",
       "                                verbose=False),\n",
       "             iid=True, n_jobs=-1,\n",
       "             param_grid={'lr__C': [0.1, 1.0, 10], 'lr__penalty': ['l1', 'l2'],\n",
       "                         'svd__n_components': [120, 180]},\n",
       "             pre_dispatch='2*n_jobs', refit=True, return_train_score=False,\n",
       "             scoring=make_scorer(multiclass_logloss, greater_is_better=False, needs_proba=True),\n",
       "             verbose=10)"
      ]
     },
     "execution_count": 82,
     "metadata": {},
     "output_type": "execute_result"
    }
   ],
   "source": [
    "# Fit Grid Search Model\n",
    "model.fit(x_tfidf, y_train)  \n",
    "# we can use the full data here but im only using xtrain"
   ]
  },
  {
   "cell_type": "code",
   "execution_count": 83,
   "metadata": {},
   "outputs": [
    {
     "name": "stdout",
     "output_type": "stream",
     "text": [
      "Best score: -0.738\n",
      "Best parameters set:\n"
     ]
    }
   ],
   "source": [
    "print(\"Best score: %0.3f\" % model.best_score_)"
   ]
  },
  {
   "cell_type": "code",
   "execution_count": 84,
   "metadata": {},
   "outputs": [
    {
     "name": "stdout",
     "output_type": "stream",
     "text": [
      "Best parameters set:\n",
      "\tlr__C: 10\n",
      "\tlr__penalty: 'l2'\n",
      "\tsvd__n_components: 180\n"
     ]
    }
   ],
   "source": [
    "best_parameters = model.best_estimator_.get_params()\n",
    "print(\"Best parameters set:\")\n",
    "for param_name in sorted(param_grid.keys()):\n",
    "    print(\"\\t%s: %r\" % (param_name, best_parameters[param_name]))"
   ]
  },
  {
   "cell_type": "raw",
   "metadata": {},
   "source": [
    "The score comes similar to what we had for SVM. \n",
    "This technique can be used to finetune xgboost \n",
    "or even multinomial naive bayes as below. \n",
    "We will use the tfidf data here:"
   ]
  },
  {
   "cell_type": "code",
   "execution_count": 88,
   "metadata": {},
   "outputs": [
    {
     "name": "stdout",
     "output_type": "stream",
     "text": [
      "Fitting 2 folds for each of 6 candidates, totalling 12 fits\n",
      "Best score: -0.492\n",
      "Best parameters set:\n",
      "\tnb__alpha: 0.1\n"
     ]
    },
    {
     "name": "stderr",
     "output_type": "stream",
     "text": [
      "[Parallel(n_jobs=-1)]: Using backend LokyBackend with 8 concurrent workers.\n",
      "[Parallel(n_jobs=-1)]: Done   1 tasks      | elapsed:    0.0s\n",
      "[Parallel(n_jobs=-1)]: Batch computation too fast (0.0217s.) Setting batch_size=2.\n",
      "[Parallel(n_jobs=-1)]: Done   3 out of  12 | elapsed:    0.0s remaining:    0.1s\n",
      "[Parallel(n_jobs=-1)]: Done   5 out of  12 | elapsed:    0.1s remaining:    0.1s\n",
      "[Parallel(n_jobs=-1)]: Done   7 out of  12 | elapsed:    0.1s remaining:    0.1s\n",
      "[Parallel(n_jobs=-1)]: Done   9 out of  12 | elapsed:    0.1s remaining:    0.0s\n",
      "[Parallel(n_jobs=-1)]: Done  12 out of  12 | elapsed:    0.1s finished\n",
      "/usr/local/lib/python3.6/dist-packages/sklearn/model_selection/_search.py:823: FutureWarning: The parameter 'iid' is deprecated in 0.22 and will be removed in 0.24.\n",
      "  \"removed in 0.24.\", FutureWarning\n"
     ]
    }
   ],
   "source": [
    "nb_model = MultinomialNB()\n",
    "\n",
    "# Create the pipeline \n",
    "clf = pipeline.Pipeline([('nb', nb_model)])\n",
    "\n",
    "# parameter grid\n",
    "param_grid = {'nb__alpha': [0.001, 0.01, 0.1, 1, 10, 100]}\n",
    "\n",
    "# Initialize Grid Search Model\n",
    "model = GridSearchCV(estimator=clf, param_grid=param_grid, scoring=mll_scorer,\n",
    "                                 verbose=10, n_jobs=-1, iid=True, refit=True, cv=2)\n",
    "\n",
    "# Fit Grid Search Model\n",
    "model.fit(x_tfidf, y_train)  # we can use the full data here but im only using xtrain. \n",
    "print(\"Best score: %0.3f\" % model.best_score_)\n",
    "print(\"Best parameters set:\")\n",
    "best_parameters = model.best_estimator_.get_params()\n",
    "for param_name in sorted(param_grid.keys()):\n",
    "    print(\"\\t%s: %r\" % (param_name, best_parameters[param_name]))"
   ]
  },
  {
   "cell_type": "raw",
   "metadata": {},
   "source": [
    "This is an improvement of 8% over the original naive bayes score!"
   ]
  },
  {
   "cell_type": "markdown",
   "metadata": {},
   "source": [
    "# 5. Word Vectors"
   ]
  },
  {
   "cell_type": "raw",
   "metadata": {},
   "source": [
    "Without going into too much details, \n",
    "I would explain how to create sentence vectors \n",
    "and how can we use them to create a machine learning model on top of it. \n",
    "I am a fan of GloVe vectors, word2vec and fasttext. \n",
    "In this post, I'll be using the GloVe vectors. \n",
    "You can download the GloVe vectors from here \n",
    "http://www-nlp.stanford.edu/data/glove.840B.300d.zip"
   ]
  },
  {
   "cell_type": "code",
   "execution_count": 19,
   "metadata": {},
   "outputs": [],
   "source": [
    "# load the GloVe vectors in a dictionary: \n",
    "def loadGloveModel(gloveFile):\n",
    "    print(\"Loading Glove Model\")\n",
    "    with open(gloveFile,'r', encoding='utf8') as f:\n",
    "        embeddings = {}\n",
    "        for line in f:\n",
    "            splitLine = line.split()\n",
    "            word = splitLine[0]\n",
    "            embedding = np.asarray(splitLine[1:], dtype='float32')\n",
    "            embeddings[word] = embedding\n",
    "    print(\"Done.\",len(embeddings),\" words loaded!\")\n",
    "    return embeddings"
   ]
  },
  {
   "cell_type": "code",
   "execution_count": 20,
   "metadata": {},
   "outputs": [
    {
     "name": "stdout",
     "output_type": "stream",
     "text": [
      "Loading Glove Model\n",
      "Done. 1917495  words loaded!\n"
     ]
    }
   ],
   "source": [
    "glove_embeddings = loadGloveModel('pretrained-models/glove.42B.300d.txt')"
   ]
  },
  {
   "cell_type": "code",
   "execution_count": null,
   "metadata": {},
   "outputs": [],
   "source": [
    "import pickle\n",
    "with open('glove.6B.300d.pkl', 'wb') as fp:\n",
    "    pickle.dump(glove_embeddings, fp)"
   ]
  },
  {
   "cell_type": "code",
   "execution_count": 21,
   "metadata": {},
   "outputs": [],
   "source": [
    "# this function creates a normalized vector for the whole sentence\n",
    "def sent2vec(s):\n",
    "    words = str(s).lower()\n",
    "    words = word_tokenize(words)\n",
    "    words = [w for w in words if not w in stop_words]\n",
    "    words = [w for w in words if w.isalpha()]\n",
    "    M = []\n",
    "    for w in words:\n",
    "        try:\n",
    "            M.append(glove_embeddings[w])\n",
    "        except:\n",
    "            continue\n",
    "    M = np.array(M)\n",
    "    v = M.sum(axis=0)\n",
    "    if type(v) != np.ndarray:\n",
    "        return np.zeros(300)\n",
    "    return v / np.sqrt((v ** 2).sum())"
   ]
  },
  {
   "cell_type": "code",
   "execution_count": 22,
   "metadata": {},
   "outputs": [
    {
     "name": "stderr",
     "output_type": "stream",
     "text": [
      "100%|██████████| 17621/17621 [00:11<00:00, 1469.07it/s]\n",
      "100%|██████████| 1958/1958 [00:00<00:00, 3212.31it/s]\n"
     ]
    }
   ],
   "source": [
    "# create sentence vectors using the above function for training and validation set\n",
    "xtrain_glove = [sent2vec(x) for x in tqdm(X_train)]\n",
    "xvalid_glove = [sent2vec(x) for x in tqdm(X_valid)]"
   ]
  },
  {
   "cell_type": "code",
   "execution_count": 23,
   "metadata": {},
   "outputs": [],
   "source": [
    "xtrain_glove = np.array(xtrain_glove)\n",
    "xvalid_glove = np.array(xvalid_glove)"
   ]
  },
  {
   "cell_type": "code",
   "execution_count": 24,
   "metadata": {},
   "outputs": [],
   "source": [
    "# XGBoost on Glove\n",
    "# Fitting a simple xgboost on glove features\n",
    "clf = XGBClassifier(nthread=10, silent=False)"
   ]
  },
  {
   "cell_type": "code",
   "execution_count": 25,
   "metadata": {},
   "outputs": [
    {
     "name": "stdout",
     "output_type": "stream",
     "text": [
      "logloss: 0.749 \n"
     ]
    }
   ],
   "source": [
    "train_predict(xtrain_glove,xvalid_glove,y_train, clf)"
   ]
  },
  {
   "cell_type": "code",
   "execution_count": 26,
   "metadata": {},
   "outputs": [],
   "source": [
    "# Fine tuining parameters\n",
    "clf = XGBClassifier(max_depth=7, n_estimators=200, \n",
    "                        colsample_bytree=0.8, \n",
    "                        subsample=0.8, nthread=10, \n",
    "                        learning_rate=0.1, silent=False)"
   ]
  },
  {
   "cell_type": "code",
   "execution_count": 27,
   "metadata": {},
   "outputs": [
    {
     "name": "stdout",
     "output_type": "stream",
     "text": [
      "logloss: 0.726 \n"
     ]
    }
   ],
   "source": [
    "train_predict(xtrain_glove,xvalid_glove,y_train, clf)"
   ]
  },
  {
   "cell_type": "code",
   "execution_count": null,
   "metadata": {},
   "outputs": [],
   "source": [
    "# We can see a slight improvement after tuining"
   ]
  },
  {
   "cell_type": "markdown",
   "metadata": {},
   "source": [
    "# 6. Deep Learning"
   ]
  },
  {
   "cell_type": "raw",
   "metadata": {},
   "source": [
    "Here, we will train LSTM and a simple dense network on the GloVe features.\n",
    "Let's start with the dense network first:"
   ]
  },
  {
   "cell_type": "code",
   "execution_count": 25,
   "metadata": {},
   "outputs": [],
   "source": [
    "# scale the data before any neural net:\n",
    "scl = StandardScaler()\n",
    "xtrain_glove_scl = scl.fit_transform(xtrain_glove)\n",
    "xvalid_glove_scl = scl.transform(xvalid_glove)"
   ]
  },
  {
   "cell_type": "code",
   "execution_count": 26,
   "metadata": {},
   "outputs": [],
   "source": [
    "# we need to binarize the labels for the neural net\n",
    "ytrain_enc = to_categorical(y_train)\n",
    "yvalid_enc = to_categorical(y_valid)"
   ]
  },
  {
   "cell_type": "code",
   "execution_count": 27,
   "metadata": {},
   "outputs": [
    {
     "data": {
      "text/plain": [
       "array([[0., 0., 1.],\n",
       "       [1., 0., 0.],\n",
       "       [0., 0., 1.],\n",
       "       [0., 1., 0.],\n",
       "       [0., 0., 1.],\n",
       "       [0., 0., 1.],\n",
       "       [0., 1., 0.],\n",
       "       [0., 0., 1.],\n",
       "       [0., 1., 0.],\n",
       "       [1., 0., 0.]], dtype=float32)"
      ]
     },
     "execution_count": 27,
     "metadata": {},
     "output_type": "execute_result"
    }
   ],
   "source": [
    "type(ytrain_enc)\n",
    "ytrain_enc[:10]"
   ]
  },
  {
   "cell_type": "code",
   "execution_count": 28,
   "metadata": {},
   "outputs": [],
   "source": [
    "# create a simple 3 layer sequential neural net\n",
    "model = Sequential()\n",
    "\n",
    "model.add(Dense(300, input_dim=300, activation='relu'))\n",
    "model.add(Dropout(0.2))\n",
    "model.add(BatchNormalization())\n",
    "\n",
    "model.add(Dense(300, activation='relu'))\n",
    "model.add(Dropout(0.3))\n",
    "model.add(BatchNormalization())\n",
    "\n",
    "model.add(Dense(3))\n",
    "model.add(Activation('softmax'))"
   ]
  },
  {
   "cell_type": "code",
   "execution_count": 29,
   "metadata": {},
   "outputs": [],
   "source": [
    "# compile the model\n",
    "model.compile(loss='categorical_crossentropy', optimizer='adam')"
   ]
  },
  {
   "cell_type": "code",
   "execution_count": 30,
   "metadata": {},
   "outputs": [
    {
     "name": "stdout",
     "output_type": "stream",
     "text": [
      "Train on 17621 samples, validate on 1958 samples\n",
      "Epoch 1/5\n",
      "17621/17621 [==============================] - 4s 199us/sample - loss: 0.9412 - val_loss: 0.7419\n",
      "Epoch 2/5\n",
      "17621/17621 [==============================] - 1s 66us/sample - loss: 0.7242 - val_loss: 0.7132\n",
      "Epoch 3/5\n",
      "17621/17621 [==============================] - 1s 67us/sample - loss: 0.6565 - val_loss: 0.6966\n",
      "Epoch 4/5\n",
      "17621/17621 [==============================] - 2s 124us/sample - loss: 0.6067 - val_loss: 0.6854\n",
      "Epoch 5/5\n",
      "17621/17621 [==============================] - 1s 67us/sample - loss: 0.5808 - val_loss: 0.6854\n"
     ]
    },
    {
     "data": {
      "text/plain": [
       "<tensorflow.python.keras.callbacks.History at 0x7efe87d28438>"
      ]
     },
     "execution_count": 30,
     "metadata": {},
     "output_type": "execute_result"
    }
   ],
   "source": [
    "model.fit(xtrain_glove_scl, y=ytrain_enc, batch_size=64, \n",
    "          epochs=5, verbose=1, \n",
    "          validation_data=(xvalid_glove_scl, yvalid_enc))"
   ]
  },
  {
   "cell_type": "raw",
   "metadata": {},
   "source": [
    "You need to keep on tuning the parameters of the neural network, \n",
    "add more layers, increase dropout to get better results. \n",
    "Here, I'm just showing that its fast to implement and run \n",
    "and gets better result than xgboost without any optimization :)"
   ]
  },
  {
   "cell_type": "markdown",
   "metadata": {},
   "source": [
    "# 6.1 LSTM"
   ]
  },
  {
   "cell_type": "code",
   "execution_count": 31,
   "metadata": {},
   "outputs": [],
   "source": [
    "# with LSTMs we need to tokenize the text data\n",
    "# using keras tokenizer here\n",
    "token = Tokenizer(num_words=None)\n",
    "max_len = 70\n",
    "\n",
    "token.fit_on_texts(list(X_train) + list(X_valid))\n",
    "xtrain_seq = token.texts_to_sequences(X_train)\n",
    "xvalid_seq = token.texts_to_sequences(X_valid)\n",
    "xtest_seq = token.texts_to_sequences(X)"
   ]
  },
  {
   "cell_type": "code",
   "execution_count": 32,
   "metadata": {},
   "outputs": [],
   "source": [
    "# zero pad the sequences\n",
    "xtrain_pad = pad_sequences(xtrain_seq, maxlen=max_len)\n",
    "xvalid_pad = pad_sequences(xvalid_seq, maxlen=max_len)\n",
    "\n",
    "word_index = token.word_index"
   ]
  },
  {
   "cell_type": "code",
   "execution_count": 33,
   "metadata": {},
   "outputs": [
    {
     "data": {
      "text/plain": [
       "array([    0,     0,     0,     0,     0,     0,     0,     0,     0,\n",
       "           0,     0,     0,     0,     0,     0,     0,     0,     0,\n",
       "           0,     0,     0,     0,     0,     0,     0,     0,     0,\n",
       "           0,     0,     0,     0,     0,     0,     0,     0,     0,\n",
       "           0,     0,     0,    13,     8,    36,   329,   876,     4,\n",
       "           1,   379,    82,    37,    88,  3278,  1730,     2,   778,\n",
       "           9, 10108,    66,   196,    48,   587,    25,  2678,   118,\n",
       "          76,    24,    48,   112, 16050,     2,  3939], dtype=int32)"
      ]
     },
     "execution_count": 33,
     "metadata": {},
     "output_type": "execute_result"
    }
   ],
   "source": [
    "xtrain_pad[4]"
   ]
  },
  {
   "cell_type": "code",
   "execution_count": 34,
   "metadata": {},
   "outputs": [
    {
     "data": {
      "text/plain": [
       "{'the': 1,\n",
       " 'of': 2,\n",
       " 'and': 3,\n",
       " 'to': 4,\n",
       " 'a': 5,\n",
       " 'i': 6,\n",
       " 'in': 7,\n",
       " 'was': 8,\n",
       " 'that': 9,\n",
       " 'my': 10,\n",
       " 'it': 11,\n",
       " 'had': 12,\n",
       " 'he': 13,\n",
       " 'with': 14,\n",
       " 'his': 15,\n",
       " 'as': 16,\n",
       " 'for': 17,\n",
       " 'which': 18,\n",
       " 'but': 19,\n",
       " 'not': 20,\n",
       " 'at': 21,\n",
       " 'me': 22,\n",
       " 'from': 23,\n",
       " 'by': 24,\n",
       " 'is': 25,\n",
       " 'this': 26,\n",
       " 'on': 27,\n",
       " 'be': 28,\n",
       " 'her': 29,\n",
       " 'were': 30,\n",
       " 'have': 31,\n",
       " 'all': 32,\n",
       " 'you': 33,\n",
       " 'we': 34,\n",
       " 'or': 35,\n",
       " 'no': 36,\n",
       " 'an': 37,\n",
       " 'one': 38,\n",
       " 'so': 39,\n",
       " 'him': 40,\n",
       " 'when': 41,\n",
       " 'been': 42,\n",
       " 'they': 43,\n",
       " 'upon': 44,\n",
       " 'there': 45,\n",
       " 'could': 46,\n",
       " 'she': 47,\n",
       " 'its': 48,\n",
       " 'would': 49,\n",
       " 'more': 50,\n",
       " 'now': 51,\n",
       " 'their': 52,\n",
       " 'what': 53,\n",
       " 'some': 54,\n",
       " 'our': 55,\n",
       " 'are': 56,\n",
       " 'into': 57,\n",
       " 'than': 58,\n",
       " 'will': 59,\n",
       " 'very': 60,\n",
       " 'who': 61,\n",
       " 'if': 62,\n",
       " 'them': 63,\n",
       " 'only': 64,\n",
       " 'then': 65,\n",
       " 'up': 66,\n",
       " 'these': 67,\n",
       " 'before': 68,\n",
       " 'about': 69,\n",
       " 'any': 70,\n",
       " 'man': 71,\n",
       " 'time': 72,\n",
       " 'yet': 73,\n",
       " 'out': 74,\n",
       " 'said': 75,\n",
       " 'even': 76,\n",
       " 'did': 77,\n",
       " 'your': 78,\n",
       " 'might': 79,\n",
       " 'after': 80,\n",
       " 'old': 81,\n",
       " 'like': 82,\n",
       " 'first': 83,\n",
       " 'us': 84,\n",
       " 'must': 85,\n",
       " 'most': 86,\n",
       " 'through': 87,\n",
       " 'over': 88,\n",
       " 'never': 89,\n",
       " 'made': 90,\n",
       " 'life': 91,\n",
       " 'night': 92,\n",
       " 'found': 93,\n",
       " 'such': 94,\n",
       " 'other': 95,\n",
       " 'should': 96,\n",
       " 'do': 97,\n",
       " 'seemed': 98,\n",
       " 'eyes': 99,\n",
       " 'every': 100,\n",
       " 'little': 101,\n",
       " 'while': 102,\n",
       " 'still': 103,\n",
       " 'those': 104,\n",
       " 'myself': 105,\n",
       " 'day': 106,\n",
       " 'great': 107,\n",
       " 'long': 108,\n",
       " 'saw': 109,\n",
       " 'has': 110,\n",
       " 'where': 111,\n",
       " 'own': 112,\n",
       " 'many': 113,\n",
       " 'well': 114,\n",
       " 'again': 115,\n",
       " 'came': 116,\n",
       " 'much': 117,\n",
       " 'down': 118,\n",
       " 'may': 119,\n",
       " 'thought': 120,\n",
       " 'how': 121,\n",
       " 'two': 122,\n",
       " 'being': 123,\n",
       " 'can': 124,\n",
       " 'once': 125,\n",
       " 'see': 126,\n",
       " 'say': 127,\n",
       " 'here': 128,\n",
       " 'ever': 129,\n",
       " 'thus': 130,\n",
       " 'whose': 131,\n",
       " 'am': 132,\n",
       " 'death': 133,\n",
       " 'mind': 134,\n",
       " 'without': 135,\n",
       " 'far': 136,\n",
       " 'too': 137,\n",
       " 'heart': 138,\n",
       " 'things': 139,\n",
       " 'shall': 140,\n",
       " 'house': 141,\n",
       " 'heard': 142,\n",
       " 'however': 143,\n",
       " 'left': 144,\n",
       " 'thing': 145,\n",
       " 'men': 146,\n",
       " 'years': 147,\n",
       " 'felt': 148,\n",
       " 'place': 149,\n",
       " 'last': 150,\n",
       " 'know': 151,\n",
       " 'love': 152,\n",
       " 'himself': 153,\n",
       " 'light': 154,\n",
       " 'though': 155,\n",
       " 'few': 156,\n",
       " 'indeed': 157,\n",
       " 'come': 158,\n",
       " 'world': 159,\n",
       " 'earth': 160,\n",
       " 'room': 161,\n",
       " 'way': 162,\n",
       " 'door': 163,\n",
       " 'back': 164,\n",
       " 'within': 165,\n",
       " 'head': 166,\n",
       " 'nothing': 167,\n",
       " 'whole': 168,\n",
       " 'having': 169,\n",
       " 'became': 170,\n",
       " 'let': 171,\n",
       " 'away': 172,\n",
       " 'words': 173,\n",
       " 'hand': 174,\n",
       " 'each': 175,\n",
       " 'nor': 176,\n",
       " 'strange': 177,\n",
       " 'seen': 178,\n",
       " 'same': 179,\n",
       " 'make': 180,\n",
       " 'among': 181,\n",
       " 'nature': 182,\n",
       " 'under': 183,\n",
       " 'length': 184,\n",
       " \"'\": 185,\n",
       " 'human': 186,\n",
       " 'good': 187,\n",
       " 'knew': 188,\n",
       " 'voice': 189,\n",
       " 'friend': 190,\n",
       " 'soon': 191,\n",
       " 'three': 192,\n",
       " 'new': 193,\n",
       " 'half': 194,\n",
       " 'during': 195,\n",
       " 'beyond': 196,\n",
       " 'part': 197,\n",
       " 'although': 198,\n",
       " 'moment': 199,\n",
       " 'alone': 200,\n",
       " 'raymond': 201,\n",
       " 'less': 202,\n",
       " 'another': 203,\n",
       " 'off': 204,\n",
       " 'sea': 205,\n",
       " 'since': 206,\n",
       " 'air': 207,\n",
       " 'fear': 208,\n",
       " 'just': 209,\n",
       " 'gave': 210,\n",
       " 'almost': 211,\n",
       " 'looked': 212,\n",
       " 'small': 213,\n",
       " 'father': 214,\n",
       " 'young': 215,\n",
       " 'around': 216,\n",
       " 'above': 217,\n",
       " 'took': 218,\n",
       " 'near': 219,\n",
       " 'full': 220,\n",
       " 'soul': 221,\n",
       " 'body': 222,\n",
       " 'find': 223,\n",
       " 'city': 224,\n",
       " 'dark': 225,\n",
       " 'something': 226,\n",
       " 'whom': 227,\n",
       " 'certain': 228,\n",
       " 'passed': 229,\n",
       " 'went': 230,\n",
       " 'told': 231,\n",
       " 'days': 232,\n",
       " 'lay': 233,\n",
       " 'appeared': 234,\n",
       " 'why': 235,\n",
       " 'course': 236,\n",
       " 'face': 237,\n",
       " 'end': 238,\n",
       " 'think': 239,\n",
       " 'also': 240,\n",
       " 'take': 241,\n",
       " 'mr': 242,\n",
       " 'high': 243,\n",
       " 'itself': 244,\n",
       " 'perhaps': 245,\n",
       " 'dead': 246,\n",
       " 'open': 247,\n",
       " 'spirit': 248,\n",
       " 'point': 249,\n",
       " 'until': 250,\n",
       " 'horror': 251,\n",
       " 'black': 252,\n",
       " \"an'\": 253,\n",
       " 'between': 254,\n",
       " 'idea': 255,\n",
       " 'hope': 256,\n",
       " 'water': 257,\n",
       " 'deep': 258,\n",
       " 'go': 259,\n",
       " 'feet': 260,\n",
       " 'tell': 261,\n",
       " 'form': 262,\n",
       " 'matter': 263,\n",
       " 'began': 264,\n",
       " 'known': 265,\n",
       " 'right': 266,\n",
       " 'kind': 267,\n",
       " 'name': 268,\n",
       " 'least': 269,\n",
       " 'cannot': 270,\n",
       " 'lost': 271,\n",
       " 'turned': 272,\n",
       " 'look': 273,\n",
       " 'often': 274,\n",
       " 'street': 275,\n",
       " 'rather': 276,\n",
       " 'side': 277,\n",
       " 'manner': 278,\n",
       " 'because': 279,\n",
       " 'called': 280,\n",
       " 'against': 281,\n",
       " 'morning': 282,\n",
       " 'moon': 283,\n",
       " 'hours': 284,\n",
       " 'become': 285,\n",
       " 'towards': 286,\n",
       " 'brought': 287,\n",
       " 'present': 288,\n",
       " 'sometimes': 289,\n",
       " 'home': 290,\n",
       " 'scene': 291,\n",
       " 'power': 292,\n",
       " 'always': 293,\n",
       " 'nearly': 294,\n",
       " 'taken': 295,\n",
       " 'means': 296,\n",
       " 'return': 297,\n",
       " 'sun': 298,\n",
       " 'eye': 299,\n",
       " 'sound': 300,\n",
       " 'object': 301,\n",
       " 'feel': 302,\n",
       " 'both': 303,\n",
       " 'stood': 304,\n",
       " 'people': 305,\n",
       " 'spoke': 306,\n",
       " 'thousand': 307,\n",
       " 'sight': 308,\n",
       " 'hour': 309,\n",
       " 'ancient': 310,\n",
       " 'put': 311,\n",
       " 'person': 312,\n",
       " 'fact': 313,\n",
       " 'hands': 314,\n",
       " 'doubt': 315,\n",
       " 'country': 316,\n",
       " 'fell': 317,\n",
       " 'wild': 318,\n",
       " 'several': 319,\n",
       " 'large': 320,\n",
       " 'perdita': 321,\n",
       " 'general': 322,\n",
       " 'town': 323,\n",
       " 'true': 324,\n",
       " 'beauty': 325,\n",
       " 'set': 326,\n",
       " 'de': 327,\n",
       " 'second': 328,\n",
       " 'longer': 329,\n",
       " 'suddenly': 330,\n",
       " 'better': 331,\n",
       " 'state': 332,\n",
       " 'dreams': 333,\n",
       " 'give': 334,\n",
       " 'speak': 335,\n",
       " 'grew': 336,\n",
       " 'terrible': 337,\n",
       " 'white': 338,\n",
       " 'continued': 339,\n",
       " 'entered': 340,\n",
       " 'done': 341,\n",
       " 'dream': 342,\n",
       " 'reason': 343,\n",
       " 'work': 344,\n",
       " 'believe': 345,\n",
       " 'possible': 346,\n",
       " 'sleep': 347,\n",
       " 'others': 348,\n",
       " 'already': 349,\n",
       " 'beneath': 350,\n",
       " 'truth': 351,\n",
       " 'quite': 352,\n",
       " 'toward': 353,\n",
       " 'times': 354,\n",
       " 'remained': 355,\n",
       " 'floor': 356,\n",
       " 'poor': 357,\n",
       " 'attention': 358,\n",
       " 'family': 359,\n",
       " 'word': 360,\n",
       " 'sense': 361,\n",
       " 'change': 362,\n",
       " 'period': 363,\n",
       " 'case': 364,\n",
       " 'themselves': 365,\n",
       " 'wind': 366,\n",
       " 'thoughts': 367,\n",
       " 'trees': 368,\n",
       " 'dear': 369,\n",
       " 'past': 370,\n",
       " 'looking': 371,\n",
       " 'west': 372,\n",
       " 'till': 373,\n",
       " 'close': 374,\n",
       " 'read': 375,\n",
       " 'low': 376,\n",
       " 'despair': 377,\n",
       " 'appearance': 378,\n",
       " 'ground': 379,\n",
       " 'window': 380,\n",
       " 'view': 381,\n",
       " 'character': 382,\n",
       " 'either': 383,\n",
       " 'next': 384,\n",
       " 'countenance': 385,\n",
       " 'god': 386,\n",
       " 'none': 387,\n",
       " 'vast': 388,\n",
       " 'five': 389,\n",
       " 'given': 390,\n",
       " 'died': 391,\n",
       " 'oh': 392,\n",
       " 'stone': 393,\n",
       " 'evil': 394,\n",
       " 'tears': 395,\n",
       " 'adrian': 396,\n",
       " 'unknown': 397,\n",
       " 'account': 398,\n",
       " 'together': 399,\n",
       " 'question': 400,\n",
       " 'walls': 401,\n",
       " 'evening': 402,\n",
       " 'mother': 403,\n",
       " 'enough': 404,\n",
       " 'best': 405,\n",
       " 'led': 406,\n",
       " 'sat': 407,\n",
       " 'gone': 408,\n",
       " 'rest': 409,\n",
       " 'child': 410,\n",
       " 'happiness': 411,\n",
       " 'immediately': 412,\n",
       " 'interest': 413,\n",
       " 'replied': 414,\n",
       " 'returned': 415,\n",
       " 'happy': 416,\n",
       " 'space': 417,\n",
       " 'hideous': 418,\n",
       " 'sure': 419,\n",
       " 'land': 420,\n",
       " 'therefore': 421,\n",
       " 'mere': 422,\n",
       " 'age': 423,\n",
       " 'blood': 424,\n",
       " 'existence': 425,\n",
       " 'get': 426,\n",
       " 'behind': 427,\n",
       " 'chamber': 428,\n",
       " 'feelings': 429,\n",
       " 'feeling': 430,\n",
       " 'wall': 431,\n",
       " 'natural': 432,\n",
       " 'held': 433,\n",
       " 'four': 434,\n",
       " 'merely': 435,\n",
       " 'reached': 436,\n",
       " 'cold': 437,\n",
       " 'latter': 438,\n",
       " 'gentle': 439,\n",
       " 'england': 440,\n",
       " 'expression': 441,\n",
       " 'sky': 442,\n",
       " 'discovered': 443,\n",
       " 'wish': 444,\n",
       " 'short': 445,\n",
       " 'filled': 446,\n",
       " 'fellow': 447,\n",
       " 'memory': 448,\n",
       " 'knowledge': 449,\n",
       " 'friends': 450,\n",
       " 'call': 451,\n",
       " 'wonder': 452,\n",
       " 'observed': 453,\n",
       " 'idris': 454,\n",
       " 'secret': 455,\n",
       " 'leave': 456,\n",
       " 'fire': 457,\n",
       " 'neither': 458,\n",
       " 'living': 459,\n",
       " 'windows': 460,\n",
       " 'river': 461,\n",
       " 'imagination': 462,\n",
       " 'terror': 463,\n",
       " 'forth': 464,\n",
       " 'altogether': 465,\n",
       " 'late': 466,\n",
       " 'portion': 467,\n",
       " 'hear': 468,\n",
       " 'misery': 469,\n",
       " 'below': 470,\n",
       " 'distance': 471,\n",
       " 'followed': 472,\n",
       " 'herself': 473,\n",
       " 'heaven': 474,\n",
       " 'children': 475,\n",
       " 'circumstances': 476,\n",
       " 'self': 477,\n",
       " 'die': 478,\n",
       " 'care': 479,\n",
       " 'greater': 480,\n",
       " 'cause': 481,\n",
       " 'lips': 482,\n",
       " 'subject': 483,\n",
       " 'arms': 484,\n",
       " 'purpose': 485,\n",
       " 'silence': 486,\n",
       " 'joy': 487,\n",
       " 'difficulty': 488,\n",
       " 'lady': 489,\n",
       " 'green': 490,\n",
       " 'peculiar': 491,\n",
       " 'remember': 492,\n",
       " 'degree': 493,\n",
       " 'months': 494,\n",
       " 'letter': 495,\n",
       " 'along': 496,\n",
       " 'formed': 497,\n",
       " 'really': 498,\n",
       " 'necessary': 499,\n",
       " 'spot': 500,\n",
       " 'loved': 501,\n",
       " \"o'\": 502,\n",
       " 'impossible': 503,\n",
       " 'houses': 504,\n",
       " 'scarcely': 505,\n",
       " 'corpse': 506,\n",
       " 'arm': 507,\n",
       " 'youth': 508,\n",
       " 'shadow': 509,\n",
       " 'sir': 510,\n",
       " 'bed': 511,\n",
       " 'grave': 512,\n",
       " 'opened': 513,\n",
       " 'sought': 514,\n",
       " 'use': 515,\n",
       " 'table': 516,\n",
       " 'steps': 517,\n",
       " 'usual': 518,\n",
       " 'mine': 519,\n",
       " 'year': 520,\n",
       " 'darkness': 521,\n",
       " 'm': 522,\n",
       " 'mad': 523,\n",
       " 'save': 524,\n",
       " 'finally': 525,\n",
       " 'wide': 526,\n",
       " 'received': 527,\n",
       " 'mountain': 528,\n",
       " 'live': 529,\n",
       " 'beautiful': 530,\n",
       " 'line': 531,\n",
       " 'common': 532,\n",
       " 'arose': 533,\n",
       " 'somewhat': 534,\n",
       " 'sweet': 535,\n",
       " 'entirely': 536,\n",
       " 'early': 537,\n",
       " 'heavy': 538,\n",
       " 'possessed': 539,\n",
       " 'cast': 540,\n",
       " 'grief': 541,\n",
       " 'twenty': 542,\n",
       " 'six': 543,\n",
       " 'kept': 544,\n",
       " 'placed': 545,\n",
       " 'order': 546,\n",
       " 'ill': 547,\n",
       " 'lived': 548,\n",
       " 'ye': 549,\n",
       " 'boat': 550,\n",
       " 'across': 551,\n",
       " 'met': 552,\n",
       " 'ten': 553,\n",
       " 'figure': 554,\n",
       " 'especially': 555,\n",
       " 'rose': 556,\n",
       " 'affection': 557,\n",
       " 'distant': 558,\n",
       " 'beheld': 559,\n",
       " 'hair': 560,\n",
       " 'woman': 561,\n",
       " 'resolved': 562,\n",
       " 'box': 563,\n",
       " 'hill': 564,\n",
       " 'dr': 565,\n",
       " 'north': 566,\n",
       " 'round': 567,\n",
       " 'effect': 568,\n",
       " 'london': 569,\n",
       " 'single': 570,\n",
       " 'odd': 571,\n",
       " 'pleasure': 572,\n",
       " 'paper': 573,\n",
       " 'fully': 574,\n",
       " 'various': 575,\n",
       " 'visible': 576,\n",
       " 'thrown': 577,\n",
       " 'position': 578,\n",
       " 'book': 579,\n",
       " 'wife': 580,\n",
       " 'coming': 581,\n",
       " 'whether': 582,\n",
       " 'presence': 583,\n",
       " 'proceeded': 584,\n",
       " 'surface': 585,\n",
       " 'escape': 586,\n",
       " 'strength': 587,\n",
       " 'does': 588,\n",
       " 'singular': 589,\n",
       " 'fancy': 590,\n",
       " 'atmosphere': 591,\n",
       " 'books': 592,\n",
       " 'hold': 593,\n",
       " 'instant': 594,\n",
       " 'born': 595,\n",
       " 'force': 596,\n",
       " 'plague': 597,\n",
       " 'ordinary': 598,\n",
       " 'lovely': 599,\n",
       " 'later': 600,\n",
       " 'thou': 601,\n",
       " 'asked': 602,\n",
       " 'hills': 603,\n",
       " 'former': 604,\n",
       " 'horrible': 605,\n",
       " 'minutes': 606,\n",
       " 'streets': 607,\n",
       " 'delight': 608,\n",
       " 'caused': 609,\n",
       " 'cottage': 610,\n",
       " 'apparently': 611,\n",
       " 'sounds': 612,\n",
       " 'turn': 613,\n",
       " 'hundred': 614,\n",
       " 'o': 615,\n",
       " 'influence': 616,\n",
       " 'anything': 617,\n",
       " 'direction': 618,\n",
       " 'red': 619,\n",
       " 'sorrow': 620,\n",
       " 'beloved': 621,\n",
       " 'clear': 622,\n",
       " 'pain': 623,\n",
       " 'tried': 624,\n",
       " 'arrived': 625,\n",
       " 'changed': 626,\n",
       " 'silent': 627,\n",
       " 'easily': 628,\n",
       " 'fate': 629,\n",
       " 'slight': 630,\n",
       " 'party': 631,\n",
       " 'closed': 632,\n",
       " 'got': 633,\n",
       " 'ago': 634,\n",
       " 'girl': 635,\n",
       " 'hopes': 636,\n",
       " 'says': 637,\n",
       " 'desire': 638,\n",
       " 'main': 639,\n",
       " 'simple': 640,\n",
       " 'cut': 641,\n",
       " 'understand': 642,\n",
       " 'excited': 643,\n",
       " 'calm': 644,\n",
       " 'yes': 645,\n",
       " 'events': 646,\n",
       " 'lord': 647,\n",
       " 'narrow': 648,\n",
       " 'tale': 649,\n",
       " 'public': 650,\n",
       " 'balloon': 651,\n",
       " 'sister': 652,\n",
       " 'east': 653,\n",
       " 'business': 654,\n",
       " 'madame': 655,\n",
       " 'blue': 656,\n",
       " 'broken': 657,\n",
       " 'struck': 658,\n",
       " 'miserable': 659,\n",
       " 'motion': 660,\n",
       " 'apparent': 661,\n",
       " 'threw': 662,\n",
       " 'stars': 663,\n",
       " 'drew': 664,\n",
       " 'companion': 665,\n",
       " 'bring': 666,\n",
       " 'fallen': 667,\n",
       " 'regard': 668,\n",
       " 'art': 669,\n",
       " 'society': 670,\n",
       " 'forgotten': 671,\n",
       " 'real': 672,\n",
       " 'south': 673,\n",
       " 'making': 674,\n",
       " 'valley': 675,\n",
       " 'going': 676,\n",
       " 'top': 677,\n",
       " 'road': 678,\n",
       " 'alas': 679,\n",
       " 'company': 680,\n",
       " 'keep': 681,\n",
       " 'future': 682,\n",
       " 'faint': 683,\n",
       " 'thy': 684,\n",
       " 'passion': 685,\n",
       " 'utterly': 686,\n",
       " 'uncle': 687,\n",
       " 'perceived': 688,\n",
       " 'visit': 689,\n",
       " 'third': 690,\n",
       " 'wished': 691,\n",
       " 'else': 692,\n",
       " 'design': 693,\n",
       " 'frame': 694,\n",
       " 'mean': 695,\n",
       " 'ears': 696,\n",
       " 'vain': 697,\n",
       " 'bore': 698,\n",
       " 'entire': 699,\n",
       " 'ship': 700,\n",
       " 'ocean': 701,\n",
       " 'windsor': 702,\n",
       " 'cried': 703,\n",
       " 'health': 704,\n",
       " 'machine': 705,\n",
       " 'story': 706,\n",
       " 'alive': 707,\n",
       " 'outside': 708,\n",
       " 'spent': 709,\n",
       " 'sufficient': 710,\n",
       " 'hardly': 711,\n",
       " 'mentioned': 712,\n",
       " 'appear': 713,\n",
       " 'gold': 714,\n",
       " 'music': 715,\n",
       " 'madness': 716,\n",
       " 'fresh': 717,\n",
       " 'certainly': 718,\n",
       " 'yourself': 719,\n",
       " 'extreme': 720,\n",
       " 'native': 721,\n",
       " 'hung': 722,\n",
       " 'passage': 723,\n",
       " 'height': 724,\n",
       " 'pale': 725,\n",
       " 'free': 726,\n",
       " 'expected': 727,\n",
       " 'gods': 728,\n",
       " 'deserted': 729,\n",
       " 'occurred': 730,\n",
       " 'elizabeth': 731,\n",
       " 'objects': 732,\n",
       " 'extent': 733,\n",
       " 'result': 734,\n",
       " 'taking': 735,\n",
       " 'condition': 736,\n",
       " 'shore': 737,\n",
       " 'attempt': 738,\n",
       " 'covered': 739,\n",
       " 'evidently': 740,\n",
       " 'remain': 741,\n",
       " 'action': 742,\n",
       " 'vague': 743,\n",
       " \"don't\": 744,\n",
       " 'perceive': 745,\n",
       " 'immediate': 746,\n",
       " 'danger': 747,\n",
       " 'strong': 748,\n",
       " 'tomb': 749,\n",
       " 'answer': 750,\n",
       " 'mountains': 751,\n",
       " 'gentleman': 752,\n",
       " 'considered': 753,\n",
       " 'ice': 754,\n",
       " 'sort': 755,\n",
       " 'moved': 756,\n",
       " 'wood': 757,\n",
       " 'seek': 758,\n",
       " 'fall': 759,\n",
       " 'able': 760,\n",
       " 'son': 761,\n",
       " 'approached': 762,\n",
       " 'tree': 763,\n",
       " 'different': 764,\n",
       " 'boy': 765,\n",
       " 'reach': 766,\n",
       " 'sympathy': 767,\n",
       " 'english': 768,\n",
       " 'absence': 769,\n",
       " 'whilst': 770,\n",
       " 'waters': 771,\n",
       " 'number': 772,\n",
       " 'path': 773,\n",
       " 'mouth': 774,\n",
       " 'sole': 775,\n",
       " 'st': 776,\n",
       " 'courage': 777,\n",
       " 'spring': 778,\n",
       " 'discovery': 779,\n",
       " 'conversation': 780,\n",
       " 'prepared': 781,\n",
       " 'rendered': 782,\n",
       " 'except': 783,\n",
       " 'beings': 784,\n",
       " 'castle': 785,\n",
       " 'supposed': 786,\n",
       " 'greatest': 787,\n",
       " 'rain': 788,\n",
       " 'fine': 789,\n",
       " 'help': 790,\n",
       " 'melancholy': 791,\n",
       " 'progress': 792,\n",
       " 'queer': 793,\n",
       " 'peace': 794,\n",
       " 'bottom': 795,\n",
       " 'brain': 796,\n",
       " 'succeeded': 797,\n",
       " 'sufficiently': 798,\n",
       " 'village': 799,\n",
       " 'seized': 800,\n",
       " 'suffered': 801,\n",
       " 'senses': 802,\n",
       " 'creature': 803,\n",
       " 'pass': 804,\n",
       " 'step': 805,\n",
       " 'gilman': 806,\n",
       " 'rock': 807,\n",
       " 'forest': 808,\n",
       " 'island': 809,\n",
       " 'act': 810,\n",
       " 'huge': 811,\n",
       " 'creatures': 812,\n",
       " 'plain': 813,\n",
       " 'miles': 814,\n",
       " 'bear': 815,\n",
       " 'suppose': 816,\n",
       " 'dared': 817,\n",
       " 'forms': 818,\n",
       " 'besides': 819,\n",
       " 'task': 820,\n",
       " 'exceedingly': 821,\n",
       " 'foot': 822,\n",
       " 'curious': 823,\n",
       " 'fearful': 824,\n",
       " 'marble': 825,\n",
       " 'language': 826,\n",
       " 'curiosity': 827,\n",
       " 'need': 828,\n",
       " 'original': 829,\n",
       " 'talked': 830,\n",
       " 'similar': 831,\n",
       " 'smile': 832,\n",
       " 'fair': 833,\n",
       " 'persons': 834,\n",
       " 'winter': 835,\n",
       " 'frightful': 836,\n",
       " 'evidence': 837,\n",
       " 'reality': 838,\n",
       " 'intense': 839,\n",
       " 'places': 840,\n",
       " 'quickly': 841,\n",
       " 'forever': 842,\n",
       " 'rise': 843,\n",
       " 'remembered': 844,\n",
       " 'vision': 845,\n",
       " 'animal': 846,\n",
       " 'occupied': 847,\n",
       " 'perfect': 848,\n",
       " 'talk': 849,\n",
       " 'tall': 850,\n",
       " 'apartment': 851,\n",
       " 'listened': 852,\n",
       " 'ceased': 853,\n",
       " 'respect': 854,\n",
       " 'features': 855,\n",
       " 'building': 856,\n",
       " 'grey': 857,\n",
       " 'summer': 858,\n",
       " 'want': 859,\n",
       " 'breath': 860,\n",
       " 'brief': 861,\n",
       " 'watch': 862,\n",
       " 'determined': 863,\n",
       " 'journey': 864,\n",
       " 'solitude': 865,\n",
       " 'golden': 866,\n",
       " 'circumstance': 867,\n",
       " 'corner': 868,\n",
       " 'whatever': 869,\n",
       " 'concerning': 870,\n",
       " 'following': 871,\n",
       " 'fears': 872,\n",
       " 'innsmouth': 873,\n",
       " 'car': 874,\n",
       " 'flowers': 875,\n",
       " 'bent': 876,\n",
       " 'walked': 877,\n",
       " 'study': 878,\n",
       " 'arkham': 879,\n",
       " 'added': 880,\n",
       " 'obtained': 881,\n",
       " 'shewed': 882,\n",
       " 'midnight': 883,\n",
       " 'used': 884,\n",
       " 'daughter': 885,\n",
       " 'seems': 886,\n",
       " 'success': 887,\n",
       " 'spread': 888,\n",
       " 'increased': 889,\n",
       " 'dare': 890,\n",
       " 'watched': 891,\n",
       " 'glass': 892,\n",
       " 'aware': 893,\n",
       " 'remote': 894,\n",
       " 'ideas': 895,\n",
       " 'promise': 896,\n",
       " 'hard': 897,\n",
       " 'sent': 898,\n",
       " 'slowly': 899,\n",
       " 'carried': 900,\n",
       " 'leaving': 901,\n",
       " 'dupin': 902,\n",
       " 'ran': 903,\n",
       " 'meet': 904,\n",
       " 'seem': 905,\n",
       " 'key': 906,\n",
       " 'thee': 907,\n",
       " 'nose': 908,\n",
       " 'sudden': 909,\n",
       " 'familiar': 910,\n",
       " 'remarkable': 911,\n",
       " 'describe': 912,\n",
       " 'murder': 913,\n",
       " \"o'clock\": 914,\n",
       " 'rich': 915,\n",
       " 'presented': 916,\n",
       " 'week': 917,\n",
       " 'agony': 918,\n",
       " 'mystery': 919,\n",
       " 'destroyed': 920,\n",
       " 'feared': 921,\n",
       " 'evident': 922,\n",
       " 'material': 923,\n",
       " 'minute': 924,\n",
       " 'noble': 925,\n",
       " 'move': 926,\n",
       " 'learned': 927,\n",
       " 'failed': 928,\n",
       " 'enter': 929,\n",
       " 'system': 930,\n",
       " 'degrees': 931,\n",
       " 'genius': 932,\n",
       " 'disease': 933,\n",
       " 'mighty': 934,\n",
       " 'slept': 935,\n",
       " 'farther': 936,\n",
       " 'glance': 937,\n",
       " 'afterward': 938,\n",
       " 'faces': 939,\n",
       " 'eight': 940,\n",
       " 'opinion': 941,\n",
       " 'king': 942,\n",
       " 'horizon': 943,\n",
       " 'seven': 944,\n",
       " 'behold': 945,\n",
       " 'carefully': 946,\n",
       " 'afternoon': 947,\n",
       " 'relief': 948,\n",
       " 'quiet': 949,\n",
       " 'weight': 950,\n",
       " 'actually': 951,\n",
       " 'probably': 952,\n",
       " 'storm': 953,\n",
       " 'pocket': 954,\n",
       " 'gazed': 955,\n",
       " 'situation': 956,\n",
       " 'dying': 957,\n",
       " 'notice': 958,\n",
       " 'utter': 959,\n",
       " 'forced': 960,\n",
       " 'hidden': 961,\n",
       " 'unable': 962,\n",
       " 'marked': 963,\n",
       " 'ones': 964,\n",
       " 'departed': 965,\n",
       " 'piece': 966,\n",
       " 'distinct': 967,\n",
       " 'unusual': 968,\n",
       " 'powers': 969,\n",
       " 'imagine': 970,\n",
       " 'feeble': 971,\n",
       " 'possession': 972,\n",
       " 'believed': 973,\n",
       " 'visited': 974,\n",
       " 'woods': 975,\n",
       " 'physical': 976,\n",
       " 'particular': 977,\n",
       " 'search': 978,\n",
       " 'bodies': 979,\n",
       " 'sentiment': 980,\n",
       " 'fled': 981,\n",
       " 'shut': 982,\n",
       " 'gigantic': 983,\n",
       " 'amidst': 984,\n",
       " 'spirits': 985,\n",
       " 'burst': 986,\n",
       " 'despite': 987,\n",
       " 'endeavoured': 988,\n",
       " 'bitter': 989,\n",
       " 'crowd': 990,\n",
       " 'fever': 991,\n",
       " 'reply': 992,\n",
       " 'image': 993,\n",
       " 'brother': 994,\n",
       " 'clouds': 995,\n",
       " 'write': 996,\n",
       " 'size': 997,\n",
       " 'example': 998,\n",
       " 'ghastly': 999,\n",
       " 'proved': 1000,\n",
       " ...}"
      ]
     },
     "execution_count": 34,
     "metadata": {},
     "output_type": "execute_result"
    }
   ],
   "source": [
    "word_index"
   ]
  },
  {
   "cell_type": "code",
   "execution_count": 35,
   "metadata": {},
   "outputs": [
    {
     "name": "stderr",
     "output_type": "stream",
     "text": [
      "100%|██████████| 25943/25943 [00:00<00:00, 162582.41it/s]\n"
     ]
    }
   ],
   "source": [
    "# create an embedding matrix for the words we have in the dataset\n",
    "embedding_matrix = np.zeros((len(word_index) + 1, 300))\n",
    "for word, i in tqdm(word_index.items()):\n",
    "    embedding_vector = glove_embeddings.get(word)\n",
    "    if embedding_vector is not None:\n",
    "        embedding_matrix[i] = embedding_vector"
   ]
  },
  {
   "cell_type": "code",
   "execution_count": 74,
   "metadata": {},
   "outputs": [],
   "source": [
    "input_shape = len(word_index) + 1, 300\n",
    "output_shape = 3 # no of categories"
   ]
  },
  {
   "cell_type": "code",
   "execution_count": 75,
   "metadata": {},
   "outputs": [],
   "source": [
    "# A simple LSTM with glove embeddings and two dense layers\n",
    "def define_model(input_shape, output_shape, BiDir=False, no_of_units=100):\n",
    "    model = Sequential()\n",
    "    model.add(Embedding(input_shape[0],input_shape[1],weights=[embedding_matrix],input_length=max_len,\n",
    "                         trainable=False))\n",
    "    model.add(SpatialDropout1D(0.3))\n",
    "    if BiDir:\n",
    "        model.add(Bidirectional(LSTM(no_of_units, dropout=0.3, recurrent_dropout=0.3))) \n",
    "    else:\n",
    "        model.add(LSTM(no_of_units, dropout=0.3, recurrent_dropout=0.3))\n",
    "\n",
    "    model.add(Dense(1024, activation='relu'))\n",
    "    model.add(Dropout(0.5))\n",
    "\n",
    "    model.add(Dense(1024, activation='relu'))\n",
    "    model.add(Dropout(0.5))\n",
    "\n",
    "    model.add(Dense(output_shape))\n",
    "    model.add(Activation('softmax'))\n",
    "    model.compile(loss='categorical_crossentropy', optimizer='adam')\n",
    "    return model"
   ]
  },
  {
   "cell_type": "code",
   "execution_count": 133,
   "metadata": {},
   "outputs": [],
   "source": [
    "# Train model\n",
    "def train_model(model, xtrain, ytrain, xval, yval, batch_size, save_file_name):\n",
    "    # Save best model and earlystop calback\n",
    "    saveBestModel = ModelCheckpoint(save_file_name +'.hdf5', monitor='val_acc', verbose=0, save_best_only=True, \n",
    "                                save_weights_only=False, mode='auto', period=1)\n",
    "    earlystop = EarlyStopping(monitor='val_loss', min_delta=0, patience=5, verbose=0, mode='auto')\n",
    "    # Fit the model with early stopping callback\n",
    "    \n",
    "    \n",
    "    model.fit(xtrain, y=ytrain, batch_size=batch_size, epochs=100,verbose=1, \n",
    "              validation_data=(xvalid, yvalid), callbacks=[saveBestModel,earlystop])\n",
    "    return model\n",
    "    "
   ]
  },
  {
   "cell_type": "code",
   "execution_count": 135,
   "metadata": {},
   "outputs": [],
   "source": [
    "def evaluate_model(model,xtest, ytest):\n",
    "    score, acc = model.evaluate(xtest, ytest)\n",
    "    return score, acc"
   ]
  },
  {
   "cell_type": "code",
   "execution_count": 130,
   "metadata": {},
   "outputs": [],
   "source": [
    "# Fit the model with early stopping callback\n",
    "earlystop = EarlyStopping(monitor='val_loss', min_delta=0, \n",
    "                          patience=5, verbose=0, mode='auto')\n"
   ]
  },
  {
   "cell_type": "code",
   "execution_count": 131,
   "metadata": {},
   "outputs": [
    {
     "name": "stdout",
     "output_type": "stream",
     "text": [
      "WARNING:tensorflow:`period` argument is deprecated. Please use `save_freq` to specify the frequency in number of samples seen.\n",
      "[09:45:22] WARNING `period` argument is deprecated. Please use `save_freq` to specify the frequency in number of samples seen.\n"
     ]
    }
   ],
   "source": [
    "# Save best model\n",
    "saveBestModel = ModelCheckpoint('best_weight_model.hdf5', monitor='val_acc', verbose=0, save_best_only=True, \n",
    "                                save_weights_only=False, mode='auto', period=1)"
   ]
  },
  {
   "cell_type": "code",
   "execution_count": 38,
   "metadata": {},
   "outputs": [
    {
     "name": "stdout",
     "output_type": "stream",
     "text": [
      "Train on 17621 samples, validate on 1958 samples\n",
      "Epoch 1/100\n",
      "17621/17621 [==============================] - 25s 1ms/sample - loss: 1.0380 - val_loss: 0.9267\n",
      "Epoch 2/100\n",
      "17621/17621 [==============================] - 18s 1ms/sample - loss: 0.9173 - val_loss: 0.8560\n",
      "Epoch 3/100\n",
      "17621/17621 [==============================] - 19s 1ms/sample - loss: 0.8575 - val_loss: 0.7961\n",
      "Epoch 4/100\n",
      "17621/17621 [==============================] - 19s 1ms/sample - loss: 0.8242 - val_loss: 0.7835\n",
      "Epoch 5/100\n",
      "17621/17621 [==============================] - 18s 1ms/sample - loss: 0.8035 - val_loss: 0.7213\n",
      "Epoch 6/100\n",
      "17621/17621 [==============================] - 15s 848us/sample - loss: 0.7799 - val_loss: 0.7037\n",
      "Epoch 7/100\n",
      "17621/17621 [==============================] - 17s 980us/sample - loss: 0.7643 - val_loss: 0.6910\n",
      "Epoch 8/100\n",
      "17621/17621 [==============================] - 19s 1ms/sample - loss: 0.7354 - val_loss: 0.6641\n",
      "Epoch 9/100\n",
      "17621/17621 [==============================] - 18s 1ms/sample - loss: 0.7243 - val_loss: 0.6594\n",
      "Epoch 10/100\n",
      "17621/17621 [==============================] - 16s 919us/sample - loss: 0.7123 - val_loss: 0.6464\n",
      "Epoch 11/100\n",
      "17621/17621 [==============================] - 21s 1ms/sample - loss: 0.6892 - val_loss: 0.6498\n",
      "Epoch 12/100\n",
      "17621/17621 [==============================] - 16s 897us/sample - loss: 0.6716 - val_loss: 0.6192\n",
      "Epoch 13/100\n",
      "17621/17621 [==============================] - 19s 1ms/sample - loss: 0.6521 - val_loss: 0.6102\n",
      "Epoch 14/100\n",
      "17621/17621 [==============================] - 17s 962us/sample - loss: 0.6413 - val_loss: 0.6185\n",
      "Epoch 15/100\n",
      "17621/17621 [==============================] - 16s 899us/sample - loss: 0.6244 - val_loss: 0.5989\n",
      "Epoch 16/100\n",
      "17621/17621 [==============================] - 18s 1ms/sample - loss: 0.6051 - val_loss: 0.5823\n",
      "Epoch 17/100\n",
      "17621/17621 [==============================] - 18s 1ms/sample - loss: 0.5947 - val_loss: 0.5921\n",
      "Epoch 18/100\n",
      "17621/17621 [==============================] - 16s 933us/sample - loss: 0.5757 - val_loss: 0.5701\n",
      "Epoch 19/100\n",
      "17621/17621 [==============================] - 17s 938us/sample - loss: 0.5628 - val_loss: 0.5639\n",
      "Epoch 20/100\n",
      "17621/17621 [==============================] - 18s 1ms/sample - loss: 0.5588 - val_loss: 0.5666\n",
      "Epoch 21/100\n",
      "17621/17621 [==============================] - 18s 1ms/sample - loss: 0.5381 - val_loss: 0.5450\n",
      "Epoch 22/100\n",
      "17621/17621 [==============================] - 19s 1ms/sample - loss: 0.5230 - val_loss: 0.5710\n",
      "Epoch 23/100\n",
      "17621/17621 [==============================] - 16s 929us/sample - loss: 0.5081 - val_loss: 0.5415\n",
      "Epoch 24/100\n",
      "17621/17621 [==============================] - 18s 995us/sample - loss: 0.5046 - val_loss: 0.5460\n",
      "Epoch 25/100\n",
      "17621/17621 [==============================] - 17s 962us/sample - loss: 0.4898 - val_loss: 0.5600\n",
      "Epoch 26/100\n",
      "17621/17621 [==============================] - 18s 1ms/sample - loss: 0.4806 - val_loss: 0.5349\n",
      "Epoch 27/100\n",
      "17621/17621 [==============================] - 16s 891us/sample - loss: 0.4694 - val_loss: 0.5345\n",
      "Epoch 28/100\n",
      "17621/17621 [==============================] - 18s 1ms/sample - loss: 0.4677 - val_loss: 0.5268\n",
      "Epoch 29/100\n",
      "17621/17621 [==============================] - 17s 966us/sample - loss: 0.4631 - val_loss: 0.5281\n",
      "Epoch 30/100\n",
      "17621/17621 [==============================] - 17s 958us/sample - loss: 0.4440 - val_loss: 0.5277\n",
      "Epoch 31/100\n",
      "17621/17621 [==============================] - 16s 905us/sample - loss: 0.4368 - val_loss: 0.5213\n",
      "Epoch 32/100\n",
      "17621/17621 [==============================] - 17s 941us/sample - loss: 0.4213 - val_loss: 0.5304\n",
      "Epoch 33/100\n",
      "17621/17621 [==============================] - 17s 982us/sample - loss: 0.4158 - val_loss: 0.5171\n",
      "Epoch 34/100\n",
      "17621/17621 [==============================] - 15s 856us/sample - loss: 0.4178 - val_loss: 0.5259\n",
      "Epoch 35/100\n",
      "17621/17621 [==============================] - 15s 857us/sample - loss: 0.4077 - val_loss: 0.5369\n",
      "Epoch 36/100\n",
      "17621/17621 [==============================] - 19s 1ms/sample - loss: 0.3918 - val_loss: 0.5312\n",
      "Epoch 37/100\n",
      "17621/17621 [==============================] - 18s 1ms/sample - loss: 0.3899 - val_loss: 0.5383TA: 2s - loss: \n",
      "Epoch 38/100\n",
      "17621/17621 [==============================] - 15s 880us/sample - loss: 0.3864 - val_loss: 0.5181\n"
     ]
    },
    {
     "data": {
      "text/plain": [
       "<tensorflow.python.keras.callbacks.History at 0x7efe7422a588>"
      ]
     },
     "execution_count": 38,
     "metadata": {},
     "output_type": "execute_result"
    }
   ],
   "source": [
    "model.fit(xtrain_pad, y=ytrain_enc, batch_size=512, epochs=100, \n",
    "          verbose=1, validation_data=(xvalid_pad, yvalid_enc), \n",
    "          callbacks=[saveBestModel,earlystop])"
   ]
  },
  {
   "cell_type": "code",
   "execution_count": 139,
   "metadata": {},
   "outputs": [
    {
     "ename": "TypeError",
     "evalue": "'History' object is not iterable",
     "output_type": "error",
     "traceback": [
      "\u001b[0;31m---------------------------------------------------------------------------\u001b[0m",
      "\u001b[0;31mTypeError\u001b[0m                                 Traceback (most recent call last)",
      "\u001b[0;32m<ipython-input-139-294b46d02d69>\u001b[0m in \u001b[0;36m<module>\u001b[0;34m\u001b[0m\n\u001b[0;32m----> 1\u001b[0;31m \u001b[0;32mfor\u001b[0m \u001b[0mkey\u001b[0m \u001b[0;32min\u001b[0m \u001b[0mmodel\u001b[0m\u001b[0;34m.\u001b[0m\u001b[0mhistory\u001b[0m\u001b[0;34m:\u001b[0m\u001b[0;34m\u001b[0m\u001b[0;34m\u001b[0m\u001b[0m\n\u001b[0m\u001b[1;32m      2\u001b[0m     \u001b[0mprint\u001b[0m\u001b[0;34m(\u001b[0m\u001b[0mkey\u001b[0m\u001b[0;34m)\u001b[0m\u001b[0;34m\u001b[0m\u001b[0;34m\u001b[0m\u001b[0m\n",
      "\u001b[0;31mTypeError\u001b[0m: 'History' object is not iterable"
     ]
    }
   ],
   "source": [
    "for key in model.history:\n",
    "    print(key)"
   ]
  },
  {
   "cell_type": "code",
   "execution_count": null,
   "metadata": {},
   "outputs": [],
   "source": [
    "score, acc = model.evaluate(xvalid_pad, yvalid_enc)"
   ]
  },
  {
   "cell_type": "code",
   "execution_count": 39,
   "metadata": {},
   "outputs": [
    {
     "data": {
      "text/plain": [
       "{'loss': [1.0379848306359407,\n",
       "  0.9173327061227634,\n",
       "  0.8574646276957087,\n",
       "  0.8242216144833403,\n",
       "  0.8034976589768342,\n",
       "  0.7799073702820476,\n",
       "  0.7643006349028013,\n",
       "  0.7353509851186921,\n",
       "  0.724269477996076,\n",
       "  0.7123113883474576,\n",
       "  0.689246386480713,\n",
       "  0.6715588240785568,\n",
       "  0.6521351950629048,\n",
       "  0.6413079424665096,\n",
       "  0.6244352102502914,\n",
       "  0.6051454433862552,\n",
       "  0.5946527099265704,\n",
       "  0.5757192616653215,\n",
       "  0.5628070246550236,\n",
       "  0.5587710691569957,\n",
       "  0.5380761694552293,\n",
       "  0.522983833891222,\n",
       "  0.5080660740874978,\n",
       "  0.5046122314274281,\n",
       "  0.4898167773831764,\n",
       "  0.48062349479671074,\n",
       "  0.4693717915579786,\n",
       "  0.4676621284270948,\n",
       "  0.4630531273914597,\n",
       "  0.4440211820843257,\n",
       "  0.4368489836108758,\n",
       "  0.42134973746911264,\n",
       "  0.4158481401933335,\n",
       "  0.41776179673350916,\n",
       "  0.4076818985519179,\n",
       "  0.39176644071717587,\n",
       "  0.38989092371979417,\n",
       "  0.3863737351233014],\n",
       " 'val_loss': [0.9266805878333344,\n",
       "  0.8560298296477383,\n",
       "  0.796139147722441,\n",
       "  0.7834595330401997,\n",
       "  0.7212868661023257,\n",
       "  0.7037076699843324,\n",
       "  0.691045728596774,\n",
       "  0.6640818589676145,\n",
       "  0.6593640252445521,\n",
       "  0.646377971515714,\n",
       "  0.6497797788833329,\n",
       "  0.6191788144691242,\n",
       "  0.610161953001636,\n",
       "  0.6185189153127699,\n",
       "  0.5989051635345716,\n",
       "  0.5822682619947214,\n",
       "  0.5921229411437879,\n",
       "  0.5701052461264691,\n",
       "  0.5638944241194487,\n",
       "  0.5666282005280835,\n",
       "  0.5449772189781298,\n",
       "  0.5710008820790923,\n",
       "  0.5414863936869433,\n",
       "  0.545973109882382,\n",
       "  0.5600290076238263,\n",
       "  0.5349147120705664,\n",
       "  0.5344525494663173,\n",
       "  0.5268420584964071,\n",
       "  0.5280656777436449,\n",
       "  0.5276811628224779,\n",
       "  0.5213090100984895,\n",
       "  0.5303718114654182,\n",
       "  0.5170594178315202,\n",
       "  0.5258778611291295,\n",
       "  0.5369149176166055,\n",
       "  0.5311677525308939,\n",
       "  0.5383202095075574,\n",
       "  0.5181032423466535]}"
      ]
     },
     "execution_count": 39,
     "metadata": {},
     "output_type": "execute_result"
    }
   ],
   "source": [
    "model.history.history"
   ]
  },
  {
   "cell_type": "code",
   "execution_count": null,
   "metadata": {},
   "outputs": [],
   "source": []
  },
  {
   "cell_type": "raw",
   "metadata": {},
   "source": [
    "One question could be: why do i use so much dropout? \n",
    "Well, fit the model with no or little dropout \n",
    "and you will that it starts to overfit :)"
   ]
  },
  {
   "cell_type": "code",
   "execution_count": 61,
   "metadata": {},
   "outputs": [],
   "source": [
    "# plot diagnostic learning curves\n",
    "def summarize_diagnostics(histories):\n",
    "    for i in range(len(histories)):\n",
    "        # plot loss\n",
    "        pyplot.subplot(111)\n",
    "        pyplot.title(\"Cross Entropy Loss\")\n",
    "        pyplot.plot(histories[\"loss\"], color=\"blue\", label=\"train\")\n",
    "        pyplot.plot(histories[\"val_loss\"], color=\"orange\", label=\"test\")\n",
    "    pyplot.show()"
   ]
  },
  {
   "cell_type": "code",
   "execution_count": 62,
   "metadata": {},
   "outputs": [
    {
     "name": "stderr",
     "output_type": "stream",
     "text": [
      "/usr/local/lib/python3.6/dist-packages/ipykernel_launcher.py:5: MatplotlibDeprecationWarning: Adding an axes using the same arguments as a previous axes currently reuses the earlier instance.  In a future version, a new instance will always be created and returned.  Meanwhile, this warning can be suppressed, and the future behavior ensured, by passing a unique label to each axes instance.\n",
      "  \"\"\"\n"
     ]
    },
    {
     "data": {
      "image/png": "[encoded data removed]",
      "text/plain": [
       "<Figure size 432x288 with 1 Axes>"
      ]
     },
     "metadata": {
      "needs_background": "light"
     },
     "output_type": "display_data"
    }
   ],
   "source": [
    "summarize_diagnostics(model.history.history)"
   ]
  },
  {
   "cell_type": "markdown",
   "metadata": {},
   "source": [
    "# 6.2 Bi-Directional LSTM"
   ]
  },
  {
   "cell_type": "code",
   "execution_count": 76,
   "metadata": {},
   "outputs": [],
   "source": [
    "model = define_model(input_shape, output_shape,BiDir=True, no_of_units=300)"
   ]
  },
  {
   "cell_type": "code",
   "execution_count": 77,
   "metadata": {},
   "outputs": [
    {
     "name": "stdout",
     "output_type": "stream",
     "text": [
      "Train on 17621 samples, validate on 1958 samples\n",
      "Epoch 1/100\n",
      "17621/17621 [==============================] - 103s 6ms/sample - loss: 1.0070 - val_loss: 0.9010\n",
      "Epoch 2/100\n",
      "17621/17621 [==============================] - 78s 4ms/sample - loss: 0.8752 - val_loss: 0.8077\n",
      "Epoch 3/100\n",
      "17621/17621 [==============================] - 76s 4ms/sample - loss: 0.8252 - val_loss: 0.7349\n",
      "Epoch 4/100\n",
      "17621/17621 [==============================] - 78s 4ms/sample - loss: 0.7988 - val_loss: 0.7332\n",
      "Epoch 5/100\n",
      "17621/17621 [==============================] - 73s 4ms/sample - loss: 0.7837 - val_loss: 0.7149\n",
      "Epoch 6/100\n",
      "17621/17621 [==============================] - 79s 4ms/sample - loss: 0.7537 - val_loss: 0.6988\n",
      "Epoch 7/100\n",
      "17621/17621 [==============================] - 80s 5ms/sample - loss: 0.7430 - val_loss: 0.6935\n",
      "Epoch 8/100\n",
      "17621/17621 [==============================] - 79s 4ms/sample - loss: 0.7151 - val_loss: 0.6646\n",
      "Epoch 9/100\n",
      "17621/17621 [==============================] - 77s 4ms/sample - loss: 0.6907 - val_loss: 0.6627\n",
      "Epoch 10/100\n",
      "17621/17621 [==============================] - 76s 4ms/sample - loss: 0.6741 - val_loss: 0.6586\n",
      "Epoch 11/100\n",
      "17621/17621 [==============================] - 73s 4ms/sample - loss: 0.6495 - val_loss: 0.6388\n",
      "Epoch 12/100\n",
      "17621/17621 [==============================] - 72s 4ms/sample - loss: 0.6251 - val_loss: 0.6104\n",
      "Epoch 13/100\n",
      "17621/17621 [==============================] - 76s 4ms/sample - loss: 0.5917 - val_loss: 0.5898\n",
      "Epoch 14/100\n",
      "17621/17621 [==============================] - 72s 4ms/sample - loss: 0.5760 - val_loss: 0.5745\n",
      "Epoch 15/100\n",
      "17621/17621 [==============================] - 72s 4ms/sample - loss: 0.5496 - val_loss: 0.5740\n",
      "Epoch 16/100\n",
      "17621/17621 [==============================] - 76s 4ms/sample - loss: 0.5233 - val_loss: 0.5684\n",
      "Epoch 17/100\n",
      "17621/17621 [==============================] - 84s 5ms/sample - loss: 0.5116 - val_loss: 0.5806\n",
      "Epoch 18/100\n",
      "17621/17621 [==============================] - 73s 4ms/sample - loss: 0.5010 - val_loss: 0.5716\n",
      "Epoch 19/100\n",
      "17621/17621 [==============================] - 80s 5ms/sample - loss: 0.4715 - val_loss: 0.5558\n",
      "Epoch 20/100\n",
      "17621/17621 [==============================] - 79s 4ms/sample - loss: 0.4561 - val_loss: 0.5591\n",
      "Epoch 21/100\n",
      "17621/17621 [==============================] - 87s 5ms/sample - loss: 0.4281 - val_loss: 0.5418\n",
      "Epoch 22/100\n",
      "17621/17621 [==============================] - 78s 4ms/sample - loss: 0.4215 - val_loss: 0.5488\n",
      "Epoch 23/100\n",
      "17621/17621 [==============================] - 80s 5ms/sample - loss: 0.4035 - val_loss: 0.5420\n",
      "Epoch 24/100\n",
      "17621/17621 [==============================] - 78s 4ms/sample - loss: 0.3878 - val_loss: 0.5395\n",
      "Epoch 25/100\n",
      "17621/17621 [==============================] - 81s 5ms/sample - loss: 0.3805 - val_loss: 0.5375\n",
      "Epoch 26/100\n",
      "17621/17621 [==============================] - 83s 5ms/sample - loss: 0.3658 - val_loss: 0.5607\n",
      "Epoch 27/100\n",
      "17621/17621 [==============================] - 79s 4ms/sample - loss: 0.3510 - val_loss: 0.5458\n",
      "Epoch 28/100\n",
      "17621/17621 [==============================] - 84s 5ms/sample - loss: 0.3297 - val_loss: 0.5687\n",
      "Epoch 29/100\n",
      "17621/17621 [==============================] - 82s 5ms/sample - loss: 0.3218 - val_loss: 0.5622\n",
      "Epoch 30/100\n",
      "17621/17621 [==============================] - 83s 5ms/sample - loss: 0.3112 - val_loss: 0.5649\n"
     ]
    },
    {
     "data": {
      "text/plain": [
       "<tensorflow.python.keras.callbacks.History at 0x7efdb02ae4e0>"
      ]
     },
     "execution_count": 77,
     "metadata": {},
     "output_type": "execute_result"
    }
   ],
   "source": [
    "model.fit(xtrain_pad, y=ytrain_enc, batch_size=512, epochs=100, \n",
    "          verbose=1, validation_data=(xvalid_pad, yvalid_enc), \n",
    "          callbacks=[earlystop])"
   ]
  },
  {
   "cell_type": "code",
   "execution_count": 78,
   "metadata": {},
   "outputs": [
    {
     "name": "stderr",
     "output_type": "stream",
     "text": [
      "/usr/local/lib/python3.6/dist-packages/ipykernel_launcher.py:5: MatplotlibDeprecationWarning: Adding an axes using the same arguments as a previous axes currently reuses the earlier instance.  In a future version, a new instance will always be created and returned.  Meanwhile, this warning can be suppressed, and the future behavior ensured, by passing a unique label to each axes instance.\n",
      "  \"\"\"\n"
     ]
    },
    {
     "data": {
      "image/png": "[encoded data removed]",
      "text/plain": [
       "<Figure size 432x288 with 1 Axes>"
      ]
     },
     "metadata": {
      "needs_background": "light"
     },
     "output_type": "display_data"
    }
   ],
   "source": [
    "summarize_diagnostics(model.history.history)"
   ]
  },
  {
   "cell_type": "markdown",
   "metadata": {},
   "source": [
    "# 6.3 GRU"
   ]
  },
  {
   "cell_type": "code",
   "execution_count": 79,
   "metadata": {},
   "outputs": [],
   "source": [
    "# GRU with glove embeddings and two dense layers\n",
    "def define_model_GRU(input_shape, output_shape):\n",
    "    model = Sequential()\n",
    "    model.add(Embedding(input_shape[0],input_shape[1],weights=[embedding_matrix],input_length=max_len,\n",
    "                         trainable=False))\n",
    "    model.add(SpatialDropout1D(0.3))\n",
    "    model.add(SpatialDropout1D(0.3))\n",
    "    \n",
    "    model.add(GRU(300, dropout=0.3, recurrent_dropout=0.3, return_sequences=True))\n",
    "    model.add(GRU(300, dropout=0.3, recurrent_dropout=0.3))\n",
    "    \n",
    "    model.add(Dense(1024, activation='relu'))\n",
    "    model.add(Dropout(0.5))\n",
    "\n",
    "    model.add(Dense(1024, activation='relu'))\n",
    "    model.add(Dropout(0.5))\n",
    "\n",
    "    model.add(Dense(output_shape))\n",
    "    model.add(Activation('softmax'))\n",
    "    model.compile(loss='categorical_crossentropy', optimizer='adam')\n",
    "    return model"
   ]
  },
  {
   "cell_type": "code",
   "execution_count": 80,
   "metadata": {},
   "outputs": [],
   "source": [
    "model = define_model_GRU(input_shape, output_shape)"
   ]
  },
  {
   "cell_type": "code",
   "execution_count": 81,
   "metadata": {},
   "outputs": [
    {
     "name": "stdout",
     "output_type": "stream",
     "text": [
      "Train on 17621 samples, validate on 1958 samples\n",
      "Epoch 1/100\n",
      "17621/17621 [==============================] - 73s 4ms/sample - loss: 1.0624 - val_loss: 0.9609\n",
      "Epoch 2/100\n",
      "17621/17621 [==============================] - 78s 4ms/sample - loss: 0.9639 - val_loss: 0.8712\n",
      "Epoch 3/100\n",
      "17621/17621 [==============================] - 72s 4ms/sample - loss: 0.9136 - val_loss: 0.8190\n",
      "Epoch 4/100\n",
      "17621/17621 [==============================] - 72s 4ms/sample - loss: 0.8694 - val_loss: 0.7841\n",
      "Epoch 5/100\n",
      "17621/17621 [==============================] - 73s 4ms/sample - loss: 0.8456 - val_loss: 0.7430\n",
      "Epoch 6/100\n",
      "17621/17621 [==============================] - 72s 4ms/sample - loss: 0.8249 - val_loss: 0.7273\n",
      "Epoch 7/100\n",
      "17621/17621 [==============================] - 66s 4ms/sample - loss: 0.8095 - val_loss: 0.7082\n",
      "Epoch 8/100\n",
      "17621/17621 [==============================] - 69s 4ms/sample - loss: 0.7944 - val_loss: 0.6992\n",
      "Epoch 9/100\n",
      "17621/17621 [==============================] - 70s 4ms/sample - loss: 0.7626 - val_loss: 0.6958\n",
      "Epoch 10/100\n",
      "17621/17621 [==============================] - 76s 4ms/sample - loss: 0.7541 - val_loss: 0.6568\n",
      "Epoch 11/100\n",
      "17621/17621 [==============================] - 68s 4ms/sample - loss: 0.7365 - val_loss: 0.6590\n",
      "Epoch 12/100\n",
      "17621/17621 [==============================] - 66s 4ms/sample - loss: 0.7203 - val_loss: 0.6184\n",
      "Epoch 13/100\n",
      "17621/17621 [==============================] - 66s 4ms/sample - loss: 0.6972 - val_loss: 0.6119\n",
      "Epoch 14/100\n",
      "17621/17621 [==============================] - 70s 4ms/sample - loss: 0.6848 - val_loss: 0.6559\n",
      "Epoch 15/100\n",
      "17621/17621 [==============================] - 65s 4ms/sample - loss: 0.6759 - val_loss: 0.5875\n",
      "Epoch 16/100\n",
      "17621/17621 [==============================] - 65s 4ms/sample - loss: 0.6515 - val_loss: 0.5812\n",
      "Epoch 17/100\n",
      "17621/17621 [==============================] - 65s 4ms/sample - loss: 0.6385 - val_loss: 0.5763\n",
      "Epoch 18/100\n",
      "17621/17621 [==============================] - 66s 4ms/sample - loss: 0.6291 - val_loss: 0.5703\n",
      "Epoch 19/100\n",
      "17621/17621 [==============================] - 67s 4ms/sample - loss: 0.6159 - val_loss: 0.5648\n",
      "Epoch 20/100\n",
      "17621/17621 [==============================] - 65s 4ms/sample - loss: 0.6151 - val_loss: 0.5761\n",
      "Epoch 21/100\n",
      "17621/17621 [==============================] - 67s 4ms/sample - loss: 0.5880 - val_loss: 0.5513\n",
      "Epoch 22/100\n",
      "17621/17621 [==============================] - 67s 4ms/sample - loss: 0.5792 - val_loss: 0.5658\n",
      "Epoch 23/100\n",
      "17621/17621 [==============================] - 68s 4ms/sample - loss: 0.5759 - val_loss: 0.5611\n",
      "Epoch 24/100\n",
      "17621/17621 [==============================] - 70s 4ms/sample - loss: 0.5614 - val_loss: 0.5385\n",
      "Epoch 25/100\n",
      "17621/17621 [==============================] - 70s 4ms/sample - loss: 0.5447 - val_loss: 0.5428\n",
      "Epoch 26/100\n",
      "17621/17621 [==============================] - 66s 4ms/sample - loss: 0.5483 - val_loss: 0.5241\n",
      "Epoch 27/100\n",
      "17621/17621 [==============================] - 66s 4ms/sample - loss: 0.5242 - val_loss: 0.5305\n",
      "Epoch 28/100\n",
      "17621/17621 [==============================] - 66s 4ms/sample - loss: 0.5242 - val_loss: 0.5428\n",
      "Epoch 29/100\n",
      "17621/17621 [==============================] - 68s 4ms/sample - loss: 0.5225 - val_loss: 0.5392\n",
      "Epoch 30/100\n",
      "17621/17621 [==============================] - 67s 4ms/sample - loss: 0.5100 - val_loss: 0.5217\n",
      "Epoch 31/100\n",
      "17621/17621 [==============================] - 68s 4ms/sample - loss: 0.4987 - val_loss: 0.5197\n",
      "Epoch 32/100\n",
      "17621/17621 [==============================] - 66s 4ms/sample - loss: 0.4890 - val_loss: 0.5224\n",
      "Epoch 33/100\n",
      "17621/17621 [==============================] - 65s 4ms/sample - loss: 0.4795 - val_loss: 0.5278\n",
      "Epoch 34/100\n",
      "17621/17621 [==============================] - 66s 4ms/sample - loss: 0.4758 - val_loss: 0.5413\n",
      "Epoch 35/100\n",
      "17621/17621 [==============================] - 90s 5ms/sample - loss: 0.4655 - val_loss: 0.5153\n",
      "Epoch 36/100\n",
      "17621/17621 [==============================] - 642s 36ms/sample - loss: 0.4520 - val_loss: 0.5153\n",
      "Epoch 37/100\n",
      "17621/17621 [==============================] - 69s 4ms/sample - loss: 0.4503 - val_loss: 0.5399\n",
      "Epoch 38/100\n",
      "17621/17621 [==============================] - 64s 4ms/sample - loss: 0.4454 - val_loss: 0.5269\n",
      "Epoch 39/100\n",
      "17621/17621 [==============================] - 66s 4ms/sample - loss: 0.4467 - val_loss: 0.5196\n",
      "Epoch 40/100\n",
      "17621/17621 [==============================] - 69s 4ms/sample - loss: 0.4348 - val_loss: 0.5165\n"
     ]
    },
    {
     "data": {
      "text/plain": [
       "<tensorflow.python.keras.callbacks.History at 0x7efd92d055c0>"
      ]
     },
     "execution_count": 81,
     "metadata": {},
     "output_type": "execute_result"
    }
   ],
   "source": [
    "model.fit(xtrain_pad, y=ytrain_enc, batch_size=512, epochs=100, \n",
    "          verbose=1, validation_data=(xvalid_pad, yvalid_enc), \n",
    "          callbacks=[earlystop])"
   ]
  },
  {
   "cell_type": "code",
   "execution_count": 107,
   "metadata": {},
   "outputs": [
    {
     "name": "stderr",
     "output_type": "stream",
     "text": [
      "/usr/local/lib/python3.6/dist-packages/ipykernel_launcher.py:5: MatplotlibDeprecationWarning: Adding an axes using the same arguments as a previous axes currently reuses the earlier instance.  In a future version, a new instance will always be created and returned.  Meanwhile, this warning can be suppressed, and the future behavior ensured, by passing a unique label to each axes instance.\n",
      "  \"\"\"\n"
     ]
    },
    {
     "data": {
      "image/png": "[encoded data removed]",
      "text/plain": [
       "<Figure size 432x288 with 1 Axes>"
      ]
     },
     "metadata": {
      "needs_background": "light"
     },
     "output_type": "display_data"
    }
   ],
   "source": [
    "summarize_diagnostics(model.history.history)"
   ]
  },
  {
   "cell_type": "code",
   "execution_count": 86,
   "metadata": {},
   "outputs": [
    {
     "data": {
      "text/plain": [
       "0.5153160764321122"
      ]
     },
     "execution_count": 86,
     "metadata": {},
     "output_type": "execute_result"
    }
   ],
   "source": [
    "min_val_loss = np.min(model.history.history['val_loss'])\n",
    "min_val_loss"
   ]
  },
  {
   "cell_type": "raw",
   "metadata": {},
   "source": [
    "The model improved from \n",
    "    LSTM: 0.5170594178315202 to\n",
    "    GRU: 0.5153160764321122"
   ]
  },
  {
   "cell_type": "code",
   "execution_count": 109,
   "metadata": {},
   "outputs": [
    {
     "data": {
      "text/plain": [
       "(17621, 70)"
      ]
     },
     "execution_count": 109,
     "metadata": {},
     "output_type": "execute_result"
    }
   ],
   "source": [
    "xtrain_pad.shape"
   ]
  },
  {
   "cell_type": "code",
   "execution_count": 120,
   "metadata": {},
   "outputs": [
    {
     "data": {
      "text/plain": [
       "(70,)"
      ]
     },
     "execution_count": 120,
     "metadata": {},
     "output_type": "execute_result"
    }
   ],
   "source": [
    "xtrain_pad[0].shape"
   ]
  },
  {
   "cell_type": "code",
   "execution_count": 125,
   "metadata": {},
   "outputs": [
    {
     "data": {
      "text/plain": [
       "(1, 70)"
      ]
     },
     "execution_count": 125,
     "metadata": {},
     "output_type": "execute_result"
    }
   ],
   "source": [
    "test = np.expand_dims(xtrain_pad[10], axis=0)\n",
    "test.shape"
   ]
  },
  {
   "cell_type": "code",
   "execution_count": 126,
   "metadata": {},
   "outputs": [
    {
     "data": {
      "text/plain": [
       "array([2])"
      ]
     },
     "execution_count": 126,
     "metadata": {},
     "output_type": "execute_result"
    }
   ],
   "source": [
    "model.predict_classes(test)"
   ]
  },
  {
   "cell_type": "code",
   "execution_count": 128,
   "metadata": {},
   "outputs": [
    {
     "data": {
      "text/plain": [
       "array([0., 0., 1.], dtype=float32)"
      ]
     },
     "execution_count": 128,
     "metadata": {},
     "output_type": "execute_result"
    }
   ],
   "source": [
    "ytrain_enc[10]"
   ]
  },
  {
   "cell_type": "markdown",
   "metadata": {},
   "source": [
    "# 7. Ensembling"
   ]
  },
  {
   "cell_type": "code",
   "execution_count": 90,
   "metadata": {},
   "outputs": [],
   "source": [
    "from sklearn.model_selection import StratifiedKFold, KFold\n",
    "from sklearn.metrics import roc_auc_score\n",
    "import os\n",
    "import sys\n",
    "import logging"
   ]
  },
  {
   "cell_type": "code",
   "execution_count": 91,
   "metadata": {},
   "outputs": [],
   "source": [
    "logging.basicConfig(\n",
    "    level=logging.DEBUG,\n",
    "    format=\"[%(asctime)s] %(levelname)s %(message)s\",\n",
    "    datefmt=\"%H:%M:%S\", stream=sys.stdout)\n",
    "logger = logging.getLogger(__name__)"
   ]
  },
  {
   "cell_type": "code",
   "execution_count": 92,
   "metadata": {},
   "outputs": [],
   "source": [
    "class Ensembler(object):\n",
    "    def __init__(self, model_dict, num_folds=3, task_type='classification'\n",
    "                 , optimize=roc_auc_score,lower_is_better=False, \n",
    "                 save_path=None):\n",
    "        \"\"\"\n",
    "        Ensembler init function\n",
    "        :param model_dict: model dictionary, see README for its format\n",
    "        :param num_folds: the number of folds for ensembling\n",
    "        :param task_type: classification or regression\n",
    "        :param optimize: the function to optimize for, e.g. AUC, logloss, etc. Must have two arguments y_test and y_pred\n",
    "        :param lower_is_better: is lower value of optimization function better or higher\n",
    "        :param save_path: path to which model pickles will be dumped to along with generated predictions, or None\n",
    "        \"\"\"\n",
    "\n",
    "        self.model_dict = model_dict\n",
    "        self.levels = len(self.model_dict)\n",
    "        self.num_folds = num_folds\n",
    "        self.task_type = task_type\n",
    "        self.optimize = optimize\n",
    "        self.lower_is_better = lower_is_better\n",
    "        self.save_path = save_path\n",
    "\n",
    "        self.training_data = None\n",
    "        self.test_data = None\n",
    "        self.y = None\n",
    "        self.lbl_enc = None\n",
    "        self.y_enc = None\n",
    "        self.train_prediction_dict = None\n",
    "        self.test_prediction_dict = None\n",
    "        self.num_classes = None\n",
    "\n",
    "    def fit(self, training_data, y, lentrain):\n",
    "        \"\"\"\n",
    "        :param training_data: training data in tabular format\n",
    "        :param y: binary, multi-class or regression\n",
    "        :return: chain of models to be used in prediction\n",
    "        \"\"\"\n",
    "\n",
    "        self.training_data = training_data\n",
    "        self.y = y\n",
    "\n",
    "        if self.task_type == 'classification':\n",
    "            self.num_classes = len(np.unique(self.y))\n",
    "            logger.info(\"Found %d classes\", self.num_classes)\n",
    "            self.lbl_enc = LabelEncoder()\n",
    "            self.y_enc = self.lbl_enc.fit_transform(self.y)\n",
    "            kf = StratifiedKFold(n_splits=self.num_folds)\n",
    "            train_prediction_shape = (lentrain, self.num_classes)\n",
    "        else:\n",
    "            self.num_classes = -1\n",
    "            self.y_enc = self.y\n",
    "            kf = KFold(n_splits=self.num_folds)\n",
    "            train_prediction_shape = (lentrain, 1)\n",
    "\n",
    "        self.train_prediction_dict = {}\n",
    "        for level in range(self.levels):\n",
    "            self.train_prediction_dict[level] = np.zeros(\n",
    "                (train_prediction_shape[0],\n",
    "                 train_prediction_shape[1] * len(self.model_dict[level])))\n",
    "\n",
    "        for level in range(self.levels):\n",
    "\n",
    "            if level == 0:\n",
    "                temp_train = self.training_data\n",
    "            else:\n",
    "                temp_train = self.train_prediction_dict[level - 1]\n",
    "\n",
    "            for model_num, model in enumerate(self.model_dict[level]):\n",
    "                validation_scores = []\n",
    "                foldnum = 1\n",
    "                for train_index, valid_index in kf.split(\n",
    "                    self.train_prediction_dict[0], self.y_enc):\n",
    "                    \n",
    "                    logger.info(\"Training Level %d Fold # %d. Model # %d\", \n",
    "                                level, foldnum, model_num)\n",
    "\n",
    "                    if level != 0:\n",
    "                        l_training_data = temp_train[train_index]\n",
    "                        l_validation_data = temp_train[valid_index]\n",
    "                        model.fit(l_training_data, self.y_enc[train_index])\n",
    "                    else:\n",
    "                        l0_training_data = temp_train[0][model_num]\n",
    "                        if type(l0_training_data) == list:\n",
    "                            l_training_data = [x[train_index] for x in l0_training_data]\n",
    "                            l_validation_data = [x[valid_index] for x in l0_training_data]\n",
    "                        else:\n",
    "                            l_training_data = l0_training_data[train_index]\n",
    "                            l_validation_data = l0_training_data[valid_index]\n",
    "                        model.fit(l_training_data, self.y_enc[train_index])\n",
    "\n",
    "                    logger.info(\"Predicting Level %d. Fold # %d. Model # %d\", level, foldnum, model_num)\n",
    "\n",
    "                    if self.task_type == 'classification':\n",
    "                        temp_train_predictions = model.predict_proba(l_validation_data)\n",
    "                        self.train_prediction_dict[level][valid_index,\n",
    "                        (model_num * self.num_classes):(model_num * self.num_classes) +\n",
    "                                                       self.num_classes] = temp_train_predictions\n",
    "\n",
    "                    else:\n",
    "                        temp_train_predictions = model.predict(l_validation_data)\n",
    "                        self.train_prediction_dict[level][valid_index, model_num] = temp_train_predictions\n",
    "                    validation_score = self.optimize(self.y_enc[valid_index], temp_train_predictions)\n",
    "                    validation_scores.append(validation_score)\n",
    "                    logger.info(\"Level %d. Fold # %d. Model # %d. Validation Score = %f\", level, foldnum, model_num,\n",
    "                                validation_score)\n",
    "                    foldnum += 1\n",
    "                avg_score = np.mean(validation_scores)\n",
    "                std_score = np.std(validation_scores)\n",
    "                logger.info(\"Level %d. Model # %d. Mean Score = %f. Std Dev = %f\", level, model_num,\n",
    "                            avg_score, std_score)\n",
    "\n",
    "            logger.info(\"Saving predictions for level # %d\", level)\n",
    "            train_predictions_df = pd.DataFrame(self.train_prediction_dict[level])\n",
    "            train_predictions_df.to_csv(os.path.join(self.save_path, \"train_predictions_level_\" + str(level) + \".csv\"),\n",
    "                                        index=False, header=None)\n",
    "\n",
    "        return self.train_prediction_dict\n",
    "\n",
    "    def predict(self, test_data, lentest):\n",
    "        self.test_data = test_data\n",
    "        if self.task_type == 'classification':\n",
    "            test_prediction_shape = (lentest, self.num_classes)\n",
    "        else:\n",
    "            test_prediction_shape = (lentest, 1)\n",
    "\n",
    "        self.test_prediction_dict = {}\n",
    "        for level in range(self.levels):\n",
    "            self.test_prediction_dict[level] = np.zeros((test_prediction_shape[0],\n",
    "                                                         test_prediction_shape[1] * len(self.model_dict[level])))\n",
    "        self.test_data = test_data\n",
    "        for level in range(self.levels):\n",
    "            if level == 0:\n",
    "                temp_train = self.training_data\n",
    "                temp_test = self.test_data\n",
    "            else:\n",
    "                temp_train = self.train_prediction_dict[level - 1]\n",
    "                temp_test = self.test_prediction_dict[level - 1]\n",
    "\n",
    "            for model_num, model in enumerate(self.model_dict[level]):\n",
    "\n",
    "                logger.info(\"Training Fulldata Level %d. Model # %d\", level, model_num)\n",
    "                if level == 0:\n",
    "                    model.fit(temp_train[0][model_num], self.y_enc)\n",
    "                else:\n",
    "                    model.fit(temp_train, self.y_enc)\n",
    "\n",
    "                logger.info(\"Predicting Test Level %d. Model # %d\", level, model_num)\n",
    "\n",
    "                if self.task_type == 'classification':\n",
    "                    if level == 0:\n",
    "                        temp_test_predictions = model.predict_proba(temp_test[0][model_num])\n",
    "                    else:\n",
    "                        temp_test_predictions = model.predict_proba(temp_test)\n",
    "                    self.test_prediction_dict[level][:, (model_num * self.num_classes): (model_num * self.num_classes) +\n",
    "                                                                                        self.num_classes] = temp_test_predictions\n",
    "\n",
    "                else:\n",
    "                    if level == 0:\n",
    "                        temp_test_predictions = model.predict(temp_test[0][model_num])\n",
    "                    else:\n",
    "                        temp_test_predictions = model.predict(temp_test)\n",
    "                    self.test_prediction_dict[level][:, model_num] = temp_test_predictions\n",
    "\n",
    "            test_predictions_df = pd.DataFrame(self.test_prediction_dict[level])\n",
    "            test_predictions_df.to_csv(os.path.join(self.save_path, \"test_predictions_level_\" + str(level) + \".csv\"),\n",
    "                                       index=False, header=None)\n",
    "\n",
    "        return self.test_prediction_dict"
   ]
  },
  {
   "cell_type": "code",
   "execution_count": 93,
   "metadata": {},
   "outputs": [],
   "source": [
    "# specify the data to be used for every level of ensembling:\n",
    "train_data_dict = {0: [x_tfidf, x_ctv, x_tfidf, x_ctv], \n",
    "                   1: [xtrain_glove]}\n",
    "test_data_dict = {0: [v_tfidf, v_ctv, v_tfidf, v_ctv], \n",
    "                  1: [xvalid_glove]}"
   ]
  },
  {
   "cell_type": "code",
   "execution_count": 95,
   "metadata": {},
   "outputs": [],
   "source": [
    "model_dict = {0: [LogisticRegression(), LogisticRegression(), \n",
    "                  MultinomialNB(alpha=0.1), MultinomialNB()],\n",
    "              1: [XGBClassifier(silent=True, n_estimators=120, \n",
    "                                    max_depth=7)]}"
   ]
  },
  {
   "cell_type": "code",
   "execution_count": 96,
   "metadata": {},
   "outputs": [],
   "source": [
    "ens = Ensembler(model_dict=model_dict, num_folds=3, \n",
    "                task_type='classification',\n",
    "                optimize=multiclass_logloss, lower_is_better=True, \n",
    "                save_path='')"
   ]
  },
  {
   "cell_type": "code",
   "execution_count": 97,
   "metadata": {},
   "outputs": [
    {
     "name": "stdout",
     "output_type": "stream",
     "text": [
      "[17:24:22] INFO Found 3 classes\n",
      "[17:24:22] INFO Training Level 0 Fold # 1. Model # 0\n",
      "[17:24:24] INFO Predicting Level 0. Fold # 1. Model # 0\n",
      "[17:24:24] INFO Level 0. Fold # 1. Model # 0. Validation Score = 0.626621\n",
      "[17:24:24] INFO Training Level 0 Fold # 2. Model # 0\n"
     ]
    },
    {
     "name": "stderr",
     "output_type": "stream",
     "text": [
      "/usr/local/lib/python3.6/dist-packages/sklearn/linear_model/_logistic.py:940: ConvergenceWarning: lbfgs failed to converge (status=1):\n",
      "STOP: TOTAL NO. of ITERATIONS REACHED LIMIT.\n",
      "\n",
      "Increase the number of iterations (max_iter) or scale the data as shown in:\n",
      "    https://scikit-learn.org/stable/modules/preprocessing.html\n",
      "Please also refer to the documentation for alternative solver options:\n",
      "    https://scikit-learn.org/stable/modules/linear_model.html#logistic-regression\n",
      "  extra_warning_msg=_LOGISTIC_SOLVER_CONVERGENCE_MSG)\n"
     ]
    },
    {
     "name": "stdout",
     "output_type": "stream",
     "text": [
      "[17:24:26] INFO Predicting Level 0. Fold # 2. Model # 0\n",
      "[17:24:26] INFO Level 0. Fold # 2. Model # 0. Validation Score = 0.616458\n",
      "[17:24:26] INFO Training Level 0 Fold # 3. Model # 0\n",
      "[17:24:28] INFO Predicting Level 0. Fold # 3. Model # 0\n",
      "[17:24:28] INFO Level 0. Fold # 3. Model # 0. Validation Score = 0.619625\n",
      "[17:24:28] INFO Level 0. Model # 0. Mean Score = 0.620901. Std Dev = 0.004246\n",
      "[17:24:28] INFO Training Level 0 Fold # 1. Model # 1\n"
     ]
    },
    {
     "name": "stderr",
     "output_type": "stream",
     "text": [
      "/usr/local/lib/python3.6/dist-packages/sklearn/linear_model/_logistic.py:940: ConvergenceWarning: lbfgs failed to converge (status=1):\n",
      "STOP: TOTAL NO. of ITERATIONS REACHED LIMIT.\n",
      "\n",
      "Increase the number of iterations (max_iter) or scale the data as shown in:\n",
      "    https://scikit-learn.org/stable/modules/preprocessing.html\n",
      "Please also refer to the documentation for alternative solver options:\n",
      "    https://scikit-learn.org/stable/modules/linear_model.html#logistic-regression\n",
      "  extra_warning_msg=_LOGISTIC_SOLVER_CONVERGENCE_MSG)\n"
     ]
    },
    {
     "name": "stdout",
     "output_type": "stream",
     "text": [
      "[17:24:54] INFO Predicting Level 0. Fold # 1. Model # 1\n",
      "[17:24:54] INFO Level 0. Fold # 1. Model # 1. Validation Score = 0.573485\n",
      "[17:24:54] INFO Training Level 0 Fold # 2. Model # 1\n",
      "[17:25:17] INFO Predicting Level 0. Fold # 2. Model # 1\n",
      "[17:25:17] INFO Level 0. Fold # 2. Model # 1. Validation Score = 0.563451\n",
      "[17:25:17] INFO Training Level 0 Fold # 3. Model # 1\n",
      "[17:25:39] INFO Predicting Level 0. Fold # 3. Model # 1\n",
      "[17:25:39] INFO Level 0. Fold # 3. Model # 1. Validation Score = 0.567765\n",
      "[17:25:39] INFO Level 0. Model # 1. Mean Score = 0.568233. Std Dev = 0.004110\n",
      "[17:25:39] INFO Training Level 0 Fold # 1. Model # 2\n",
      "[17:25:39] INFO Predicting Level 0. Fold # 1. Model # 2\n",
      "[17:25:39] INFO Level 0. Fold # 1. Model # 2. Validation Score = 0.463292\n",
      "[17:25:39] INFO Training Level 0 Fold # 2. Model # 2\n",
      "[17:25:39] INFO Predicting Level 0. Fold # 2. Model # 2\n",
      "[17:25:39] INFO Level 0. Fold # 2. Model # 2. Validation Score = 0.456477\n",
      "[17:25:39] INFO Training Level 0 Fold # 3. Model # 2\n",
      "[17:25:39] INFO Predicting Level 0. Fold # 3. Model # 2\n",
      "[17:25:39] INFO Level 0. Fold # 3. Model # 2. Validation Score = 0.461664\n",
      "[17:25:39] INFO Level 0. Model # 2. Mean Score = 0.460478. Std Dev = 0.002906\n",
      "[17:25:39] INFO Training Level 0 Fold # 1. Model # 3\n",
      "[17:25:39] INFO Predicting Level 0. Fold # 1. Model # 3\n",
      "[17:25:39] INFO Level 0. Fold # 1. Model # 3. Validation Score = 0.472378\n",
      "[17:25:39] INFO Training Level 0 Fold # 2. Model # 3\n",
      "[17:25:39] INFO Predicting Level 0. Fold # 2. Model # 3\n",
      "[17:25:39] INFO Level 0. Fold # 2. Model # 3. Validation Score = 0.473229\n",
      "[17:25:39] INFO Training Level 0 Fold # 3. Model # 3\n",
      "[17:25:39] INFO Predicting Level 0. Fold # 3. Model # 3\n",
      "[17:25:39] INFO Level 0. Fold # 3. Model # 3. Validation Score = 0.479033\n",
      "[17:25:39] INFO Level 0. Model # 3. Mean Score = 0.474880. Std Dev = 0.002957\n",
      "[17:25:39] INFO Saving predictions for level # 0\n",
      "[17:25:40] INFO Training Level 1 Fold # 1. Model # 0\n",
      "[17:25:46] INFO Predicting Level 1. Fold # 1. Model # 0\n",
      "[17:25:46] INFO Level 1. Fold # 1. Model # 0. Validation Score = 0.485556\n",
      "[17:25:46] INFO Training Level 1 Fold # 2. Model # 0\n",
      "[17:25:48] INFO Predicting Level 1. Fold # 2. Model # 0\n",
      "[17:25:48] INFO Level 1. Fold # 2. Model # 0. Validation Score = 0.472065\n",
      "[17:25:48] INFO Training Level 1 Fold # 3. Model # 0\n",
      "[17:25:50] INFO Predicting Level 1. Fold # 3. Model # 0\n",
      "[17:25:50] INFO Level 1. Fold # 3. Model # 0. Validation Score = 0.495281\n",
      "[17:25:50] INFO Level 1. Model # 0. Mean Score = 0.484301. Std Dev = 0.009520\n",
      "[17:25:50] INFO Saving predictions for level # 1\n"
     ]
    },
    {
     "data": {
      "text/plain": [
       "{0: array([[1.82507980e-01, 5.62445949e-01, 2.55046071e-01, ...,\n",
       "         1.63905894e-03, 9.78914382e-01, 1.94465590e-02],\n",
       "        [5.81491564e-01, 8.06830731e-02, 3.37825363e-01, ...,\n",
       "         9.12471891e-01, 1.32663502e-03, 8.62014740e-02],\n",
       "        [2.93323536e-01, 1.35036429e-01, 5.71640035e-01, ...,\n",
       "         1.82118284e-02, 8.72006925e-05, 9.81700971e-01],\n",
       "        ...,\n",
       "        [7.75923272e-01, 1.26977715e-01, 9.70990128e-02, ...,\n",
       "         9.86335183e-01, 1.23153067e-02, 1.34950984e-03],\n",
       "        [1.26112693e-01, 1.58593905e-01, 7.15293402e-01, ...,\n",
       "         2.91343713e-02, 3.19121725e-02, 9.38953456e-01],\n",
       "        [4.42053774e-01, 1.84822099e-01, 3.73124127e-01, ...,\n",
       "         6.30341085e-01, 2.44825189e-02, 3.45176396e-01]]),\n",
       " 1: array([[9.07164346e-03, 9.81958687e-01, 8.96969251e-03],\n",
       "        [2.18813434e-01, 1.74064073e-03, 7.79445946e-01],\n",
       "        [2.12095324e-02, 9.45792941e-04, 9.77844715e-01],\n",
       "        ...,\n",
       "        [9.91931617e-01, 1.49883714e-03, 6.56957692e-03],\n",
       "        [1.03254123e-02, 1.27766011e-02, 9.76897955e-01],\n",
       "        [7.35851884e-01, 1.84058342e-02, 2.45742291e-01]])}"
      ]
     },
     "execution_count": 97,
     "metadata": {},
     "output_type": "execute_result"
    }
   ],
   "source": [
    "ens.fit(train_data_dict, y_train, lentrain=xtrain_glove.shape[0])"
   ]
  },
  {
   "cell_type": "code",
   "execution_count": 98,
   "metadata": {},
   "outputs": [
    {
     "name": "stdout",
     "output_type": "stream",
     "text": [
      "[17:27:11] INFO Training Fulldata Level 0. Model # 0\n",
      "[17:27:14] INFO Predicting Test Level 0. Model # 0\n",
      "[17:27:14] INFO Training Fulldata Level 0. Model # 1\n"
     ]
    },
    {
     "name": "stderr",
     "output_type": "stream",
     "text": [
      "/usr/local/lib/python3.6/dist-packages/sklearn/linear_model/_logistic.py:940: ConvergenceWarning: lbfgs failed to converge (status=1):\n",
      "STOP: TOTAL NO. of ITERATIONS REACHED LIMIT.\n",
      "\n",
      "Increase the number of iterations (max_iter) or scale the data as shown in:\n",
      "    https://scikit-learn.org/stable/modules/preprocessing.html\n",
      "Please also refer to the documentation for alternative solver options:\n",
      "    https://scikit-learn.org/stable/modules/linear_model.html#logistic-regression\n",
      "  extra_warning_msg=_LOGISTIC_SOLVER_CONVERGENCE_MSG)\n"
     ]
    },
    {
     "name": "stdout",
     "output_type": "stream",
     "text": [
      "[17:27:37] INFO Predicting Test Level 0. Model # 1\n",
      "[17:27:37] INFO Training Fulldata Level 0. Model # 2\n",
      "[17:27:37] INFO Predicting Test Level 0. Model # 2\n",
      "[17:27:37] INFO Training Fulldata Level 0. Model # 3\n",
      "[17:27:37] INFO Predicting Test Level 0. Model # 3\n"
     ]
    },
    {
     "name": "stderr",
     "output_type": "stream",
     "text": [
      "/usr/local/lib/python3.6/dist-packages/sklearn/linear_model/_logistic.py:940: ConvergenceWarning: lbfgs failed to converge (status=1):\n",
      "STOP: TOTAL NO. of ITERATIONS REACHED LIMIT.\n",
      "\n",
      "Increase the number of iterations (max_iter) or scale the data as shown in:\n",
      "    https://scikit-learn.org/stable/modules/preprocessing.html\n",
      "Please also refer to the documentation for alternative solver options:\n",
      "    https://scikit-learn.org/stable/modules/linear_model.html#logistic-regression\n",
      "  extra_warning_msg=_LOGISTIC_SOLVER_CONVERGENCE_MSG)\n"
     ]
    },
    {
     "name": "stdout",
     "output_type": "stream",
     "text": [
      "[17:27:37] INFO Training Fulldata Level 1. Model # 0\n",
      "[17:27:40] INFO Predicting Test Level 1. Model # 0\n"
     ]
    }
   ],
   "source": [
    "preds = ens.predict(test_data_dict, lentest=xvalid_glove.shape[0])"
   ]
  },
  {
   "cell_type": "code",
   "execution_count": 99,
   "metadata": {},
   "outputs": [
    {
     "data": {
      "text/plain": [
       "0.46601874174462027"
      ]
     },
     "execution_count": 99,
     "metadata": {},
     "output_type": "execute_result"
    }
   ],
   "source": [
    "# check error:\n",
    "multiclass_logloss(y_valid, preds[1])"
   ]
  },
  {
   "cell_type": "raw",
   "metadata": {},
   "source": [
    "Thus, we see that ensembling improves the score by a great extent! "
   ]
  },
  {
   "cell_type": "code",
   "execution_count": 103,
   "metadata": {},
   "outputs": [
    {
     "data": {
      "text/plain": [
       "['ensemble_clf.joblib']"
      ]
     },
     "execution_count": 103,
     "metadata": {},
     "output_type": "execute_result"
    }
   ],
   "source": [
    "from joblib import dump, load\n",
    "dump(ens, 'ensemble_clf.joblib') "
   ]
  },
  {
   "cell_type": "code",
   "execution_count": 104,
   "metadata": {},
   "outputs": [],
   "source": [
    "clf = load('ensemble_clf.joblib')"
   ]
  },
  {
   "cell_type": "code",
   "execution_count": 105,
   "metadata": {},
   "outputs": [
    {
     "name": "stdout",
     "output_type": "stream",
     "text": [
      "[17:33:35] INFO Training Fulldata Level 0. Model # 0\n",
      "[17:33:38] INFO Predicting Test Level 0. Model # 0\n",
      "[17:33:38] INFO Training Fulldata Level 0. Model # 1\n"
     ]
    },
    {
     "name": "stderr",
     "output_type": "stream",
     "text": [
      "/usr/local/lib/python3.6/dist-packages/sklearn/linear_model/_logistic.py:940: ConvergenceWarning: lbfgs failed to converge (status=1):\n",
      "STOP: TOTAL NO. of ITERATIONS REACHED LIMIT.\n",
      "\n",
      "Increase the number of iterations (max_iter) or scale the data as shown in:\n",
      "    https://scikit-learn.org/stable/modules/preprocessing.html\n",
      "Please also refer to the documentation for alternative solver options:\n",
      "    https://scikit-learn.org/stable/modules/linear_model.html#logistic-regression\n",
      "  extra_warning_msg=_LOGISTIC_SOLVER_CONVERGENCE_MSG)\n"
     ]
    },
    {
     "name": "stdout",
     "output_type": "stream",
     "text": [
      "[17:34:01] INFO Predicting Test Level 0. Model # 1\n",
      "[17:34:01] INFO Training Fulldata Level 0. Model # 2\n",
      "[17:34:01] INFO Predicting Test Level 0. Model # 2\n",
      "[17:34:01] INFO Training Fulldata Level 0. Model # 3\n",
      "[17:34:01] INFO Predicting Test Level 0. Model # 3\n",
      "[17:34:01] INFO Training Fulldata Level 1. Model # 0\n"
     ]
    },
    {
     "name": "stderr",
     "output_type": "stream",
     "text": [
      "/usr/local/lib/python3.6/dist-packages/sklearn/linear_model/_logistic.py:940: ConvergenceWarning: lbfgs failed to converge (status=1):\n",
      "STOP: TOTAL NO. of ITERATIONS REACHED LIMIT.\n",
      "\n",
      "Increase the number of iterations (max_iter) or scale the data as shown in:\n",
      "    https://scikit-learn.org/stable/modules/preprocessing.html\n",
      "Please also refer to the documentation for alternative solver options:\n",
      "    https://scikit-learn.org/stable/modules/linear_model.html#logistic-regression\n",
      "  extra_warning_msg=_LOGISTIC_SOLVER_CONVERGENCE_MSG)\n"
     ]
    },
    {
     "name": "stdout",
     "output_type": "stream",
     "text": [
      "[17:34:04] INFO Predicting Test Level 1. Model # 0\n"
     ]
    }
   ],
   "source": [
    "predict = clf.predict(test_data_dict, lentest=xvalid_glove.shape[0])"
   ]
  },
  {
   "cell_type": "code",
   "execution_count": 106,
   "metadata": {},
   "outputs": [
    {
     "data": {
      "text/plain": [
       "0.46601874174462027"
      ]
     },
     "execution_count": 106,
     "metadata": {},
     "output_type": "execute_result"
    }
   ],
   "source": [
    "# check error:\n",
    "multiclass_logloss(y_valid, predict[1])"
   ]
  },
  {
   "cell_type": "code",
   "execution_count": 108,
   "metadata": {},
   "outputs": [
    {
     "data": {
      "text/html": [
       "<div>\n",
       "<style scoped>\n",
       "    .dataframe tbody tr th:only-of-type {\n",
       "        vertical-align: middle;\n",
       "    }\n",
       "\n",
       "    .dataframe tbody tr th {\n",
       "        vertical-align: top;\n",
       "    }\n",
       "\n",
       "    .dataframe thead th {\n",
       "        text-align: right;\n",
       "    }\n",
       "</style>\n",
       "<table border=\"1\" class=\"dataframe\">\n",
       "  <thead>\n",
       "    <tr style=\"text-align: right;\">\n",
       "      <th></th>\n",
       "      <th>0.009071643464267254</th>\n",
       "      <th>0.9819586873054504</th>\n",
       "      <th>0.008969692513346672</th>\n",
       "    </tr>\n",
       "  </thead>\n",
       "  <tbody>\n",
       "    <tr>\n",
       "      <th>0</th>\n",
       "      <td>0.218813</td>\n",
       "      <td>0.001741</td>\n",
       "      <td>0.779446</td>\n",
       "    </tr>\n",
       "    <tr>\n",
       "      <th>1</th>\n",
       "      <td>0.021210</td>\n",
       "      <td>0.000946</td>\n",
       "      <td>0.977845</td>\n",
       "    </tr>\n",
       "    <tr>\n",
       "      <th>2</th>\n",
       "      <td>0.005669</td>\n",
       "      <td>0.971037</td>\n",
       "      <td>0.023294</td>\n",
       "    </tr>\n",
       "    <tr>\n",
       "      <th>3</th>\n",
       "      <td>0.002966</td>\n",
       "      <td>0.007082</td>\n",
       "      <td>0.989951</td>\n",
       "    </tr>\n",
       "    <tr>\n",
       "      <th>4</th>\n",
       "      <td>0.046584</td>\n",
       "      <td>0.005869</td>\n",
       "      <td>0.947547</td>\n",
       "    </tr>\n",
       "    <tr>\n",
       "      <th>5</th>\n",
       "      <td>0.000066</td>\n",
       "      <td>0.999887</td>\n",
       "      <td>0.000046</td>\n",
       "    </tr>\n",
       "    <tr>\n",
       "      <th>6</th>\n",
       "      <td>0.005012</td>\n",
       "      <td>0.012276</td>\n",
       "      <td>0.982712</td>\n",
       "    </tr>\n",
       "    <tr>\n",
       "      <th>7</th>\n",
       "      <td>0.312612</td>\n",
       "      <td>0.015788</td>\n",
       "      <td>0.671600</td>\n",
       "    </tr>\n",
       "    <tr>\n",
       "      <th>8</th>\n",
       "      <td>0.726404</td>\n",
       "      <td>0.224827</td>\n",
       "      <td>0.048769</td>\n",
       "    </tr>\n",
       "    <tr>\n",
       "      <th>9</th>\n",
       "      <td>0.000260</td>\n",
       "      <td>0.000025</td>\n",
       "      <td>0.999714</td>\n",
       "    </tr>\n",
       "  </tbody>\n",
       "</table>\n",
       "</div>"
      ],
      "text/plain": [
       "   0.009071643464267254  0.9819586873054504  0.008969692513346672\n",
       "0              0.218813            0.001741              0.779446\n",
       "1              0.021210            0.000946              0.977845\n",
       "2              0.005669            0.971037              0.023294\n",
       "3              0.002966            0.007082              0.989951\n",
       "4              0.046584            0.005869              0.947547\n",
       "5              0.000066            0.999887              0.000046\n",
       "6              0.005012            0.012276              0.982712\n",
       "7              0.312612            0.015788              0.671600\n",
       "8              0.726404            0.224827              0.048769\n",
       "9              0.000260            0.000025              0.999714"
      ]
     },
     "execution_count": 108,
     "metadata": {},
     "output_type": "execute_result"
    }
   ],
   "source": [
    "df = pd.read_csv('train_predictions_level_1.csv')\n",
    "df.head(10)"
   ]
  },
  {
   "cell_type": "code",
   "execution_count": null,
   "metadata": {},
   "outputs": [],
   "source": []
  }
 ],
 "metadata": {
  "file_extension": ".py",
  "kernelspec": {
   "display_name": "Python 3",
   "language": "python",
   "name": "python3"
  },
  "language_info": {
   "codemirror_mode": {
    "name": "ipython",
    "version": 3
   },
   "file_extension": ".py",
   "mimetype": "text/x-python",
   "name": "python",
   "nbconvert_exporter": "python",
   "pygments_lexer": "ipython3",
   "version": "3.6.9"
  },
  "mimetype": "text/x-python",
  "name": "python",
  "npconvert_exporter": "python",
  "pygments_lexer": "ipython3",
  "version": 3
 },
 "nbformat": 4,
 "nbformat_minor": 2
}
